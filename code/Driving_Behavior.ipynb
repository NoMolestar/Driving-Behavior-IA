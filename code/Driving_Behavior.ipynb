{
  "cells": [
    {
      "cell_type": "markdown",
      "metadata": {
        "id": "Y7L6SMmV3zVo"
      },
      "source": [
        "# Driving Behavior\n",
        "### Carlos Javier Leal Beltran A01741355\n",
        "### Carlos Moises Chavez Jimenez A01637322\n",
        "### Ernesto Adrian Alvarez Salazar A00227490\n",
        "### Luis Armando Salazar Lopez A0114901\n"
      ]
    },
    {
      "cell_type": "code",
      "execution_count": null,
      "metadata": {
        "id": "ZXWq20V-ofqi"
      },
      "outputs": [],
      "source": [
        "# Importando las librerías\n",
        "import pandas as pd\n",
        "from sklearn import svm\n",
        "import matplotlib.pyplot as plt\n",
        "import numpy as np"
      ]
    },
    {
      "cell_type": "code",
      "execution_count": null,
      "metadata": {
        "id": "RULo8H2IDOVj",
        "colab": {
          "base_uri": "https://localhost:8080/"
        },
        "outputId": "d7ae247c-d413-4e73-8707-66689b1edc97"
      },
      "outputs": [
        {
          "output_type": "stream",
          "name": "stdout",
          "text": [
            "Drive already mounted at /content/drive; to attempt to forcibly remount, call drive.mount(\"/content/drive\", force_remount=True).\n"
          ]
        }
      ],
      "source": [
        "from google.colab import drive\n",
        "drive.mount('/content/drive')"
      ]
    },
    {
      "cell_type": "markdown",
      "source": [
        "# Tratamiento y Muestreo Inicial de los Datos"
      ],
      "metadata": {
        "id": "pdWOHoP48sDs"
      }
    },
    {
      "cell_type": "code",
      "execution_count": null,
      "metadata": {
        "id": "tbApTZa9omzj"
      },
      "outputs": [],
      "source": [
        "# Importando los datos\n",
        "t_test=pd.read_csv('/content/drive/Shareddrives/Concentracion - IA para Ciencia de Datos/Reto/Dataset Driving/test_motion_data.csv')\n",
        "t_train=pd.read_csv('/content/drive/Shareddrives/Concentracion - IA para Ciencia de Datos/Reto/Dataset Driving/train_motion_data.csv')"
      ]
    },
    {
      "cell_type": "code",
      "execution_count": null,
      "metadata": {
        "colab": {
          "base_uri": "https://localhost:8080/",
          "height": 424
        },
        "id": "oPX88IYio5wE",
        "outputId": "d6fbd969-faea-46ae-9d85-f06e972ca51c"
      },
      "outputs": [
        {
          "output_type": "execute_result",
          "data": {
            "text/plain": [
              "          AccX      AccY      AccZ     GyroX     GyroY     GyroZ       Class  \\\n",
              "0     0.758194 -0.217791  0.457263  0.000000  0.000000  0.000000  AGGRESSIVE   \n",
              "1     0.667560 -0.038610  0.231416 -0.054367 -0.007712  0.225257  AGGRESSIVE   \n",
              "2     2.724449 -7.584121  2.390926  0.023824  0.013668 -0.038026  AGGRESSIVE   \n",
              "3     2.330950 -7.621754  2.529024  0.056810 -0.180587 -0.052076  AGGRESSIVE   \n",
              "4     2.847215 -6.755621  2.224640 -0.031765 -0.035201  0.035277  AGGRESSIVE   \n",
              "...        ...       ...       ...       ...       ...       ...         ...   \n",
              "3079 -0.713858 -0.652975 -0.164015 -0.147829 -1.309466  0.517250        SLOW   \n",
              "3080  1.514261  0.330070  1.020714  1.321302  1.707598 -0.674548        SLOW   \n",
              "3081  1.280216 -1.735172 -2.332695  0.583376  0.690507 -0.468075        SLOW   \n",
              "3082  0.912313  0.583314 -0.965622  0.235794  0.512745  0.406073        SLOW   \n",
              "3083  1.462172  0.190287  0.019377 -0.254731 -0.279547  0.076205        SLOW   \n",
              "\n",
              "      Timestamp  \n",
              "0        818922  \n",
              "1        818923  \n",
              "2        818923  \n",
              "3        818924  \n",
              "4        818924  \n",
              "...         ...  \n",
              "3079     820706  \n",
              "3080     820707  \n",
              "3081     820707  \n",
              "3082     820708  \n",
              "3083     820709  \n",
              "\n",
              "[3084 rows x 8 columns]"
            ],
            "text/html": [
              "\n",
              "  <div id=\"df-12177668-08f1-414e-b486-53fef6bdf16c\">\n",
              "    <div class=\"colab-df-container\">\n",
              "      <div>\n",
              "<style scoped>\n",
              "    .dataframe tbody tr th:only-of-type {\n",
              "        vertical-align: middle;\n",
              "    }\n",
              "\n",
              "    .dataframe tbody tr th {\n",
              "        vertical-align: top;\n",
              "    }\n",
              "\n",
              "    .dataframe thead th {\n",
              "        text-align: right;\n",
              "    }\n",
              "</style>\n",
              "<table border=\"1\" class=\"dataframe\">\n",
              "  <thead>\n",
              "    <tr style=\"text-align: right;\">\n",
              "      <th></th>\n",
              "      <th>AccX</th>\n",
              "      <th>AccY</th>\n",
              "      <th>AccZ</th>\n",
              "      <th>GyroX</th>\n",
              "      <th>GyroY</th>\n",
              "      <th>GyroZ</th>\n",
              "      <th>Class</th>\n",
              "      <th>Timestamp</th>\n",
              "    </tr>\n",
              "  </thead>\n",
              "  <tbody>\n",
              "    <tr>\n",
              "      <th>0</th>\n",
              "      <td>0.758194</td>\n",
              "      <td>-0.217791</td>\n",
              "      <td>0.457263</td>\n",
              "      <td>0.000000</td>\n",
              "      <td>0.000000</td>\n",
              "      <td>0.000000</td>\n",
              "      <td>AGGRESSIVE</td>\n",
              "      <td>818922</td>\n",
              "    </tr>\n",
              "    <tr>\n",
              "      <th>1</th>\n",
              "      <td>0.667560</td>\n",
              "      <td>-0.038610</td>\n",
              "      <td>0.231416</td>\n",
              "      <td>-0.054367</td>\n",
              "      <td>-0.007712</td>\n",
              "      <td>0.225257</td>\n",
              "      <td>AGGRESSIVE</td>\n",
              "      <td>818923</td>\n",
              "    </tr>\n",
              "    <tr>\n",
              "      <th>2</th>\n",
              "      <td>2.724449</td>\n",
              "      <td>-7.584121</td>\n",
              "      <td>2.390926</td>\n",
              "      <td>0.023824</td>\n",
              "      <td>0.013668</td>\n",
              "      <td>-0.038026</td>\n",
              "      <td>AGGRESSIVE</td>\n",
              "      <td>818923</td>\n",
              "    </tr>\n",
              "    <tr>\n",
              "      <th>3</th>\n",
              "      <td>2.330950</td>\n",
              "      <td>-7.621754</td>\n",
              "      <td>2.529024</td>\n",
              "      <td>0.056810</td>\n",
              "      <td>-0.180587</td>\n",
              "      <td>-0.052076</td>\n",
              "      <td>AGGRESSIVE</td>\n",
              "      <td>818924</td>\n",
              "    </tr>\n",
              "    <tr>\n",
              "      <th>4</th>\n",
              "      <td>2.847215</td>\n",
              "      <td>-6.755621</td>\n",
              "      <td>2.224640</td>\n",
              "      <td>-0.031765</td>\n",
              "      <td>-0.035201</td>\n",
              "      <td>0.035277</td>\n",
              "      <td>AGGRESSIVE</td>\n",
              "      <td>818924</td>\n",
              "    </tr>\n",
              "    <tr>\n",
              "      <th>...</th>\n",
              "      <td>...</td>\n",
              "      <td>...</td>\n",
              "      <td>...</td>\n",
              "      <td>...</td>\n",
              "      <td>...</td>\n",
              "      <td>...</td>\n",
              "      <td>...</td>\n",
              "      <td>...</td>\n",
              "    </tr>\n",
              "    <tr>\n",
              "      <th>3079</th>\n",
              "      <td>-0.713858</td>\n",
              "      <td>-0.652975</td>\n",
              "      <td>-0.164015</td>\n",
              "      <td>-0.147829</td>\n",
              "      <td>-1.309466</td>\n",
              "      <td>0.517250</td>\n",
              "      <td>SLOW</td>\n",
              "      <td>820706</td>\n",
              "    </tr>\n",
              "    <tr>\n",
              "      <th>3080</th>\n",
              "      <td>1.514261</td>\n",
              "      <td>0.330070</td>\n",
              "      <td>1.020714</td>\n",
              "      <td>1.321302</td>\n",
              "      <td>1.707598</td>\n",
              "      <td>-0.674548</td>\n",
              "      <td>SLOW</td>\n",
              "      <td>820707</td>\n",
              "    </tr>\n",
              "    <tr>\n",
              "      <th>3081</th>\n",
              "      <td>1.280216</td>\n",
              "      <td>-1.735172</td>\n",
              "      <td>-2.332695</td>\n",
              "      <td>0.583376</td>\n",
              "      <td>0.690507</td>\n",
              "      <td>-0.468075</td>\n",
              "      <td>SLOW</td>\n",
              "      <td>820707</td>\n",
              "    </tr>\n",
              "    <tr>\n",
              "      <th>3082</th>\n",
              "      <td>0.912313</td>\n",
              "      <td>0.583314</td>\n",
              "      <td>-0.965622</td>\n",
              "      <td>0.235794</td>\n",
              "      <td>0.512745</td>\n",
              "      <td>0.406073</td>\n",
              "      <td>SLOW</td>\n",
              "      <td>820708</td>\n",
              "    </tr>\n",
              "    <tr>\n",
              "      <th>3083</th>\n",
              "      <td>1.462172</td>\n",
              "      <td>0.190287</td>\n",
              "      <td>0.019377</td>\n",
              "      <td>-0.254731</td>\n",
              "      <td>-0.279547</td>\n",
              "      <td>0.076205</td>\n",
              "      <td>SLOW</td>\n",
              "      <td>820709</td>\n",
              "    </tr>\n",
              "  </tbody>\n",
              "</table>\n",
              "<p>3084 rows × 8 columns</p>\n",
              "</div>\n",
              "      <button class=\"colab-df-convert\" onclick=\"convertToInteractive('df-12177668-08f1-414e-b486-53fef6bdf16c')\"\n",
              "              title=\"Convert this dataframe to an interactive table.\"\n",
              "              style=\"display:none;\">\n",
              "        \n",
              "  <svg xmlns=\"http://www.w3.org/2000/svg\" height=\"24px\"viewBox=\"0 0 24 24\"\n",
              "       width=\"24px\">\n",
              "    <path d=\"M0 0h24v24H0V0z\" fill=\"none\"/>\n",
              "    <path d=\"M18.56 5.44l.94 2.06.94-2.06 2.06-.94-2.06-.94-.94-2.06-.94 2.06-2.06.94zm-11 1L8.5 8.5l.94-2.06 2.06-.94-2.06-.94L8.5 2.5l-.94 2.06-2.06.94zm10 10l.94 2.06.94-2.06 2.06-.94-2.06-.94-.94-2.06-.94 2.06-2.06.94z\"/><path d=\"M17.41 7.96l-1.37-1.37c-.4-.4-.92-.59-1.43-.59-.52 0-1.04.2-1.43.59L10.3 9.45l-7.72 7.72c-.78.78-.78 2.05 0 2.83L4 21.41c.39.39.9.59 1.41.59.51 0 1.02-.2 1.41-.59l7.78-7.78 2.81-2.81c.8-.78.8-2.07 0-2.86zM5.41 20L4 18.59l7.72-7.72 1.47 1.35L5.41 20z\"/>\n",
              "  </svg>\n",
              "      </button>\n",
              "      \n",
              "  <style>\n",
              "    .colab-df-container {\n",
              "      display:flex;\n",
              "      flex-wrap:wrap;\n",
              "      gap: 12px;\n",
              "    }\n",
              "\n",
              "    .colab-df-convert {\n",
              "      background-color: #E8F0FE;\n",
              "      border: none;\n",
              "      border-radius: 50%;\n",
              "      cursor: pointer;\n",
              "      display: none;\n",
              "      fill: #1967D2;\n",
              "      height: 32px;\n",
              "      padding: 0 0 0 0;\n",
              "      width: 32px;\n",
              "    }\n",
              "\n",
              "    .colab-df-convert:hover {\n",
              "      background-color: #E2EBFA;\n",
              "      box-shadow: 0px 1px 2px rgba(60, 64, 67, 0.3), 0px 1px 3px 1px rgba(60, 64, 67, 0.15);\n",
              "      fill: #174EA6;\n",
              "    }\n",
              "\n",
              "    [theme=dark] .colab-df-convert {\n",
              "      background-color: #3B4455;\n",
              "      fill: #D2E3FC;\n",
              "    }\n",
              "\n",
              "    [theme=dark] .colab-df-convert:hover {\n",
              "      background-color: #434B5C;\n",
              "      box-shadow: 0px 1px 3px 1px rgba(0, 0, 0, 0.15);\n",
              "      filter: drop-shadow(0px 1px 2px rgba(0, 0, 0, 0.3));\n",
              "      fill: #FFFFFF;\n",
              "    }\n",
              "  </style>\n",
              "\n",
              "      <script>\n",
              "        const buttonEl =\n",
              "          document.querySelector('#df-12177668-08f1-414e-b486-53fef6bdf16c button.colab-df-convert');\n",
              "        buttonEl.style.display =\n",
              "          google.colab.kernel.accessAllowed ? 'block' : 'none';\n",
              "\n",
              "        async function convertToInteractive(key) {\n",
              "          const element = document.querySelector('#df-12177668-08f1-414e-b486-53fef6bdf16c');\n",
              "          const dataTable =\n",
              "            await google.colab.kernel.invokeFunction('convertToInteractive',\n",
              "                                                     [key], {});\n",
              "          if (!dataTable) return;\n",
              "\n",
              "          const docLinkHtml = 'Like what you see? Visit the ' +\n",
              "            '<a target=\"_blank\" href=https://colab.research.google.com/notebooks/data_table.ipynb>data table notebook</a>'\n",
              "            + ' to learn more about interactive tables.';\n",
              "          element.innerHTML = '';\n",
              "          dataTable['output_type'] = 'display_data';\n",
              "          await google.colab.output.renderOutput(dataTable, element);\n",
              "          const docLink = document.createElement('div');\n",
              "          docLink.innerHTML = docLinkHtml;\n",
              "          element.appendChild(docLink);\n",
              "        }\n",
              "      </script>\n",
              "    </div>\n",
              "  </div>\n",
              "  "
            ]
          },
          "metadata": {},
          "execution_count": 4
        }
      ],
      "source": [
        "# Imprimimos los datos obtenidos del csv de prueba\n",
        "t_test"
      ]
    },
    {
      "cell_type": "code",
      "execution_count": null,
      "metadata": {
        "colab": {
          "base_uri": "https://localhost:8080/",
          "height": 424
        },
        "id": "ibo1Ba7Po69x",
        "outputId": "9537bdc8-32a1-4a8b-98c1-929e068046ad"
      },
      "outputs": [
        {
          "output_type": "execute_result",
          "data": {
            "text/plain": [
              "          AccX      AccY      AccZ     GyroX     GyroY     GyroZ   Class  \\\n",
              "0     0.000000  0.000000  0.000000  0.059407 -0.174707  0.101938  NORMAL   \n",
              "1    -1.624864 -1.082492 -0.204183 -0.028558  0.051313  0.135536  NORMAL   \n",
              "2    -0.594660 -0.122410  0.220502 -0.019395 -0.029322  0.087888  NORMAL   \n",
              "3     0.738478 -0.228456  0.667732  0.069791 -0.029932  0.054902  NORMAL   \n",
              "4     0.101741  0.777568 -0.066730  0.030696 -0.003665  0.054902  NORMAL   \n",
              "...        ...       ...       ...       ...       ...       ...     ...   \n",
              "3639  0.915688 -2.017489  1.687505  0.450360  0.384845 -1.236468    SLOW   \n",
              "3640 -1.934203  0.914925 -0.096013  0.321468  0.649350 -0.477162    SLOW   \n",
              "3641 -0.222845  0.747304 -0.887430  0.361174 -0.406836  0.054291    SLOW   \n",
              "3642 -0.349423  0.067261  0.394368 -0.132405  0.020159 -0.004963    SLOW   \n",
              "3643 -0.402428  0.406218 -0.423009 -0.053603 -0.006720  0.001145    SLOW   \n",
              "\n",
              "      Timestamp  \n",
              "0       3581629  \n",
              "1       3581630  \n",
              "2       3581630  \n",
              "3       3581631  \n",
              "4       3581631  \n",
              "...         ...  \n",
              "3639    3583789  \n",
              "3640    3583790  \n",
              "3641    3583790  \n",
              "3642    3583791  \n",
              "3643    3583791  \n",
              "\n",
              "[3644 rows x 8 columns]"
            ],
            "text/html": [
              "\n",
              "  <div id=\"df-31463540-2c88-4db9-a6f4-41372db3b68d\">\n",
              "    <div class=\"colab-df-container\">\n",
              "      <div>\n",
              "<style scoped>\n",
              "    .dataframe tbody tr th:only-of-type {\n",
              "        vertical-align: middle;\n",
              "    }\n",
              "\n",
              "    .dataframe tbody tr th {\n",
              "        vertical-align: top;\n",
              "    }\n",
              "\n",
              "    .dataframe thead th {\n",
              "        text-align: right;\n",
              "    }\n",
              "</style>\n",
              "<table border=\"1\" class=\"dataframe\">\n",
              "  <thead>\n",
              "    <tr style=\"text-align: right;\">\n",
              "      <th></th>\n",
              "      <th>AccX</th>\n",
              "      <th>AccY</th>\n",
              "      <th>AccZ</th>\n",
              "      <th>GyroX</th>\n",
              "      <th>GyroY</th>\n",
              "      <th>GyroZ</th>\n",
              "      <th>Class</th>\n",
              "      <th>Timestamp</th>\n",
              "    </tr>\n",
              "  </thead>\n",
              "  <tbody>\n",
              "    <tr>\n",
              "      <th>0</th>\n",
              "      <td>0.000000</td>\n",
              "      <td>0.000000</td>\n",
              "      <td>0.000000</td>\n",
              "      <td>0.059407</td>\n",
              "      <td>-0.174707</td>\n",
              "      <td>0.101938</td>\n",
              "      <td>NORMAL</td>\n",
              "      <td>3581629</td>\n",
              "    </tr>\n",
              "    <tr>\n",
              "      <th>1</th>\n",
              "      <td>-1.624864</td>\n",
              "      <td>-1.082492</td>\n",
              "      <td>-0.204183</td>\n",
              "      <td>-0.028558</td>\n",
              "      <td>0.051313</td>\n",
              "      <td>0.135536</td>\n",
              "      <td>NORMAL</td>\n",
              "      <td>3581630</td>\n",
              "    </tr>\n",
              "    <tr>\n",
              "      <th>2</th>\n",
              "      <td>-0.594660</td>\n",
              "      <td>-0.122410</td>\n",
              "      <td>0.220502</td>\n",
              "      <td>-0.019395</td>\n",
              "      <td>-0.029322</td>\n",
              "      <td>0.087888</td>\n",
              "      <td>NORMAL</td>\n",
              "      <td>3581630</td>\n",
              "    </tr>\n",
              "    <tr>\n",
              "      <th>3</th>\n",
              "      <td>0.738478</td>\n",
              "      <td>-0.228456</td>\n",
              "      <td>0.667732</td>\n",
              "      <td>0.069791</td>\n",
              "      <td>-0.029932</td>\n",
              "      <td>0.054902</td>\n",
              "      <td>NORMAL</td>\n",
              "      <td>3581631</td>\n",
              "    </tr>\n",
              "    <tr>\n",
              "      <th>4</th>\n",
              "      <td>0.101741</td>\n",
              "      <td>0.777568</td>\n",
              "      <td>-0.066730</td>\n",
              "      <td>0.030696</td>\n",
              "      <td>-0.003665</td>\n",
              "      <td>0.054902</td>\n",
              "      <td>NORMAL</td>\n",
              "      <td>3581631</td>\n",
              "    </tr>\n",
              "    <tr>\n",
              "      <th>...</th>\n",
              "      <td>...</td>\n",
              "      <td>...</td>\n",
              "      <td>...</td>\n",
              "      <td>...</td>\n",
              "      <td>...</td>\n",
              "      <td>...</td>\n",
              "      <td>...</td>\n",
              "      <td>...</td>\n",
              "    </tr>\n",
              "    <tr>\n",
              "      <th>3639</th>\n",
              "      <td>0.915688</td>\n",
              "      <td>-2.017489</td>\n",
              "      <td>1.687505</td>\n",
              "      <td>0.450360</td>\n",
              "      <td>0.384845</td>\n",
              "      <td>-1.236468</td>\n",
              "      <td>SLOW</td>\n",
              "      <td>3583789</td>\n",
              "    </tr>\n",
              "    <tr>\n",
              "      <th>3640</th>\n",
              "      <td>-1.934203</td>\n",
              "      <td>0.914925</td>\n",
              "      <td>-0.096013</td>\n",
              "      <td>0.321468</td>\n",
              "      <td>0.649350</td>\n",
              "      <td>-0.477162</td>\n",
              "      <td>SLOW</td>\n",
              "      <td>3583790</td>\n",
              "    </tr>\n",
              "    <tr>\n",
              "      <th>3641</th>\n",
              "      <td>-0.222845</td>\n",
              "      <td>0.747304</td>\n",
              "      <td>-0.887430</td>\n",
              "      <td>0.361174</td>\n",
              "      <td>-0.406836</td>\n",
              "      <td>0.054291</td>\n",
              "      <td>SLOW</td>\n",
              "      <td>3583790</td>\n",
              "    </tr>\n",
              "    <tr>\n",
              "      <th>3642</th>\n",
              "      <td>-0.349423</td>\n",
              "      <td>0.067261</td>\n",
              "      <td>0.394368</td>\n",
              "      <td>-0.132405</td>\n",
              "      <td>0.020159</td>\n",
              "      <td>-0.004963</td>\n",
              "      <td>SLOW</td>\n",
              "      <td>3583791</td>\n",
              "    </tr>\n",
              "    <tr>\n",
              "      <th>3643</th>\n",
              "      <td>-0.402428</td>\n",
              "      <td>0.406218</td>\n",
              "      <td>-0.423009</td>\n",
              "      <td>-0.053603</td>\n",
              "      <td>-0.006720</td>\n",
              "      <td>0.001145</td>\n",
              "      <td>SLOW</td>\n",
              "      <td>3583791</td>\n",
              "    </tr>\n",
              "  </tbody>\n",
              "</table>\n",
              "<p>3644 rows × 8 columns</p>\n",
              "</div>\n",
              "      <button class=\"colab-df-convert\" onclick=\"convertToInteractive('df-31463540-2c88-4db9-a6f4-41372db3b68d')\"\n",
              "              title=\"Convert this dataframe to an interactive table.\"\n",
              "              style=\"display:none;\">\n",
              "        \n",
              "  <svg xmlns=\"http://www.w3.org/2000/svg\" height=\"24px\"viewBox=\"0 0 24 24\"\n",
              "       width=\"24px\">\n",
              "    <path d=\"M0 0h24v24H0V0z\" fill=\"none\"/>\n",
              "    <path d=\"M18.56 5.44l.94 2.06.94-2.06 2.06-.94-2.06-.94-.94-2.06-.94 2.06-2.06.94zm-11 1L8.5 8.5l.94-2.06 2.06-.94-2.06-.94L8.5 2.5l-.94 2.06-2.06.94zm10 10l.94 2.06.94-2.06 2.06-.94-2.06-.94-.94-2.06-.94 2.06-2.06.94z\"/><path d=\"M17.41 7.96l-1.37-1.37c-.4-.4-.92-.59-1.43-.59-.52 0-1.04.2-1.43.59L10.3 9.45l-7.72 7.72c-.78.78-.78 2.05 0 2.83L4 21.41c.39.39.9.59 1.41.59.51 0 1.02-.2 1.41-.59l7.78-7.78 2.81-2.81c.8-.78.8-2.07 0-2.86zM5.41 20L4 18.59l7.72-7.72 1.47 1.35L5.41 20z\"/>\n",
              "  </svg>\n",
              "      </button>\n",
              "      \n",
              "  <style>\n",
              "    .colab-df-container {\n",
              "      display:flex;\n",
              "      flex-wrap:wrap;\n",
              "      gap: 12px;\n",
              "    }\n",
              "\n",
              "    .colab-df-convert {\n",
              "      background-color: #E8F0FE;\n",
              "      border: none;\n",
              "      border-radius: 50%;\n",
              "      cursor: pointer;\n",
              "      display: none;\n",
              "      fill: #1967D2;\n",
              "      height: 32px;\n",
              "      padding: 0 0 0 0;\n",
              "      width: 32px;\n",
              "    }\n",
              "\n",
              "    .colab-df-convert:hover {\n",
              "      background-color: #E2EBFA;\n",
              "      box-shadow: 0px 1px 2px rgba(60, 64, 67, 0.3), 0px 1px 3px 1px rgba(60, 64, 67, 0.15);\n",
              "      fill: #174EA6;\n",
              "    }\n",
              "\n",
              "    [theme=dark] .colab-df-convert {\n",
              "      background-color: #3B4455;\n",
              "      fill: #D2E3FC;\n",
              "    }\n",
              "\n",
              "    [theme=dark] .colab-df-convert:hover {\n",
              "      background-color: #434B5C;\n",
              "      box-shadow: 0px 1px 3px 1px rgba(0, 0, 0, 0.15);\n",
              "      filter: drop-shadow(0px 1px 2px rgba(0, 0, 0, 0.3));\n",
              "      fill: #FFFFFF;\n",
              "    }\n",
              "  </style>\n",
              "\n",
              "      <script>\n",
              "        const buttonEl =\n",
              "          document.querySelector('#df-31463540-2c88-4db9-a6f4-41372db3b68d button.colab-df-convert');\n",
              "        buttonEl.style.display =\n",
              "          google.colab.kernel.accessAllowed ? 'block' : 'none';\n",
              "\n",
              "        async function convertToInteractive(key) {\n",
              "          const element = document.querySelector('#df-31463540-2c88-4db9-a6f4-41372db3b68d');\n",
              "          const dataTable =\n",
              "            await google.colab.kernel.invokeFunction('convertToInteractive',\n",
              "                                                     [key], {});\n",
              "          if (!dataTable) return;\n",
              "\n",
              "          const docLinkHtml = 'Like what you see? Visit the ' +\n",
              "            '<a target=\"_blank\" href=https://colab.research.google.com/notebooks/data_table.ipynb>data table notebook</a>'\n",
              "            + ' to learn more about interactive tables.';\n",
              "          element.innerHTML = '';\n",
              "          dataTable['output_type'] = 'display_data';\n",
              "          await google.colab.output.renderOutput(dataTable, element);\n",
              "          const docLink = document.createElement('div');\n",
              "          docLink.innerHTML = docLinkHtml;\n",
              "          element.appendChild(docLink);\n",
              "        }\n",
              "      </script>\n",
              "    </div>\n",
              "  </div>\n",
              "  "
            ]
          },
          "metadata": {},
          "execution_count": 5
        }
      ],
      "source": [
        "# Imprimimos los datos obtenidos del csv de entrenamiento\n",
        "t_train"
      ]
    },
    {
      "cell_type": "code",
      "execution_count": null,
      "metadata": {
        "colab": {
          "base_uri": "https://localhost:8080/"
        },
        "id": "PQjobzM8AHWb",
        "outputId": "f64e7b3c-b3cf-4ac0-dfa7-ceb9a88c68e9"
      },
      "outputs": [
        {
          "output_type": "stream",
          "name": "stdout",
          "text": [
            "Number of persons (rows)  = 3644\n",
            "Number of variables(columns)   = 8\n"
          ]
        }
      ],
      "source": [
        "# Veremos también la cantidad de registros y variables que tenemos disponibles\n",
        "Nrows = t_train.shape[0]\n",
        "Ncols = t_train.shape[1]\n",
        "\n",
        "print(\"Number of persons (rows)  = {0:0d}\".format(Nrows))\n",
        "print(\"Number of variables(columns)   = {0:0d}\".format(Ncols))"
      ]
    },
    {
      "cell_type": "code",
      "execution_count": null,
      "metadata": {
        "colab": {
          "base_uri": "https://localhost:8080/",
          "height": 300
        },
        "id": "9lh41-k-AQcD",
        "outputId": "3ecdd81e-8172-481e-c6b3-9f97f10970b4"
      },
      "outputs": [
        {
          "output_type": "execute_result",
          "data": {
            "text/plain": [
              "              AccX         AccY         AccZ        GyroX        GyroY  \\\n",
              "count  3644.000000  3644.000000  3644.000000  3644.000000  3644.000000   \n",
              "mean      0.040467    -0.073418     0.008271     0.001593    -0.001273   \n",
              "std       0.985653     0.903408     0.985061     0.066918     0.126205   \n",
              "min      -4.636523    -4.699795    -7.143998    -0.751822    -1.587028   \n",
              "25%      -0.550695    -0.592540    -0.558464    -0.028558    -0.053756   \n",
              "50%       0.003931    -0.080833     0.002262     0.001985    -0.001833   \n",
              "75%       0.595987     0.452401     0.556157     0.031918     0.051313   \n",
              "max       4.985548     4.245151     5.171739     0.849255     1.679879   \n",
              "\n",
              "             GyroZ     Timestamp  \n",
              "count  3644.000000  3.644000e+03  \n",
              "mean      0.007949  3.582707e+06  \n",
              "std       0.115687  6.421479e+02  \n",
              "min      -1.236468  3.581629e+06  \n",
              "25%      -0.029398  3.582121e+06  \n",
              "50%       0.002978  3.582702e+06  \n",
              "75%       0.040852  3.583270e+06  \n",
              "max       1.190500  3.583791e+06  "
            ],
            "text/html": [
              "\n",
              "  <div id=\"df-25d12a21-5dee-4c42-9a2c-a58de07e8e88\">\n",
              "    <div class=\"colab-df-container\">\n",
              "      <div>\n",
              "<style scoped>\n",
              "    .dataframe tbody tr th:only-of-type {\n",
              "        vertical-align: middle;\n",
              "    }\n",
              "\n",
              "    .dataframe tbody tr th {\n",
              "        vertical-align: top;\n",
              "    }\n",
              "\n",
              "    .dataframe thead th {\n",
              "        text-align: right;\n",
              "    }\n",
              "</style>\n",
              "<table border=\"1\" class=\"dataframe\">\n",
              "  <thead>\n",
              "    <tr style=\"text-align: right;\">\n",
              "      <th></th>\n",
              "      <th>AccX</th>\n",
              "      <th>AccY</th>\n",
              "      <th>AccZ</th>\n",
              "      <th>GyroX</th>\n",
              "      <th>GyroY</th>\n",
              "      <th>GyroZ</th>\n",
              "      <th>Timestamp</th>\n",
              "    </tr>\n",
              "  </thead>\n",
              "  <tbody>\n",
              "    <tr>\n",
              "      <th>count</th>\n",
              "      <td>3644.000000</td>\n",
              "      <td>3644.000000</td>\n",
              "      <td>3644.000000</td>\n",
              "      <td>3644.000000</td>\n",
              "      <td>3644.000000</td>\n",
              "      <td>3644.000000</td>\n",
              "      <td>3.644000e+03</td>\n",
              "    </tr>\n",
              "    <tr>\n",
              "      <th>mean</th>\n",
              "      <td>0.040467</td>\n",
              "      <td>-0.073418</td>\n",
              "      <td>0.008271</td>\n",
              "      <td>0.001593</td>\n",
              "      <td>-0.001273</td>\n",
              "      <td>0.007949</td>\n",
              "      <td>3.582707e+06</td>\n",
              "    </tr>\n",
              "    <tr>\n",
              "      <th>std</th>\n",
              "      <td>0.985653</td>\n",
              "      <td>0.903408</td>\n",
              "      <td>0.985061</td>\n",
              "      <td>0.066918</td>\n",
              "      <td>0.126205</td>\n",
              "      <td>0.115687</td>\n",
              "      <td>6.421479e+02</td>\n",
              "    </tr>\n",
              "    <tr>\n",
              "      <th>min</th>\n",
              "      <td>-4.636523</td>\n",
              "      <td>-4.699795</td>\n",
              "      <td>-7.143998</td>\n",
              "      <td>-0.751822</td>\n",
              "      <td>-1.587028</td>\n",
              "      <td>-1.236468</td>\n",
              "      <td>3.581629e+06</td>\n",
              "    </tr>\n",
              "    <tr>\n",
              "      <th>25%</th>\n",
              "      <td>-0.550695</td>\n",
              "      <td>-0.592540</td>\n",
              "      <td>-0.558464</td>\n",
              "      <td>-0.028558</td>\n",
              "      <td>-0.053756</td>\n",
              "      <td>-0.029398</td>\n",
              "      <td>3.582121e+06</td>\n",
              "    </tr>\n",
              "    <tr>\n",
              "      <th>50%</th>\n",
              "      <td>0.003931</td>\n",
              "      <td>-0.080833</td>\n",
              "      <td>0.002262</td>\n",
              "      <td>0.001985</td>\n",
              "      <td>-0.001833</td>\n",
              "      <td>0.002978</td>\n",
              "      <td>3.582702e+06</td>\n",
              "    </tr>\n",
              "    <tr>\n",
              "      <th>75%</th>\n",
              "      <td>0.595987</td>\n",
              "      <td>0.452401</td>\n",
              "      <td>0.556157</td>\n",
              "      <td>0.031918</td>\n",
              "      <td>0.051313</td>\n",
              "      <td>0.040852</td>\n",
              "      <td>3.583270e+06</td>\n",
              "    </tr>\n",
              "    <tr>\n",
              "      <th>max</th>\n",
              "      <td>4.985548</td>\n",
              "      <td>4.245151</td>\n",
              "      <td>5.171739</td>\n",
              "      <td>0.849255</td>\n",
              "      <td>1.679879</td>\n",
              "      <td>1.190500</td>\n",
              "      <td>3.583791e+06</td>\n",
              "    </tr>\n",
              "  </tbody>\n",
              "</table>\n",
              "</div>\n",
              "      <button class=\"colab-df-convert\" onclick=\"convertToInteractive('df-25d12a21-5dee-4c42-9a2c-a58de07e8e88')\"\n",
              "              title=\"Convert this dataframe to an interactive table.\"\n",
              "              style=\"display:none;\">\n",
              "        \n",
              "  <svg xmlns=\"http://www.w3.org/2000/svg\" height=\"24px\"viewBox=\"0 0 24 24\"\n",
              "       width=\"24px\">\n",
              "    <path d=\"M0 0h24v24H0V0z\" fill=\"none\"/>\n",
              "    <path d=\"M18.56 5.44l.94 2.06.94-2.06 2.06-.94-2.06-.94-.94-2.06-.94 2.06-2.06.94zm-11 1L8.5 8.5l.94-2.06 2.06-.94-2.06-.94L8.5 2.5l-.94 2.06-2.06.94zm10 10l.94 2.06.94-2.06 2.06-.94-2.06-.94-.94-2.06-.94 2.06-2.06.94z\"/><path d=\"M17.41 7.96l-1.37-1.37c-.4-.4-.92-.59-1.43-.59-.52 0-1.04.2-1.43.59L10.3 9.45l-7.72 7.72c-.78.78-.78 2.05 0 2.83L4 21.41c.39.39.9.59 1.41.59.51 0 1.02-.2 1.41-.59l7.78-7.78 2.81-2.81c.8-.78.8-2.07 0-2.86zM5.41 20L4 18.59l7.72-7.72 1.47 1.35L5.41 20z\"/>\n",
              "  </svg>\n",
              "      </button>\n",
              "      \n",
              "  <style>\n",
              "    .colab-df-container {\n",
              "      display:flex;\n",
              "      flex-wrap:wrap;\n",
              "      gap: 12px;\n",
              "    }\n",
              "\n",
              "    .colab-df-convert {\n",
              "      background-color: #E8F0FE;\n",
              "      border: none;\n",
              "      border-radius: 50%;\n",
              "      cursor: pointer;\n",
              "      display: none;\n",
              "      fill: #1967D2;\n",
              "      height: 32px;\n",
              "      padding: 0 0 0 0;\n",
              "      width: 32px;\n",
              "    }\n",
              "\n",
              "    .colab-df-convert:hover {\n",
              "      background-color: #E2EBFA;\n",
              "      box-shadow: 0px 1px 2px rgba(60, 64, 67, 0.3), 0px 1px 3px 1px rgba(60, 64, 67, 0.15);\n",
              "      fill: #174EA6;\n",
              "    }\n",
              "\n",
              "    [theme=dark] .colab-df-convert {\n",
              "      background-color: #3B4455;\n",
              "      fill: #D2E3FC;\n",
              "    }\n",
              "\n",
              "    [theme=dark] .colab-df-convert:hover {\n",
              "      background-color: #434B5C;\n",
              "      box-shadow: 0px 1px 3px 1px rgba(0, 0, 0, 0.15);\n",
              "      filter: drop-shadow(0px 1px 2px rgba(0, 0, 0, 0.3));\n",
              "      fill: #FFFFFF;\n",
              "    }\n",
              "  </style>\n",
              "\n",
              "      <script>\n",
              "        const buttonEl =\n",
              "          document.querySelector('#df-25d12a21-5dee-4c42-9a2c-a58de07e8e88 button.colab-df-convert');\n",
              "        buttonEl.style.display =\n",
              "          google.colab.kernel.accessAllowed ? 'block' : 'none';\n",
              "\n",
              "        async function convertToInteractive(key) {\n",
              "          const element = document.querySelector('#df-25d12a21-5dee-4c42-9a2c-a58de07e8e88');\n",
              "          const dataTable =\n",
              "            await google.colab.kernel.invokeFunction('convertToInteractive',\n",
              "                                                     [key], {});\n",
              "          if (!dataTable) return;\n",
              "\n",
              "          const docLinkHtml = 'Like what you see? Visit the ' +\n",
              "            '<a target=\"_blank\" href=https://colab.research.google.com/notebooks/data_table.ipynb>data table notebook</a>'\n",
              "            + ' to learn more about interactive tables.';\n",
              "          element.innerHTML = '';\n",
              "          dataTable['output_type'] = 'display_data';\n",
              "          await google.colab.output.renderOutput(dataTable, element);\n",
              "          const docLink = document.createElement('div');\n",
              "          docLink.innerHTML = docLinkHtml;\n",
              "          element.appendChild(docLink);\n",
              "        }\n",
              "      </script>\n",
              "    </div>\n",
              "  </div>\n",
              "  "
            ]
          },
          "metadata": {},
          "execution_count": 7
        }
      ],
      "source": [
        "# Haremos un resúmen a grandes rasgos de la información disponible\n",
        "t_train.describe()"
      ]
    },
    {
      "cell_type": "code",
      "execution_count": null,
      "metadata": {
        "colab": {
          "base_uri": "https://localhost:8080/"
        },
        "id": "9yml8ZVuQY93",
        "outputId": "8e70acf0-c783-4ce7-d9fc-6e1ca9811348"
      },
      "outputs": [
        {
          "output_type": "execute_result",
          "data": {
            "text/plain": [
              "0          1\n",
              "1          2\n",
              "2          3\n",
              "3          4\n",
              "4          5\n",
              "        ... \n",
              "3639    4320\n",
              "3640    4323\n",
              "3641    4322\n",
              "3642    4325\n",
              "3643    4324\n",
              "Name: Timestamp, Length: 3644, dtype: int64"
            ]
          },
          "metadata": {},
          "execution_count": 8
        }
      ],
      "source": [
        "# Normalizamos los datos de Timestamp, los hacemos comenzar en 0\n",
        "t_train['Timestamp'] = t_train['Timestamp'] - t_train['Timestamp'].min()\n",
        "#quitamos los registros duplicados del mismo segundo\n",
        "t_train['Timestamp'] = [2*t_train['Timestamp'][i]+((i+1)%2) for i in range(len(t_train))]\n",
        "t_train['Timestamp']\n"
      ]
    },
    {
      "cell_type": "code",
      "execution_count": null,
      "metadata": {
        "colab": {
          "base_uri": "https://localhost:8080/",
          "height": 300
        },
        "id": "AOfpKLraUDcA",
        "outputId": "a5c6809e-9ac2-4124-d5de-215f28cb9439"
      },
      "outputs": [
        {
          "output_type": "execute_result",
          "data": {
            "text/plain": [
              "              AccX         AccY         AccZ        GyroX        GyroY  \\\n",
              "count  3644.000000  3644.000000  3644.000000  3644.000000  3644.000000   \n",
              "mean      0.040467    -0.073418     0.008271     0.001593    -0.001273   \n",
              "std       0.985653     0.903408     0.985061     0.066918     0.126205   \n",
              "min      -4.636523    -4.699795    -7.143998    -0.751822    -1.587028   \n",
              "25%      -0.550695    -0.592540    -0.558464    -0.028558    -0.053756   \n",
              "50%       0.003931    -0.080833     0.002262     0.001985    -0.001833   \n",
              "75%       0.595987     0.452401     0.556157     0.031918     0.051313   \n",
              "max       4.985548     4.245151     5.171739     0.849255     1.679879   \n",
              "\n",
              "             GyroZ    Timestamp  \n",
              "count  3644.000000  3644.000000  \n",
              "mean      0.007949  2156.019759  \n",
              "std       0.115687  1284.295759  \n",
              "min      -1.236468     1.000000  \n",
              "25%      -0.029398   983.750000  \n",
              "50%       0.002978  2145.500000  \n",
              "75%       0.040852  3283.250000  \n",
              "max       1.190500  4325.000000  "
            ],
            "text/html": [
              "\n",
              "  <div id=\"df-bd39e3e8-27ca-4c7d-9b42-8afe4bfa8e22\">\n",
              "    <div class=\"colab-df-container\">\n",
              "      <div>\n",
              "<style scoped>\n",
              "    .dataframe tbody tr th:only-of-type {\n",
              "        vertical-align: middle;\n",
              "    }\n",
              "\n",
              "    .dataframe tbody tr th {\n",
              "        vertical-align: top;\n",
              "    }\n",
              "\n",
              "    .dataframe thead th {\n",
              "        text-align: right;\n",
              "    }\n",
              "</style>\n",
              "<table border=\"1\" class=\"dataframe\">\n",
              "  <thead>\n",
              "    <tr style=\"text-align: right;\">\n",
              "      <th></th>\n",
              "      <th>AccX</th>\n",
              "      <th>AccY</th>\n",
              "      <th>AccZ</th>\n",
              "      <th>GyroX</th>\n",
              "      <th>GyroY</th>\n",
              "      <th>GyroZ</th>\n",
              "      <th>Timestamp</th>\n",
              "    </tr>\n",
              "  </thead>\n",
              "  <tbody>\n",
              "    <tr>\n",
              "      <th>count</th>\n",
              "      <td>3644.000000</td>\n",
              "      <td>3644.000000</td>\n",
              "      <td>3644.000000</td>\n",
              "      <td>3644.000000</td>\n",
              "      <td>3644.000000</td>\n",
              "      <td>3644.000000</td>\n",
              "      <td>3644.000000</td>\n",
              "    </tr>\n",
              "    <tr>\n",
              "      <th>mean</th>\n",
              "      <td>0.040467</td>\n",
              "      <td>-0.073418</td>\n",
              "      <td>0.008271</td>\n",
              "      <td>0.001593</td>\n",
              "      <td>-0.001273</td>\n",
              "      <td>0.007949</td>\n",
              "      <td>2156.019759</td>\n",
              "    </tr>\n",
              "    <tr>\n",
              "      <th>std</th>\n",
              "      <td>0.985653</td>\n",
              "      <td>0.903408</td>\n",
              "      <td>0.985061</td>\n",
              "      <td>0.066918</td>\n",
              "      <td>0.126205</td>\n",
              "      <td>0.115687</td>\n",
              "      <td>1284.295759</td>\n",
              "    </tr>\n",
              "    <tr>\n",
              "      <th>min</th>\n",
              "      <td>-4.636523</td>\n",
              "      <td>-4.699795</td>\n",
              "      <td>-7.143998</td>\n",
              "      <td>-0.751822</td>\n",
              "      <td>-1.587028</td>\n",
              "      <td>-1.236468</td>\n",
              "      <td>1.000000</td>\n",
              "    </tr>\n",
              "    <tr>\n",
              "      <th>25%</th>\n",
              "      <td>-0.550695</td>\n",
              "      <td>-0.592540</td>\n",
              "      <td>-0.558464</td>\n",
              "      <td>-0.028558</td>\n",
              "      <td>-0.053756</td>\n",
              "      <td>-0.029398</td>\n",
              "      <td>983.750000</td>\n",
              "    </tr>\n",
              "    <tr>\n",
              "      <th>50%</th>\n",
              "      <td>0.003931</td>\n",
              "      <td>-0.080833</td>\n",
              "      <td>0.002262</td>\n",
              "      <td>0.001985</td>\n",
              "      <td>-0.001833</td>\n",
              "      <td>0.002978</td>\n",
              "      <td>2145.500000</td>\n",
              "    </tr>\n",
              "    <tr>\n",
              "      <th>75%</th>\n",
              "      <td>0.595987</td>\n",
              "      <td>0.452401</td>\n",
              "      <td>0.556157</td>\n",
              "      <td>0.031918</td>\n",
              "      <td>0.051313</td>\n",
              "      <td>0.040852</td>\n",
              "      <td>3283.250000</td>\n",
              "    </tr>\n",
              "    <tr>\n",
              "      <th>max</th>\n",
              "      <td>4.985548</td>\n",
              "      <td>4.245151</td>\n",
              "      <td>5.171739</td>\n",
              "      <td>0.849255</td>\n",
              "      <td>1.679879</td>\n",
              "      <td>1.190500</td>\n",
              "      <td>4325.000000</td>\n",
              "    </tr>\n",
              "  </tbody>\n",
              "</table>\n",
              "</div>\n",
              "      <button class=\"colab-df-convert\" onclick=\"convertToInteractive('df-bd39e3e8-27ca-4c7d-9b42-8afe4bfa8e22')\"\n",
              "              title=\"Convert this dataframe to an interactive table.\"\n",
              "              style=\"display:none;\">\n",
              "        \n",
              "  <svg xmlns=\"http://www.w3.org/2000/svg\" height=\"24px\"viewBox=\"0 0 24 24\"\n",
              "       width=\"24px\">\n",
              "    <path d=\"M0 0h24v24H0V0z\" fill=\"none\"/>\n",
              "    <path d=\"M18.56 5.44l.94 2.06.94-2.06 2.06-.94-2.06-.94-.94-2.06-.94 2.06-2.06.94zm-11 1L8.5 8.5l.94-2.06 2.06-.94-2.06-.94L8.5 2.5l-.94 2.06-2.06.94zm10 10l.94 2.06.94-2.06 2.06-.94-2.06-.94-.94-2.06-.94 2.06-2.06.94z\"/><path d=\"M17.41 7.96l-1.37-1.37c-.4-.4-.92-.59-1.43-.59-.52 0-1.04.2-1.43.59L10.3 9.45l-7.72 7.72c-.78.78-.78 2.05 0 2.83L4 21.41c.39.39.9.59 1.41.59.51 0 1.02-.2 1.41-.59l7.78-7.78 2.81-2.81c.8-.78.8-2.07 0-2.86zM5.41 20L4 18.59l7.72-7.72 1.47 1.35L5.41 20z\"/>\n",
              "  </svg>\n",
              "      </button>\n",
              "      \n",
              "  <style>\n",
              "    .colab-df-container {\n",
              "      display:flex;\n",
              "      flex-wrap:wrap;\n",
              "      gap: 12px;\n",
              "    }\n",
              "\n",
              "    .colab-df-convert {\n",
              "      background-color: #E8F0FE;\n",
              "      border: none;\n",
              "      border-radius: 50%;\n",
              "      cursor: pointer;\n",
              "      display: none;\n",
              "      fill: #1967D2;\n",
              "      height: 32px;\n",
              "      padding: 0 0 0 0;\n",
              "      width: 32px;\n",
              "    }\n",
              "\n",
              "    .colab-df-convert:hover {\n",
              "      background-color: #E2EBFA;\n",
              "      box-shadow: 0px 1px 2px rgba(60, 64, 67, 0.3), 0px 1px 3px 1px rgba(60, 64, 67, 0.15);\n",
              "      fill: #174EA6;\n",
              "    }\n",
              "\n",
              "    [theme=dark] .colab-df-convert {\n",
              "      background-color: #3B4455;\n",
              "      fill: #D2E3FC;\n",
              "    }\n",
              "\n",
              "    [theme=dark] .colab-df-convert:hover {\n",
              "      background-color: #434B5C;\n",
              "      box-shadow: 0px 1px 3px 1px rgba(0, 0, 0, 0.15);\n",
              "      filter: drop-shadow(0px 1px 2px rgba(0, 0, 0, 0.3));\n",
              "      fill: #FFFFFF;\n",
              "    }\n",
              "  </style>\n",
              "\n",
              "      <script>\n",
              "        const buttonEl =\n",
              "          document.querySelector('#df-bd39e3e8-27ca-4c7d-9b42-8afe4bfa8e22 button.colab-df-convert');\n",
              "        buttonEl.style.display =\n",
              "          google.colab.kernel.accessAllowed ? 'block' : 'none';\n",
              "\n",
              "        async function convertToInteractive(key) {\n",
              "          const element = document.querySelector('#df-bd39e3e8-27ca-4c7d-9b42-8afe4bfa8e22');\n",
              "          const dataTable =\n",
              "            await google.colab.kernel.invokeFunction('convertToInteractive',\n",
              "                                                     [key], {});\n",
              "          if (!dataTable) return;\n",
              "\n",
              "          const docLinkHtml = 'Like what you see? Visit the ' +\n",
              "            '<a target=\"_blank\" href=https://colab.research.google.com/notebooks/data_table.ipynb>data table notebook</a>'\n",
              "            + ' to learn more about interactive tables.';\n",
              "          element.innerHTML = '';\n",
              "          dataTable['output_type'] = 'display_data';\n",
              "          await google.colab.output.renderOutput(dataTable, element);\n",
              "          const docLink = document.createElement('div');\n",
              "          docLink.innerHTML = docLinkHtml;\n",
              "          element.appendChild(docLink);\n",
              "        }\n",
              "      </script>\n",
              "    </div>\n",
              "  </div>\n",
              "  "
            ]
          },
          "metadata": {},
          "execution_count": 9
        }
      ],
      "source": [
        "# Ordenamos los datos en segun el tiempo en el que sucedieron\n",
        "t_train = t_train.sort_values(by=['Timestamp'])\n",
        "t_train.describe()"
      ]
    },
    {
      "cell_type": "code",
      "execution_count": null,
      "metadata": {
        "colab": {
          "base_uri": "https://localhost:8080/"
        },
        "id": "t2OVp890AYKp",
        "outputId": "070e97be-c322-4565-ffb7-f59e2b3555a8"
      },
      "outputs": [
        {
          "output_type": "execute_result",
          "data": {
            "text/plain": [
              "AccX         float64\n",
              "AccY         float64\n",
              "AccZ         float64\n",
              "GyroX        float64\n",
              "GyroY        float64\n",
              "GyroZ        float64\n",
              "Class         object\n",
              "Timestamp      int64\n",
              "dtype: object"
            ]
          },
          "metadata": {},
          "execution_count": 10
        }
      ],
      "source": [
        "# Mostraremos el tipo de dato de cada variable de la bd\n",
        "t_train.dtypes"
      ]
    },
    {
      "cell_type": "code",
      "execution_count": null,
      "metadata": {
        "colab": {
          "base_uri": "https://localhost:8080/"
        },
        "id": "_14S3A4Co71y",
        "outputId": "6bb79314-23d2-44b5-b377-86cfbc5c26d7"
      },
      "outputs": [
        {
          "output_type": "execute_result",
          "data": {
            "text/plain": [
              "AccX         0\n",
              "AccY         0\n",
              "AccZ         0\n",
              "GyroX        0\n",
              "GyroY        0\n",
              "GyroZ        0\n",
              "Class        0\n",
              "Timestamp    0\n",
              "dtype: int64"
            ]
          },
          "metadata": {},
          "execution_count": 11
        }
      ],
      "source": [
        "# Función para revisar que el dataset de training no tenga datos faltantes\n",
        "pd.isna(t_train).sum()"
      ]
    },
    {
      "cell_type": "code",
      "execution_count": null,
      "metadata": {
        "colab": {
          "base_uri": "https://localhost:8080/"
        },
        "id": "PT6i3vPKpAph",
        "outputId": "e5e15049-3134-4793-8313-e999d369c9cb"
      },
      "outputs": [
        {
          "output_type": "execute_result",
          "data": {
            "text/plain": [
              "AccX         0\n",
              "AccY         0\n",
              "AccZ         0\n",
              "GyroX        0\n",
              "GyroY        0\n",
              "GyroZ        0\n",
              "Class        0\n",
              "Timestamp    0\n",
              "dtype: int64"
            ]
          },
          "metadata": {},
          "execution_count": 12
        }
      ],
      "source": [
        "# Función para revisar que el dataset de testing no tenga datos faltantes\n",
        "pd.isna(t_test).sum()"
      ]
    },
    {
      "cell_type": "markdown",
      "metadata": {
        "id": "GqgRr40TKUip"
      },
      "source": [
        "A partir de este punto comenzamos a hacer graficas para representar los datos, hemos de notar que para las siguientes que esten separadas por grupo se tienen los siguentes codigos de color\n",
        "\n",
        "- `Agresivo ->    Rojo`\n",
        "- `Normal   ->    Verde`\n",
        "- `Lento    ->    Azul`"
      ]
    },
    {
      "cell_type": "code",
      "execution_count": null,
      "metadata": {
        "colab": {
          "base_uri": "https://localhost:8080/",
          "height": 351
        },
        "id": "QOPMM4E7xDIp",
        "outputId": "261d719f-0f18-4e32-a473-a0cc3d671334"
      },
      "outputs": [
        {
          "output_type": "stream",
          "name": "stderr",
          "text": [
            "/usr/local/lib/python3.7/dist-packages/seaborn/_decorators.py:43: FutureWarning: Pass the following variable as a keyword arg: x. From version 0.12, the only valid positional argument will be `data`, and passing other arguments without an explicit keyword will result in an error or misinterpretation.\n",
            "  FutureWarning\n"
          ]
        },
        {
          "output_type": "display_data",
          "data": {
            "text/plain": [
              "<Figure size 432x288 with 1 Axes>"
            ],
            "image/png": "[encoded data removed]"
          },
          "metadata": {
            "needs_background": "light"
          }
        }
      ],
      "source": [
        "# Graficamos para ver cuantos datos de cada grupo hay\n",
        "import seaborn as sns\n",
        "sns.countplot('Class',data = t_train, palette=[\"#0f0\", \"#f00\", \"#00f\"]).set(title='Cantidad de registros por grupo')\n",
        "plt.show()"
      ]
    },
    {
      "cell_type": "code",
      "execution_count": null,
      "metadata": {
        "colab": {
          "base_uri": "https://localhost:8080/",
          "height": 327
        },
        "id": "xpW_aFaPBApk",
        "outputId": "abc79b59-420b-40e7-db21-e02e450501c8"
      },
      "outputs": [
        {
          "output_type": "display_data",
          "data": {
            "text/plain": [
              "<Figure size 432x288 with 2 Axes>"
            ],
            "image/png": "[encoded data removed]"
          },
          "metadata": {
            "needs_background": "light"
          }
        }
      ],
      "source": [
        "# Calcularemos la correlación entre las variables\n",
        "ax = sns.heatmap(t_train.corr(), annot=True).set(title='Pearson Correlations');"
      ]
    },
    {
      "cell_type": "code",
      "execution_count": null,
      "metadata": {
        "id": "y-yyq3xP3VsS"
      },
      "outputs": [],
      "source": [
        "# Clasificaremos nuestras variables conforme al tipo de conductor\n",
        "t_trainSlow = t_train[t_train['Class']=='SLOW']\n",
        "t_trainNormal = t_train[t_train['Class']=='NORMAL']\n",
        "t_trainAggressive = t_train[t_train['Class']=='AGGRESSIVE']"
      ]
    },
    {
      "cell_type": "code",
      "execution_count": null,
      "metadata": {
        "colab": {
          "base_uri": "https://localhost:8080/",
          "height": 335
        },
        "id": "V6PESHoqpDq9",
        "outputId": "0a8ebf4a-df59-4a16-fc30-13c141a9bca6"
      },
      "outputs": [
        {
          "output_type": "stream",
          "name": "stderr",
          "text": [
            "/usr/local/lib/python3.7/dist-packages/seaborn/_decorators.py:43: FutureWarning: Pass the following variable as a keyword arg: x. From version 0.12, the only valid positional argument will be `data`, and passing other arguments without an explicit keyword will result in an error or misinterpretation.\n",
            "  FutureWarning\n"
          ]
        },
        {
          "output_type": "display_data",
          "data": {
            "text/plain": [
              "<Figure size 432x288 with 1 Axes>"
            ],
            "image/png": "[encoded data removed]"
          },
          "metadata": {
            "needs_background": "light"
          }
        }
      ],
      "source": [
        "# Relizaremos diagramas de cajas y bigotes para conocer los valores atipicos en AccX\n",
        "plot = sns.boxplot(t_train['AccX'],y=t_train['Class'], palette=[\"#0f0\", \"#f00\", \"#00f\"])"
      ]
    },
    {
      "cell_type": "code",
      "execution_count": null,
      "metadata": {
        "colab": {
          "base_uri": "https://localhost:8080/",
          "height": 335
        },
        "id": "9XjPlDso41uj",
        "outputId": "e3ccbb34-050b-4491-fac3-116db26fd055"
      },
      "outputs": [
        {
          "output_type": "stream",
          "name": "stderr",
          "text": [
            "/usr/local/lib/python3.7/dist-packages/seaborn/_decorators.py:43: FutureWarning: Pass the following variable as a keyword arg: x. From version 0.12, the only valid positional argument will be `data`, and passing other arguments without an explicit keyword will result in an error or misinterpretation.\n",
            "  FutureWarning\n"
          ]
        },
        {
          "output_type": "display_data",
          "data": {
            "text/plain": [
              "<Figure size 432x288 with 1 Axes>"
            ],
            "image/png": "[encoded data removed]"
          },
          "metadata": {
            "needs_background": "light"
          }
        }
      ],
      "source": [
        "# Relizaremos diagramas de cajas y bigotes para conocer los valores atipicos en AccY\n",
        "plot = sns.boxplot(t_train['AccY'],y=t_train['Class'], palette=[\"#0f0\", \"#f00\", \"#00f\"])"
      ]
    },
    {
      "cell_type": "code",
      "execution_count": null,
      "metadata": {
        "colab": {
          "base_uri": "https://localhost:8080/",
          "height": 335
        },
        "id": "XCC3mtEeqCO7",
        "outputId": "cb0ac971-de6d-4b65-f4ac-dd4f56f205d3"
      },
      "outputs": [
        {
          "output_type": "stream",
          "name": "stderr",
          "text": [
            "/usr/local/lib/python3.7/dist-packages/seaborn/_decorators.py:43: FutureWarning: Pass the following variable as a keyword arg: x. From version 0.12, the only valid positional argument will be `data`, and passing other arguments without an explicit keyword will result in an error or misinterpretation.\n",
            "  FutureWarning\n"
          ]
        },
        {
          "output_type": "display_data",
          "data": {
            "text/plain": [
              "<Figure size 432x288 with 1 Axes>"
            ],
            "image/png": "[encoded data removed]"
          },
          "metadata": {
            "needs_background": "light"
          }
        }
      ],
      "source": [
        "# Relizaremos diagramas de cajas y bigotes para conocer los valores atipicos en AccZ\n",
        "plot = sns.boxplot(t_train['AccZ'],y=t_train['Class'], palette=[\"#0f0\", \"#f00\", \"#00f\"])"
      ]
    },
    {
      "cell_type": "code",
      "execution_count": null,
      "metadata": {
        "colab": {
          "base_uri": "https://localhost:8080/",
          "height": 335
        },
        "id": "DgbVbxH3qDNE",
        "outputId": "0381080b-41a4-4a4b-ba1d-6ffd8bb0e414"
      },
      "outputs": [
        {
          "output_type": "stream",
          "name": "stderr",
          "text": [
            "/usr/local/lib/python3.7/dist-packages/seaborn/_decorators.py:43: FutureWarning: Pass the following variable as a keyword arg: x. From version 0.12, the only valid positional argument will be `data`, and passing other arguments without an explicit keyword will result in an error or misinterpretation.\n",
            "  FutureWarning\n"
          ]
        },
        {
          "output_type": "display_data",
          "data": {
            "text/plain": [
              "<Figure size 432x288 with 1 Axes>"
            ],
            "image/png": "[encoded data removed]"
          },
          "metadata": {
            "needs_background": "light"
          }
        }
      ],
      "source": [
        "# Relizaremos diagramas de cajas y bigotes para conocer los valores atipicos en GyroX\n",
        "plot = sns.boxplot(t_train['GyroX'],y=t_train['Class'], palette=[\"#0f0\", \"#f00\", \"#00f\"])"
      ]
    },
    {
      "cell_type": "code",
      "execution_count": null,
      "metadata": {
        "colab": {
          "base_uri": "https://localhost:8080/",
          "height": 335
        },
        "id": "zN4tWo76pmuD",
        "outputId": "bc71419f-16e5-4a85-f72c-9f3620449740"
      },
      "outputs": [
        {
          "output_type": "stream",
          "name": "stderr",
          "text": [
            "/usr/local/lib/python3.7/dist-packages/seaborn/_decorators.py:43: FutureWarning: Pass the following variable as a keyword arg: x. From version 0.12, the only valid positional argument will be `data`, and passing other arguments without an explicit keyword will result in an error or misinterpretation.\n",
            "  FutureWarning\n"
          ]
        },
        {
          "output_type": "display_data",
          "data": {
            "text/plain": [
              "<Figure size 432x288 with 1 Axes>"
            ],
            "image/png": "[encoded data removed]"
          },
          "metadata": {
            "needs_background": "light"
          }
        }
      ],
      "source": [
        "# Relizaremos diagramas de cajas y bigotes para conocer los valores atipicos en GyroY\n",
        "plot = sns.boxplot(t_train['GyroY'],y=t_train['Class'], palette=[\"#0f0\", \"#f00\", \"#00f\"])"
      ]
    },
    {
      "cell_type": "code",
      "execution_count": null,
      "metadata": {
        "colab": {
          "base_uri": "https://localhost:8080/",
          "height": 335
        },
        "id": "qEXxJUQSOiO3",
        "outputId": "354f8d35-4147-4ea9-ae7f-b237a1fa6585"
      },
      "outputs": [
        {
          "output_type": "stream",
          "name": "stderr",
          "text": [
            "/usr/local/lib/python3.7/dist-packages/seaborn/_decorators.py:43: FutureWarning: Pass the following variable as a keyword arg: x. From version 0.12, the only valid positional argument will be `data`, and passing other arguments without an explicit keyword will result in an error or misinterpretation.\n",
            "  FutureWarning\n"
          ]
        },
        {
          "output_type": "display_data",
          "data": {
            "text/plain": [
              "<Figure size 432x288 with 1 Axes>"
            ],
            "image/png": "[encoded data removed]"
          },
          "metadata": {
            "needs_background": "light"
          }
        }
      ],
      "source": [
        "# Relizaremos diagramas de cajas y bigotes para conocer los valores atipicos en GyroZ\n",
        "plot = sns.boxplot(t_train['GyroZ'],y=t_train['Class'], palette=[\"#0f0\", \"#f00\", \"#00f\"])"
      ]
    },
    {
      "cell_type": "code",
      "source": [
        "# Calculamos la magnitud de aceleracion para cada grupo, por registro\n",
        "Aacc = np.sqrt(t_trainAggressive['AccX']**2+t_trainAggressive['AccY']**2+t_trainAggressive['AccZ']**2)\n",
        "Nacc = np.sqrt(t_trainNormal['AccX']**2+t_trainNormal['AccY']**2+t_trainNormal['AccZ']**2)\n",
        "Sacc = np.sqrt(t_trainSlow['AccX']**2+t_trainSlow['AccY']**2+t_trainSlow['AccZ']**2)"
      ],
      "metadata": {
        "id": "Ov8T2zqxrZ3y"
      },
      "execution_count": null,
      "outputs": []
    },
    {
      "cell_type": "markdown",
      "metadata": {
        "id": "9vSF4GaQRYRX"
      },
      "source": [
        "En el caso de nuestra base de datos para training, no tenemos datos nulos ni que parezcan ser erroneos. Tenemos varios datos que se consideran outliers al revisar los boxplots por clases, estos datos no se eliminaran debido a la naturaleza del problema."
      ]
    },
    {
      "cell_type": "code",
      "execution_count": null,
      "metadata": {
        "colab": {
          "base_uri": "https://localhost:8080/",
          "height": 313
        },
        "id": "CgqGEhrSOTwk",
        "outputId": "5a580bec-48a4-4c4b-aa62-878a427b8a65"
      },
      "outputs": [
        {
          "output_type": "execute_result",
          "data": {
            "text/plain": [
              "<matplotlib.legend.Legend at 0x7f6dddc04410>"
            ]
          },
          "metadata": {},
          "execution_count": 23
        },
        {
          "output_type": "display_data",
          "data": {
            "text/plain": [
              "<Figure size 432x288 with 1 Axes>"
            ],
            "image/png": "[encoded data removed]"
          },
          "metadata": {
            "needs_background": "light"
          }
        }
      ],
      "source": [
        "# graficamos los primeros 20 elementos de cada grupo segun AccX\n",
        "plt.title('Aceleracion X en tiempo')\n",
        "plt.xlabel('Timestamp')\n",
        "plt.ylabel('Aceleracion X')\n",
        "tS = t_trainSlow['Timestamp'][:20]-t_trainSlow['Timestamp'].min()\n",
        "tN = t_trainNormal['Timestamp'][:20]-t_trainNormal['Timestamp'].min()\n",
        "tA = t_trainAggressive['Timestamp'][:20]-t_trainAggressive['Timestamp'].min()\n",
        "\n",
        "\n",
        "plt.plot(tS, t_trainSlow['AccX'][:20], color='blue', label=\"SLOW\")\n",
        "plt.plot(tN, t_trainNormal['AccX'][:20], color='green', label=\"Normal\")\n",
        "plt.plot(tA, t_trainAggressive['AccX'][:20], color='red', label=\"AGGRESSIVE\")\n",
        "plt.legend()"
      ]
    },
    {
      "cell_type": "code",
      "execution_count": null,
      "metadata": {
        "colab": {
          "base_uri": "https://localhost:8080/",
          "height": 313
        },
        "id": "tt9PZWXbOUmn",
        "outputId": "0891fad5-c04d-496f-a799-044c7fef713c"
      },
      "outputs": [
        {
          "output_type": "execute_result",
          "data": {
            "text/plain": [
              "<matplotlib.legend.Legend at 0x7f6ddded8750>"
            ]
          },
          "metadata": {},
          "execution_count": 24
        },
        {
          "output_type": "display_data",
          "data": {
            "text/plain": [
              "<Figure size 432x288 with 1 Axes>"
            ],
            "image/png": "[encoded data removed]"
          },
          "metadata": {
            "needs_background": "light"
          }
        }
      ],
      "source": [
        "# graficamos los primeros 20 elementos de cada grupo segun AccY\n",
        "plt.title('Aceleracion Y en tiempo')\n",
        "plt.xlabel('Timestamp')\n",
        "plt.ylabel('Aceleracion Y')\n",
        "tS = t_trainSlow['Timestamp'][:20]-t_trainSlow['Timestamp'].min()\n",
        "tN = t_trainNormal['Timestamp'][:20]-t_trainNormal['Timestamp'].min()\n",
        "tA = t_trainAggressive['Timestamp'][:20]-t_trainAggressive['Timestamp'].min()\n",
        "\n",
        "\n",
        "plt.plot(tS, t_trainSlow['AccY'][:20], color='blue', label=\"SLOW\")\n",
        "plt.plot(tN, t_trainNormal['AccY'][:20], color='green', label=\"NORMAL\")\n",
        "plt.plot(tA, t_trainAggressive['AccY'][:20], color='red', label=\"AGGRESSIVE\")\n",
        "plt.legend()"
      ]
    },
    {
      "cell_type": "code",
      "execution_count": null,
      "metadata": {
        "colab": {
          "base_uri": "https://localhost:8080/",
          "height": 313
        },
        "id": "i2ncjZYKOUrA",
        "outputId": "968dcdfa-3ee0-4c5c-eb37-61ce81103842"
      },
      "outputs": [
        {
          "output_type": "execute_result",
          "data": {
            "text/plain": [
              "<matplotlib.legend.Legend at 0x7f6de16a0b90>"
            ]
          },
          "metadata": {},
          "execution_count": 25
        },
        {
          "output_type": "display_data",
          "data": {
            "text/plain": [
              "<Figure size 432x288 with 1 Axes>"
            ],
            "image/png": "[encoded data removed]"
          },
          "metadata": {
            "needs_background": "light"
          }
        }
      ],
      "source": [
        "# graficamos los primeros 20 elementos de cada grupo segun AccZ\n",
        "plt.title('Aceleracion Z en tiempo')\n",
        "plt.xlabel('Timestamp')\n",
        "plt.ylabel('Aceleracion Z')\n",
        "tS = t_trainSlow['Timestamp'][:20]-t_trainSlow['Timestamp'].min()\n",
        "tN = t_trainNormal['Timestamp'][:20]-t_trainNormal['Timestamp'].min()\n",
        "tA = t_trainAggressive['Timestamp'][:20]-t_trainAggressive['Timestamp'].min()\n",
        "\n",
        "\n",
        "plt.plot(tS, t_trainSlow['AccZ'][:20], color='blue', label=\"SLOW\")\n",
        "plt.plot(tN, t_trainNormal['AccZ'][:20], color='green', label=\"NORMAL\")\n",
        "plt.plot(tA, t_trainAggressive['AccZ'][:20], color='red', label=\"AGGRESSIVE\")\n",
        "plt.legend()"
      ]
    },
    {
      "cell_type": "code",
      "execution_count": null,
      "metadata": {
        "id": "Aok6D51OOUuV"
      },
      "outputs": [],
      "source": []
    },
    {
      "cell_type": "code",
      "execution_count": null,
      "metadata": {
        "colab": {
          "base_uri": "https://localhost:8080/",
          "height": 313
        },
        "id": "u92mPWrnOUxV",
        "outputId": "6eab3513-5fc7-424c-e8f6-dfb0c9df4d82"
      },
      "outputs": [
        {
          "output_type": "execute_result",
          "data": {
            "text/plain": [
              "<matplotlib.legend.Legend at 0x7f6ddde85950>"
            ]
          },
          "metadata": {},
          "execution_count": 26
        },
        {
          "output_type": "display_data",
          "data": {
            "text/plain": [
              "<Figure size 432x288 with 1 Axes>"
            ],
            "image/png": "[encoded data removed]"
          },
          "metadata": {
            "needs_background": "light"
          }
        }
      ],
      "source": [
        "# graficamos los primeros 30 elementos de cada grupo segun la magnitud total de la aceleracion\n",
        "plt.title('Aceleracion en tiempo')\n",
        "plt.xlabel('Timestamp')\n",
        "plt.ylabel('Aceleracion Total')\n",
        "tS = t_trainSlow['Timestamp'][:30]-t_trainSlow['Timestamp'].min()\n",
        "tN = t_trainNormal['Timestamp'][:30]-t_trainNormal['Timestamp'].min()\n",
        "tA = t_trainAggressive['Timestamp'][:30]-t_trainAggressive['Timestamp'].min()\n",
        "\n",
        "\n",
        "plt.plot(tS, Sacc[:30], color='blue', label=\"SLOW\")\n",
        "plt.plot(tN, Nacc[:30], color='green', label=\"NORMAL\")\n",
        "plt.plot(tA, Aacc[:30], color='red', label=\"AGGRESSIVE\")\n",
        "plt.legend()"
      ]
    },
    {
      "cell_type": "code",
      "execution_count": null,
      "metadata": {
        "colab": {
          "base_uri": "https://localhost:8080/",
          "height": 313
        },
        "id": "_-yiDJkdOU0I",
        "outputId": "a7a1917b-a58e-4c01-922b-2f592bc50b21"
      },
      "outputs": [
        {
          "output_type": "execute_result",
          "data": {
            "text/plain": [
              "<matplotlib.legend.Legend at 0x7f6de0d47a10>"
            ]
          },
          "metadata": {},
          "execution_count": 27
        },
        {
          "output_type": "display_data",
          "data": {
            "text/plain": [
              "<Figure size 432x288 with 1 Axes>"
            ],
            "image/png": "[encoded data removed]"
          },
          "metadata": {
            "needs_background": "light"
          }
        }
      ],
      "source": [
        "# graficamos los primeros 20 elementos de cada grupo segun GyroX\n",
        "plt.title('Giro X en tiempo')\n",
        "plt.xlabel('Timestamp')\n",
        "plt.ylabel('Giro X')\n",
        "tS = t_trainSlow['Timestamp'][:20]-t_trainSlow['Timestamp'].min()\n",
        "tN = t_trainNormal['Timestamp'][:20]-t_trainNormal['Timestamp'].min()\n",
        "tA = t_trainAggressive['Timestamp'][:20]-t_trainAggressive['Timestamp'].min()\n",
        "\n",
        "\n",
        "plt.plot(tS, t_trainSlow['GyroX'][:20], color='blue', label=\"SLOW\")\n",
        "plt.plot(tN, t_trainNormal['GyroX'][:20], color='green', label=\"NORMAL\")\n",
        "plt.plot(tA, t_trainAggressive['GyroX'][:20], color='red', label=\"AGGRESSIVE\")\n",
        "plt.legend()"
      ]
    },
    {
      "cell_type": "code",
      "execution_count": null,
      "metadata": {
        "colab": {
          "base_uri": "https://localhost:8080/",
          "height": 313
        },
        "id": "DvFcXHizOU34",
        "outputId": "dcc9d28a-0b38-4b17-ae50-96afa510fe50"
      },
      "outputs": [
        {
          "output_type": "execute_result",
          "data": {
            "text/plain": [
              "<matplotlib.legend.Legend at 0x7f6ddddf6550>"
            ]
          },
          "metadata": {},
          "execution_count": 28
        },
        {
          "output_type": "display_data",
          "data": {
            "text/plain": [
              "<Figure size 432x288 with 1 Axes>"
            ],
            "image/png": "[encoded data removed]"
          },
          "metadata": {
            "needs_background": "light"
          }
        }
      ],
      "source": [
        "# graficamos los primeros 20 elementos de cada grupo segun GyroY\n",
        "plt.title('Giro Y en tiempo')\n",
        "plt.xlabel('Timestamp')\n",
        "plt.ylabel('Giro Y')\n",
        "tS = t_trainSlow['Timestamp'][:20]-t_trainSlow['Timestamp'].min()\n",
        "tN = t_trainNormal['Timestamp'][:20]-t_trainNormal['Timestamp'].min()\n",
        "tA = t_trainAggressive['Timestamp'][:20]-t_trainAggressive['Timestamp'].min()\n",
        "\n",
        "\n",
        "plt.plot(tS, t_trainSlow['GyroY'][:20], color='blue', label=\"SLOW\")\n",
        "plt.plot(tN, t_trainNormal['GyroY'][:20], color='green', label=\"NORMAL\")\n",
        "plt.plot(tA, t_trainAggressive['GyroY'][:20], color='red', label=\"AGGRESSIVE\")\n",
        "plt.legend()"
      ]
    },
    {
      "cell_type": "code",
      "execution_count": null,
      "metadata": {
        "colab": {
          "base_uri": "https://localhost:8080/",
          "height": 313
        },
        "id": "FOlABeGhOU6T",
        "outputId": "59abfa1d-2658-45c6-e545-6dc1720e1d8f"
      },
      "outputs": [
        {
          "output_type": "execute_result",
          "data": {
            "text/plain": [
              "<matplotlib.legend.Legend at 0x7f6ddddd2850>"
            ]
          },
          "metadata": {},
          "execution_count": 29
        },
        {
          "output_type": "display_data",
          "data": {
            "text/plain": [
              "<Figure size 432x288 with 1 Axes>"
            ],
            "image/png": "[encoded data removed]"
          },
          "metadata": {
            "needs_background": "light"
          }
        }
      ],
      "source": [
        "# graficamos los primeros 20 elementos de cada grupo segun GyroZ\n",
        "plt.title('Giro Z en tiempo')\n",
        "plt.xlabel('Timestamp')\n",
        "plt.ylabel('Giro Z')\n",
        "tS = t_trainSlow['Timestamp'][:20]-t_trainSlow['Timestamp'].min()\n",
        "tN = t_trainNormal['Timestamp'][:20]-t_trainNormal['Timestamp'].min()\n",
        "tA = t_trainAggressive['Timestamp'][:20]-t_trainAggressive['Timestamp'].min()\n",
        "\n",
        "\n",
        "plt.plot(tS, t_trainSlow['GyroZ'][:20], color='blue', label=\"SLOW\")\n",
        "plt.plot(tN, t_trainNormal['GyroZ'][:20], color='green', label=\"NORMAL\")\n",
        "plt.plot(tA, t_trainAggressive['GyroZ'][:20], color='red', label=\"AGGRESSIVE\")\n",
        "plt.legend()"
      ]
    },
    {
      "cell_type": "code",
      "execution_count": null,
      "metadata": {
        "id": "SrS-6CYB7iQl"
      },
      "outputs": [],
      "source": [
        "# Calculamos la magnitud de giro para cada grupo, por registro\n",
        "Agcc = np.sqrt(t_trainAggressive['GyroX']**2+t_trainAggressive['GyroY']**2+t_trainAggressive['GyroZ']**2)\n",
        "Ngcc = np.sqrt(t_trainNormal['GyroX']**2+t_trainNormal['GyroY']**2+t_trainNormal['GyroZ']**2)\n",
        "Sgcc = np.sqrt(t_trainSlow['GyroX']**2+t_trainSlow['GyroY']**2+t_trainSlow['GyroZ']**2)"
      ]
    },
    {
      "cell_type": "code",
      "execution_count": null,
      "metadata": {
        "colab": {
          "base_uri": "https://localhost:8080/",
          "height": 313
        },
        "id": "PR8YFnnu7x8V",
        "outputId": "553c6e5a-0b5d-4377-8065-08f91f75b6c3"
      },
      "outputs": [
        {
          "output_type": "execute_result",
          "data": {
            "text/plain": [
              "<matplotlib.legend.Legend at 0x7f6dddca8710>"
            ]
          },
          "metadata": {},
          "execution_count": 31
        },
        {
          "output_type": "display_data",
          "data": {
            "text/plain": [
              "<Figure size 432x288 with 1 Axes>"
            ],
            "image/png": "[encoded data removed]"
          },
          "metadata": {
            "needs_background": "light"
          }
        }
      ],
      "source": [
        "# graficamos los primeros 30 elementos de cada grupo segun la magnitud total del giro\n",
        "plt.title('Giro en tiempo')\n",
        "plt.xlabel('Timestamp')\n",
        "plt.ylabel('Giro Total')\n",
        "tS = t_trainSlow['Timestamp'][:30]-t_trainSlow['Timestamp'].min()\n",
        "tN = t_trainNormal['Timestamp'][:30]-t_trainNormal['Timestamp'].min()\n",
        "tA = t_trainAggressive['Timestamp'][:30]-t_trainAggressive['Timestamp'].min()\n",
        "\n",
        "\n",
        "plt.plot(tS, Sgcc[:30], color='blue', label=\"SLOW\")\n",
        "plt.plot(tN, Ngcc[:30], color='green', label=\"NORMAL\")\n",
        "plt.plot(tA, Agcc[:30], color='red', label=\"AGGRESSIVE\")\n",
        "plt.legend()"
      ]
    },
    {
      "cell_type": "code",
      "execution_count": null,
      "metadata": {
        "colab": {
          "base_uri": "https://localhost:8080/",
          "height": 295
        },
        "id": "Mlz9jhuhjrB-",
        "outputId": "f24ad6fd-5b30-4a8e-8e2c-e8a867f85d87"
      },
      "outputs": [
        {
          "output_type": "display_data",
          "data": {
            "text/plain": [
              "<Figure size 432x288 with 1 Axes>"
            ],
            "image/png": "[encoded data removed]"
          },
          "metadata": {
            "needs_background": "light"
          }
        }
      ],
      "source": [
        "# hacemos un histograma dividido por grupos en base a AccX\n",
        "plt.title('Histograma segun AccX')\n",
        "plt.xlabel('Aceleracion X')\n",
        "plt.ylabel('Cantidad de registros')\n",
        "plt.hist(t_trainSlow['AccX'], alpha=0.3, color='blue', label=\"SLOW\")\n",
        "plt.hist(t_trainNormal['AccX'], alpha=0.3, color='green', label=\"NORMAL\")\n",
        "plt.hist(t_trainAggressive['AccX'], alpha=0.3, color='red', label=\"AGGRESSIVE\")\n",
        "plt.legend()\n",
        "\n",
        "plt.show()"
      ]
    },
    {
      "cell_type": "code",
      "execution_count": null,
      "metadata": {
        "colab": {
          "base_uri": "https://localhost:8080/",
          "height": 295
        },
        "id": "PkwXtmN7jrE8",
        "outputId": "56d3c05b-defa-4cba-c399-0b8654829e47"
      },
      "outputs": [
        {
          "output_type": "display_data",
          "data": {
            "text/plain": [
              "<Figure size 432x288 with 1 Axes>"
            ],
            "image/png": "[encoded data removed]"
          },
          "metadata": {
            "needs_background": "light"
          }
        }
      ],
      "source": [
        "# hacemos un histograma dividido por grupos en base a AccY\n",
        "plt.title('Histograma segun AccY')\n",
        "plt.xlabel('Aceleracion Y')\n",
        "plt.ylabel('Cantidad de registros')\n",
        "plt.hist(t_trainSlow['AccY'], alpha=0.3, color='blue', label=\"SLOW\")\n",
        "plt.hist(t_trainNormal['AccY'], alpha=0.3, color='green', label=\"NORMAL\")\n",
        "plt.hist(t_trainAggressive['AccY'], alpha=0.3, color='red', label=\"AGGRESSIVE\")\n",
        "plt.legend()\n",
        "\n",
        "plt.show()"
      ]
    },
    {
      "cell_type": "code",
      "execution_count": null,
      "metadata": {
        "colab": {
          "base_uri": "https://localhost:8080/",
          "height": 295
        },
        "id": "862PiSATjrHe",
        "outputId": "4032c7b0-38e4-4cc4-aea9-63d09f14ad37"
      },
      "outputs": [
        {
          "output_type": "display_data",
          "data": {
            "text/plain": [
              "<Figure size 432x288 with 1 Axes>"
            ],
            "image/png": "[encoded data removed]"
          },
          "metadata": {
            "needs_background": "light"
          }
        }
      ],
      "source": [
        "# hacemos un histograma dividido por grupos en base a AccZ\n",
        "plt.title('Histograma segun AccZ')\n",
        "plt.xlabel('Aceleracion Z')\n",
        "plt.ylabel('Cantidad de registros')\n",
        "plt.hist(t_trainSlow['AccZ'], alpha=0.3, color='blue', label=\"SLOW\")\n",
        "plt.hist(t_trainNormal['AccZ'], alpha=0.3, color='green', label=\"NORMAL\")\n",
        "plt.hist(t_trainAggressive['AccZ'], alpha=0.3, color='red', label=\"AGGRESSIVE\")\n",
        "plt.legend()\n",
        "\n",
        "plt.show()"
      ]
    },
    {
      "cell_type": "code",
      "execution_count": null,
      "metadata": {
        "colab": {
          "base_uri": "https://localhost:8080/",
          "height": 295
        },
        "id": "ZBymyrMBOtnw",
        "outputId": "825aeeeb-4199-4987-d7ff-7c368ecab81b"
      },
      "outputs": [
        {
          "output_type": "display_data",
          "data": {
            "text/plain": [
              "<Figure size 432x288 with 1 Axes>"
            ],
            "image/png": "[encoded data removed]"
          },
          "metadata": {
            "needs_background": "light"
          }
        }
      ],
      "source": [
        "# hacemos un histograma dividido por grupos en base a Aceleracion Total\n",
        "plt.title('Histograma segun Acceleracion')\n",
        "plt.xlabel('Aceleracion Total')\n",
        "plt.ylabel('Cantidad de registros')\n",
        "plt.hist(Sacc, alpha=0.3, color='blue', label=\"SLOW\")\n",
        "plt.hist(Nacc, alpha=0.3, color='green', label=\"NORMAL\")\n",
        "plt.hist(Aacc, alpha=0.3, color='red', label=\"AGGRESSIVE\")\n",
        "plt.legend()\n",
        "\n",
        "plt.show()"
      ]
    },
    {
      "cell_type": "code",
      "execution_count": null,
      "metadata": {
        "colab": {
          "base_uri": "https://localhost:8080/",
          "height": 295
        },
        "id": "IxVh8slL8jsc",
        "outputId": "26454bed-c246-4065-8c2d-6118aab0f3bc"
      },
      "outputs": [
        {
          "output_type": "display_data",
          "data": {
            "text/plain": [
              "<Figure size 432x288 with 1 Axes>"
            ],
            "image/png": "[encoded data removed]"
          },
          "metadata": {
            "needs_background": "light"
          }
        }
      ],
      "source": [
        "# hacemos un histograma dividido por grupos en base a Aceleracion Total\n",
        "plt.title('Histograma segun Giro')\n",
        "plt.xlabel('Giro Total')\n",
        "plt.ylabel('Cantidad de registros')\n",
        "plt.hist(Sgcc, alpha=0.3, color='blue', label=\"SLOW\")\n",
        "plt.hist(Ngcc, alpha=0.3, color='green', label=\"NORMAL\")\n",
        "plt.hist(Agcc, alpha=0.3, color='red', label=\"AGGRESSIVE\")\n",
        "plt.legend()\n",
        "\n",
        "plt.show()"
      ]
    },
    {
      "cell_type": "markdown",
      "source": [
        "# Muestreo y transformación de los datos para los modelos"
      ],
      "metadata": {
        "id": "YdhAZGXw8XUa"
      }
    },
    {
      "cell_type": "code",
      "execution_count": null,
      "metadata": {
        "colab": {
          "base_uri": "https://localhost:8080/",
          "height": 300
        },
        "id": "Z-w259WgjrXu",
        "outputId": "3b02d520-4378-4a51-b072-6bfeec912ddd"
      },
      "outputs": [
        {
          "output_type": "execute_result",
          "data": {
            "text/plain": [
              "              AccX         AccY         AccZ        GyroX        GyroY  \\\n",
              "count  1331.000000  1331.000000  1331.000000  1331.000000  1331.000000   \n",
              "mean      0.046646    -0.033454     0.009289     0.002450    -0.000246   \n",
              "std       0.859006     0.736353     0.867061     0.068146     0.125422   \n",
              "min      -4.636523    -2.881108    -3.652553    -0.751822    -1.587028   \n",
              "25%      -0.482434    -0.494225    -0.523700    -0.027336    -0.048869   \n",
              "50%       0.003830    -0.035237    -0.000300     0.003818    -0.001833   \n",
              "75%       0.539944     0.411848     0.501315     0.032834     0.047037   \n",
              "max       3.278154     3.273867     4.664911     0.666607     1.679879   \n",
              "\n",
              "             GyroZ    Timestamp  \n",
              "count  1331.000000  1331.000000  \n",
              "mean      0.003893  3583.812923  \n",
              "std       0.102954   439.659744  \n",
              "min      -1.236468  2830.000000  \n",
              "25%      -0.026954  3190.000000  \n",
              "50%       0.002367  3607.000000  \n",
              "75%       0.034743  3966.500000  \n",
              "max       1.190500  4325.000000  "
            ],
            "text/html": [
              "\n",
              "  <div id=\"df-d2f5e74f-f57b-4953-a9e2-fc0bd1d5c1b2\">\n",
              "    <div class=\"colab-df-container\">\n",
              "      <div>\n",
              "<style scoped>\n",
              "    .dataframe tbody tr th:only-of-type {\n",
              "        vertical-align: middle;\n",
              "    }\n",
              "\n",
              "    .dataframe tbody tr th {\n",
              "        vertical-align: top;\n",
              "    }\n",
              "\n",
              "    .dataframe thead th {\n",
              "        text-align: right;\n",
              "    }\n",
              "</style>\n",
              "<table border=\"1\" class=\"dataframe\">\n",
              "  <thead>\n",
              "    <tr style=\"text-align: right;\">\n",
              "      <th></th>\n",
              "      <th>AccX</th>\n",
              "      <th>AccY</th>\n",
              "      <th>AccZ</th>\n",
              "      <th>GyroX</th>\n",
              "      <th>GyroY</th>\n",
              "      <th>GyroZ</th>\n",
              "      <th>Timestamp</th>\n",
              "    </tr>\n",
              "  </thead>\n",
              "  <tbody>\n",
              "    <tr>\n",
              "      <th>count</th>\n",
              "      <td>1331.000000</td>\n",
              "      <td>1331.000000</td>\n",
              "      <td>1331.000000</td>\n",
              "      <td>1331.000000</td>\n",
              "      <td>1331.000000</td>\n",
              "      <td>1331.000000</td>\n",
              "      <td>1331.000000</td>\n",
              "    </tr>\n",
              "    <tr>\n",
              "      <th>mean</th>\n",
              "      <td>0.046646</td>\n",
              "      <td>-0.033454</td>\n",
              "      <td>0.009289</td>\n",
              "      <td>0.002450</td>\n",
              "      <td>-0.000246</td>\n",
              "      <td>0.003893</td>\n",
              "      <td>3583.812923</td>\n",
              "    </tr>\n",
              "    <tr>\n",
              "      <th>std</th>\n",
              "      <td>0.859006</td>\n",
              "      <td>0.736353</td>\n",
              "      <td>0.867061</td>\n",
              "      <td>0.068146</td>\n",
              "      <td>0.125422</td>\n",
              "      <td>0.102954</td>\n",
              "      <td>439.659744</td>\n",
              "    </tr>\n",
              "    <tr>\n",
              "      <th>min</th>\n",
              "      <td>-4.636523</td>\n",
              "      <td>-2.881108</td>\n",
              "      <td>-3.652553</td>\n",
              "      <td>-0.751822</td>\n",
              "      <td>-1.587028</td>\n",
              "      <td>-1.236468</td>\n",
              "      <td>2830.000000</td>\n",
              "    </tr>\n",
              "    <tr>\n",
              "      <th>25%</th>\n",
              "      <td>-0.482434</td>\n",
              "      <td>-0.494225</td>\n",
              "      <td>-0.523700</td>\n",
              "      <td>-0.027336</td>\n",
              "      <td>-0.048869</td>\n",
              "      <td>-0.026954</td>\n",
              "      <td>3190.000000</td>\n",
              "    </tr>\n",
              "    <tr>\n",
              "      <th>50%</th>\n",
              "      <td>0.003830</td>\n",
              "      <td>-0.035237</td>\n",
              "      <td>-0.000300</td>\n",
              "      <td>0.003818</td>\n",
              "      <td>-0.001833</td>\n",
              "      <td>0.002367</td>\n",
              "      <td>3607.000000</td>\n",
              "    </tr>\n",
              "    <tr>\n",
              "      <th>75%</th>\n",
              "      <td>0.539944</td>\n",
              "      <td>0.411848</td>\n",
              "      <td>0.501315</td>\n",
              "      <td>0.032834</td>\n",
              "      <td>0.047037</td>\n",
              "      <td>0.034743</td>\n",
              "      <td>3966.500000</td>\n",
              "    </tr>\n",
              "    <tr>\n",
              "      <th>max</th>\n",
              "      <td>3.278154</td>\n",
              "      <td>3.273867</td>\n",
              "      <td>4.664911</td>\n",
              "      <td>0.666607</td>\n",
              "      <td>1.679879</td>\n",
              "      <td>1.190500</td>\n",
              "      <td>4325.000000</td>\n",
              "    </tr>\n",
              "  </tbody>\n",
              "</table>\n",
              "</div>\n",
              "      <button class=\"colab-df-convert\" onclick=\"convertToInteractive('df-d2f5e74f-f57b-4953-a9e2-fc0bd1d5c1b2')\"\n",
              "              title=\"Convert this dataframe to an interactive table.\"\n",
              "              style=\"display:none;\">\n",
              "        \n",
              "  <svg xmlns=\"http://www.w3.org/2000/svg\" height=\"24px\"viewBox=\"0 0 24 24\"\n",
              "       width=\"24px\">\n",
              "    <path d=\"M0 0h24v24H0V0z\" fill=\"none\"/>\n",
              "    <path d=\"M18.56 5.44l.94 2.06.94-2.06 2.06-.94-2.06-.94-.94-2.06-.94 2.06-2.06.94zm-11 1L8.5 8.5l.94-2.06 2.06-.94-2.06-.94L8.5 2.5l-.94 2.06-2.06.94zm10 10l.94 2.06.94-2.06 2.06-.94-2.06-.94-.94-2.06-.94 2.06-2.06.94z\"/><path d=\"M17.41 7.96l-1.37-1.37c-.4-.4-.92-.59-1.43-.59-.52 0-1.04.2-1.43.59L10.3 9.45l-7.72 7.72c-.78.78-.78 2.05 0 2.83L4 21.41c.39.39.9.59 1.41.59.51 0 1.02-.2 1.41-.59l7.78-7.78 2.81-2.81c.8-.78.8-2.07 0-2.86zM5.41 20L4 18.59l7.72-7.72 1.47 1.35L5.41 20z\"/>\n",
              "  </svg>\n",
              "      </button>\n",
              "      \n",
              "  <style>\n",
              "    .colab-df-container {\n",
              "      display:flex;\n",
              "      flex-wrap:wrap;\n",
              "      gap: 12px;\n",
              "    }\n",
              "\n",
              "    .colab-df-convert {\n",
              "      background-color: #E8F0FE;\n",
              "      border: none;\n",
              "      border-radius: 50%;\n",
              "      cursor: pointer;\n",
              "      display: none;\n",
              "      fill: #1967D2;\n",
              "      height: 32px;\n",
              "      padding: 0 0 0 0;\n",
              "      width: 32px;\n",
              "    }\n",
              "\n",
              "    .colab-df-convert:hover {\n",
              "      background-color: #E2EBFA;\n",
              "      box-shadow: 0px 1px 2px rgba(60, 64, 67, 0.3), 0px 1px 3px 1px rgba(60, 64, 67, 0.15);\n",
              "      fill: #174EA6;\n",
              "    }\n",
              "\n",
              "    [theme=dark] .colab-df-convert {\n",
              "      background-color: #3B4455;\n",
              "      fill: #D2E3FC;\n",
              "    }\n",
              "\n",
              "    [theme=dark] .colab-df-convert:hover {\n",
              "      background-color: #434B5C;\n",
              "      box-shadow: 0px 1px 3px 1px rgba(0, 0, 0, 0.15);\n",
              "      filter: drop-shadow(0px 1px 2px rgba(0, 0, 0, 0.3));\n",
              "      fill: #FFFFFF;\n",
              "    }\n",
              "  </style>\n",
              "\n",
              "      <script>\n",
              "        const buttonEl =\n",
              "          document.querySelector('#df-d2f5e74f-f57b-4953-a9e2-fc0bd1d5c1b2 button.colab-df-convert');\n",
              "        buttonEl.style.display =\n",
              "          google.colab.kernel.accessAllowed ? 'block' : 'none';\n",
              "\n",
              "        async function convertToInteractive(key) {\n",
              "          const element = document.querySelector('#df-d2f5e74f-f57b-4953-a9e2-fc0bd1d5c1b2');\n",
              "          const dataTable =\n",
              "            await google.colab.kernel.invokeFunction('convertToInteractive',\n",
              "                                                     [key], {});\n",
              "          if (!dataTable) return;\n",
              "\n",
              "          const docLinkHtml = 'Like what you see? Visit the ' +\n",
              "            '<a target=\"_blank\" href=https://colab.research.google.com/notebooks/data_table.ipynb>data table notebook</a>'\n",
              "            + ' to learn more about interactive tables.';\n",
              "          element.innerHTML = '';\n",
              "          dataTable['output_type'] = 'display_data';\n",
              "          await google.colab.output.renderOutput(dataTable, element);\n",
              "          const docLink = document.createElement('div');\n",
              "          docLink.innerHTML = docLinkHtml;\n",
              "          element.appendChild(docLink);\n",
              "        }\n",
              "      </script>\n",
              "    </div>\n",
              "  </div>\n",
              "  "
            ]
          },
          "metadata": {},
          "execution_count": 37
        }
      ],
      "source": [
        "# Haremos un resúmen a grandes rasgos de la información de los conductores lentos\n",
        "t_trainSlow.describe()"
      ]
    },
    {
      "cell_type": "code",
      "execution_count": null,
      "metadata": {
        "colab": {
          "base_uri": "https://localhost:8080/",
          "height": 300
        },
        "id": "wkmLZ9D1jraI",
        "outputId": "c289dccf-32ef-490e-8250-ff8ad81815ce"
      },
      "outputs": [
        {
          "output_type": "execute_result",
          "data": {
            "text/plain": [
              "              AccX         AccY         AccZ        GyroX        GyroY  \\\n",
              "count  1200.000000  1200.000000  1200.000000  1200.000000  1200.000000   \n",
              "mean     -0.017973    -0.027739     0.034425     0.001905    -0.000916   \n",
              "std       0.866247     0.814376     0.964496     0.060716     0.117546   \n",
              "min      -2.897342    -3.578845    -3.825483    -0.287565    -1.290758   \n",
              "25%      -0.561982    -0.519837    -0.555840    -0.029169    -0.051465   \n",
              "50%      -0.005193    -0.057561     0.006496     0.000153    -0.003054   \n",
              "75%       0.509171     0.466374     0.552031     0.032529     0.049022   \n",
              "max       3.756986     3.650834     4.954320     0.281762     0.692110   \n",
              "\n",
              "             GyroZ    Timestamp  \n",
              "count  1200.000000  1200.000000  \n",
              "mean      0.009527   647.986667  \n",
              "std       0.113778   374.266718  \n",
              "min      -0.962189     1.000000  \n",
              "25%      -0.031230   324.500000  \n",
              "50%       0.003283   648.000000  \n",
              "75%       0.041462   971.500000  \n",
              "max       0.731129  1295.000000  "
            ],
            "text/html": [
              "\n",
              "  <div id=\"df-89c1dea6-f8e8-4e28-9054-8cafe4f47866\">\n",
              "    <div class=\"colab-df-container\">\n",
              "      <div>\n",
              "<style scoped>\n",
              "    .dataframe tbody tr th:only-of-type {\n",
              "        vertical-align: middle;\n",
              "    }\n",
              "\n",
              "    .dataframe tbody tr th {\n",
              "        vertical-align: top;\n",
              "    }\n",
              "\n",
              "    .dataframe thead th {\n",
              "        text-align: right;\n",
              "    }\n",
              "</style>\n",
              "<table border=\"1\" class=\"dataframe\">\n",
              "  <thead>\n",
              "    <tr style=\"text-align: right;\">\n",
              "      <th></th>\n",
              "      <th>AccX</th>\n",
              "      <th>AccY</th>\n",
              "      <th>AccZ</th>\n",
              "      <th>GyroX</th>\n",
              "      <th>GyroY</th>\n",
              "      <th>GyroZ</th>\n",
              "      <th>Timestamp</th>\n",
              "    </tr>\n",
              "  </thead>\n",
              "  <tbody>\n",
              "    <tr>\n",
              "      <th>count</th>\n",
              "      <td>1200.000000</td>\n",
              "      <td>1200.000000</td>\n",
              "      <td>1200.000000</td>\n",
              "      <td>1200.000000</td>\n",
              "      <td>1200.000000</td>\n",
              "      <td>1200.000000</td>\n",
              "      <td>1200.000000</td>\n",
              "    </tr>\n",
              "    <tr>\n",
              "      <th>mean</th>\n",
              "      <td>-0.017973</td>\n",
              "      <td>-0.027739</td>\n",
              "      <td>0.034425</td>\n",
              "      <td>0.001905</td>\n",
              "      <td>-0.000916</td>\n",
              "      <td>0.009527</td>\n",
              "      <td>647.986667</td>\n",
              "    </tr>\n",
              "    <tr>\n",
              "      <th>std</th>\n",
              "      <td>0.866247</td>\n",
              "      <td>0.814376</td>\n",
              "      <td>0.964496</td>\n",
              "      <td>0.060716</td>\n",
              "      <td>0.117546</td>\n",
              "      <td>0.113778</td>\n",
              "      <td>374.266718</td>\n",
              "    </tr>\n",
              "    <tr>\n",
              "      <th>min</th>\n",
              "      <td>-2.897342</td>\n",
              "      <td>-3.578845</td>\n",
              "      <td>-3.825483</td>\n",
              "      <td>-0.287565</td>\n",
              "      <td>-1.290758</td>\n",
              "      <td>-0.962189</td>\n",
              "      <td>1.000000</td>\n",
              "    </tr>\n",
              "    <tr>\n",
              "      <th>25%</th>\n",
              "      <td>-0.561982</td>\n",
              "      <td>-0.519837</td>\n",
              "      <td>-0.555840</td>\n",
              "      <td>-0.029169</td>\n",
              "      <td>-0.051465</td>\n",
              "      <td>-0.031230</td>\n",
              "      <td>324.500000</td>\n",
              "    </tr>\n",
              "    <tr>\n",
              "      <th>50%</th>\n",
              "      <td>-0.005193</td>\n",
              "      <td>-0.057561</td>\n",
              "      <td>0.006496</td>\n",
              "      <td>0.000153</td>\n",
              "      <td>-0.003054</td>\n",
              "      <td>0.003283</td>\n",
              "      <td>648.000000</td>\n",
              "    </tr>\n",
              "    <tr>\n",
              "      <th>75%</th>\n",
              "      <td>0.509171</td>\n",
              "      <td>0.466374</td>\n",
              "      <td>0.552031</td>\n",
              "      <td>0.032529</td>\n",
              "      <td>0.049022</td>\n",
              "      <td>0.041462</td>\n",
              "      <td>971.500000</td>\n",
              "    </tr>\n",
              "    <tr>\n",
              "      <th>max</th>\n",
              "      <td>3.756986</td>\n",
              "      <td>3.650834</td>\n",
              "      <td>4.954320</td>\n",
              "      <td>0.281762</td>\n",
              "      <td>0.692110</td>\n",
              "      <td>0.731129</td>\n",
              "      <td>1295.000000</td>\n",
              "    </tr>\n",
              "  </tbody>\n",
              "</table>\n",
              "</div>\n",
              "      <button class=\"colab-df-convert\" onclick=\"convertToInteractive('df-89c1dea6-f8e8-4e28-9054-8cafe4f47866')\"\n",
              "              title=\"Convert this dataframe to an interactive table.\"\n",
              "              style=\"display:none;\">\n",
              "        \n",
              "  <svg xmlns=\"http://www.w3.org/2000/svg\" height=\"24px\"viewBox=\"0 0 24 24\"\n",
              "       width=\"24px\">\n",
              "    <path d=\"M0 0h24v24H0V0z\" fill=\"none\"/>\n",
              "    <path d=\"M18.56 5.44l.94 2.06.94-2.06 2.06-.94-2.06-.94-.94-2.06-.94 2.06-2.06.94zm-11 1L8.5 8.5l.94-2.06 2.06-.94-2.06-.94L8.5 2.5l-.94 2.06-2.06.94zm10 10l.94 2.06.94-2.06 2.06-.94-2.06-.94-.94-2.06-.94 2.06-2.06.94z\"/><path d=\"M17.41 7.96l-1.37-1.37c-.4-.4-.92-.59-1.43-.59-.52 0-1.04.2-1.43.59L10.3 9.45l-7.72 7.72c-.78.78-.78 2.05 0 2.83L4 21.41c.39.39.9.59 1.41.59.51 0 1.02-.2 1.41-.59l7.78-7.78 2.81-2.81c.8-.78.8-2.07 0-2.86zM5.41 20L4 18.59l7.72-7.72 1.47 1.35L5.41 20z\"/>\n",
              "  </svg>\n",
              "      </button>\n",
              "      \n",
              "  <style>\n",
              "    .colab-df-container {\n",
              "      display:flex;\n",
              "      flex-wrap:wrap;\n",
              "      gap: 12px;\n",
              "    }\n",
              "\n",
              "    .colab-df-convert {\n",
              "      background-color: #E8F0FE;\n",
              "      border: none;\n",
              "      border-radius: 50%;\n",
              "      cursor: pointer;\n",
              "      display: none;\n",
              "      fill: #1967D2;\n",
              "      height: 32px;\n",
              "      padding: 0 0 0 0;\n",
              "      width: 32px;\n",
              "    }\n",
              "\n",
              "    .colab-df-convert:hover {\n",
              "      background-color: #E2EBFA;\n",
              "      box-shadow: 0px 1px 2px rgba(60, 64, 67, 0.3), 0px 1px 3px 1px rgba(60, 64, 67, 0.15);\n",
              "      fill: #174EA6;\n",
              "    }\n",
              "\n",
              "    [theme=dark] .colab-df-convert {\n",
              "      background-color: #3B4455;\n",
              "      fill: #D2E3FC;\n",
              "    }\n",
              "\n",
              "    [theme=dark] .colab-df-convert:hover {\n",
              "      background-color: #434B5C;\n",
              "      box-shadow: 0px 1px 3px 1px rgba(0, 0, 0, 0.15);\n",
              "      filter: drop-shadow(0px 1px 2px rgba(0, 0, 0, 0.3));\n",
              "      fill: #FFFFFF;\n",
              "    }\n",
              "  </style>\n",
              "\n",
              "      <script>\n",
              "        const buttonEl =\n",
              "          document.querySelector('#df-89c1dea6-f8e8-4e28-9054-8cafe4f47866 button.colab-df-convert');\n",
              "        buttonEl.style.display =\n",
              "          google.colab.kernel.accessAllowed ? 'block' : 'none';\n",
              "\n",
              "        async function convertToInteractive(key) {\n",
              "          const element = document.querySelector('#df-89c1dea6-f8e8-4e28-9054-8cafe4f47866');\n",
              "          const dataTable =\n",
              "            await google.colab.kernel.invokeFunction('convertToInteractive',\n",
              "                                                     [key], {});\n",
              "          if (!dataTable) return;\n",
              "\n",
              "          const docLinkHtml = 'Like what you see? Visit the ' +\n",
              "            '<a target=\"_blank\" href=https://colab.research.google.com/notebooks/data_table.ipynb>data table notebook</a>'\n",
              "            + ' to learn more about interactive tables.';\n",
              "          element.innerHTML = '';\n",
              "          dataTable['output_type'] = 'display_data';\n",
              "          await google.colab.output.renderOutput(dataTable, element);\n",
              "          const docLink = document.createElement('div');\n",
              "          docLink.innerHTML = docLinkHtml;\n",
              "          element.appendChild(docLink);\n",
              "        }\n",
              "      </script>\n",
              "    </div>\n",
              "  </div>\n",
              "  "
            ]
          },
          "metadata": {},
          "execution_count": 38
        }
      ],
      "source": [
        "# Haremos un resúmen a grandes rasgos de la información de los conductores normales\n",
        "t_trainNormal.describe()"
      ]
    },
    {
      "cell_type": "code",
      "execution_count": null,
      "metadata": {
        "colab": {
          "base_uri": "https://localhost:8080/",
          "height": 300
        },
        "id": "6gGo-g9sjrcc",
        "outputId": "3b7f89ea-624e-4e2a-d1a5-46e6897c0780"
      },
      "outputs": [
        {
          "output_type": "execute_result",
          "data": {
            "text/plain": [
              "              AccX         AccY         AccZ        GyroX        GyroY  \\\n",
              "count  1113.000000  1113.000000  1113.000000  1113.000000  1113.000000   \n",
              "mean      0.096086    -0.170461    -0.021144     0.000230    -0.002886   \n",
              "std       1.218311     1.138666     1.129207     0.071682     0.135881   \n",
              "min      -4.132884    -4.699795    -7.143998    -0.558178    -1.290758   \n",
              "25%      -0.629725    -0.822552    -0.637329    -0.029169    -0.064752   \n",
              "50%       0.023777    -0.182746     0.008389     0.001985    -0.002443   \n",
              "75%       0.766508     0.516303     0.626818     0.030085     0.058032   \n",
              "max       4.985548     4.245151     5.171739     0.849255     1.255328   \n",
              "\n",
              "             GyroZ    Timestamp  \n",
              "count  1113.000000  1113.000000  \n",
              "mean      0.011099  2074.480683  \n",
              "std       0.131061   347.157387  \n",
              "min      -0.829631  1474.000000  \n",
              "25%      -0.033063  1774.000000  \n",
              "50%       0.002367  2075.000000  \n",
              "75%       0.046960  2375.000000  \n",
              "max       1.006019  2675.000000  "
            ],
            "text/html": [
              "\n",
              "  <div id=\"df-6f2a05e6-a595-4b1d-ba1b-5e914d4cc122\">\n",
              "    <div class=\"colab-df-container\">\n",
              "      <div>\n",
              "<style scoped>\n",
              "    .dataframe tbody tr th:only-of-type {\n",
              "        vertical-align: middle;\n",
              "    }\n",
              "\n",
              "    .dataframe tbody tr th {\n",
              "        vertical-align: top;\n",
              "    }\n",
              "\n",
              "    .dataframe thead th {\n",
              "        text-align: right;\n",
              "    }\n",
              "</style>\n",
              "<table border=\"1\" class=\"dataframe\">\n",
              "  <thead>\n",
              "    <tr style=\"text-align: right;\">\n",
              "      <th></th>\n",
              "      <th>AccX</th>\n",
              "      <th>AccY</th>\n",
              "      <th>AccZ</th>\n",
              "      <th>GyroX</th>\n",
              "      <th>GyroY</th>\n",
              "      <th>GyroZ</th>\n",
              "      <th>Timestamp</th>\n",
              "    </tr>\n",
              "  </thead>\n",
              "  <tbody>\n",
              "    <tr>\n",
              "      <th>count</th>\n",
              "      <td>1113.000000</td>\n",
              "      <td>1113.000000</td>\n",
              "      <td>1113.000000</td>\n",
              "      <td>1113.000000</td>\n",
              "      <td>1113.000000</td>\n",
              "      <td>1113.000000</td>\n",
              "      <td>1113.000000</td>\n",
              "    </tr>\n",
              "    <tr>\n",
              "      <th>mean</th>\n",
              "      <td>0.096086</td>\n",
              "      <td>-0.170461</td>\n",
              "      <td>-0.021144</td>\n",
              "      <td>0.000230</td>\n",
              "      <td>-0.002886</td>\n",
              "      <td>0.011099</td>\n",
              "      <td>2074.480683</td>\n",
              "    </tr>\n",
              "    <tr>\n",
              "      <th>std</th>\n",
              "      <td>1.218311</td>\n",
              "      <td>1.138666</td>\n",
              "      <td>1.129207</td>\n",
              "      <td>0.071682</td>\n",
              "      <td>0.135881</td>\n",
              "      <td>0.131061</td>\n",
              "      <td>347.157387</td>\n",
              "    </tr>\n",
              "    <tr>\n",
              "      <th>min</th>\n",
              "      <td>-4.132884</td>\n",
              "      <td>-4.699795</td>\n",
              "      <td>-7.143998</td>\n",
              "      <td>-0.558178</td>\n",
              "      <td>-1.290758</td>\n",
              "      <td>-0.829631</td>\n",
              "      <td>1474.000000</td>\n",
              "    </tr>\n",
              "    <tr>\n",
              "      <th>25%</th>\n",
              "      <td>-0.629725</td>\n",
              "      <td>-0.822552</td>\n",
              "      <td>-0.637329</td>\n",
              "      <td>-0.029169</td>\n",
              "      <td>-0.064752</td>\n",
              "      <td>-0.033063</td>\n",
              "      <td>1774.000000</td>\n",
              "    </tr>\n",
              "    <tr>\n",
              "      <th>50%</th>\n",
              "      <td>0.023777</td>\n",
              "      <td>-0.182746</td>\n",
              "      <td>0.008389</td>\n",
              "      <td>0.001985</td>\n",
              "      <td>-0.002443</td>\n",
              "      <td>0.002367</td>\n",
              "      <td>2075.000000</td>\n",
              "    </tr>\n",
              "    <tr>\n",
              "      <th>75%</th>\n",
              "      <td>0.766508</td>\n",
              "      <td>0.516303</td>\n",
              "      <td>0.626818</td>\n",
              "      <td>0.030085</td>\n",
              "      <td>0.058032</td>\n",
              "      <td>0.046960</td>\n",
              "      <td>2375.000000</td>\n",
              "    </tr>\n",
              "    <tr>\n",
              "      <th>max</th>\n",
              "      <td>4.985548</td>\n",
              "      <td>4.245151</td>\n",
              "      <td>5.171739</td>\n",
              "      <td>0.849255</td>\n",
              "      <td>1.255328</td>\n",
              "      <td>1.006019</td>\n",
              "      <td>2675.000000</td>\n",
              "    </tr>\n",
              "  </tbody>\n",
              "</table>\n",
              "</div>\n",
              "      <button class=\"colab-df-convert\" onclick=\"convertToInteractive('df-6f2a05e6-a595-4b1d-ba1b-5e914d4cc122')\"\n",
              "              title=\"Convert this dataframe to an interactive table.\"\n",
              "              style=\"display:none;\">\n",
              "        \n",
              "  <svg xmlns=\"http://www.w3.org/2000/svg\" height=\"24px\"viewBox=\"0 0 24 24\"\n",
              "       width=\"24px\">\n",
              "    <path d=\"M0 0h24v24H0V0z\" fill=\"none\"/>\n",
              "    <path d=\"M18.56 5.44l.94 2.06.94-2.06 2.06-.94-2.06-.94-.94-2.06-.94 2.06-2.06.94zm-11 1L8.5 8.5l.94-2.06 2.06-.94-2.06-.94L8.5 2.5l-.94 2.06-2.06.94zm10 10l.94 2.06.94-2.06 2.06-.94-2.06-.94-.94-2.06-.94 2.06-2.06.94z\"/><path d=\"M17.41 7.96l-1.37-1.37c-.4-.4-.92-.59-1.43-.59-.52 0-1.04.2-1.43.59L10.3 9.45l-7.72 7.72c-.78.78-.78 2.05 0 2.83L4 21.41c.39.39.9.59 1.41.59.51 0 1.02-.2 1.41-.59l7.78-7.78 2.81-2.81c.8-.78.8-2.07 0-2.86zM5.41 20L4 18.59l7.72-7.72 1.47 1.35L5.41 20z\"/>\n",
              "  </svg>\n",
              "      </button>\n",
              "      \n",
              "  <style>\n",
              "    .colab-df-container {\n",
              "      display:flex;\n",
              "      flex-wrap:wrap;\n",
              "      gap: 12px;\n",
              "    }\n",
              "\n",
              "    .colab-df-convert {\n",
              "      background-color: #E8F0FE;\n",
              "      border: none;\n",
              "      border-radius: 50%;\n",
              "      cursor: pointer;\n",
              "      display: none;\n",
              "      fill: #1967D2;\n",
              "      height: 32px;\n",
              "      padding: 0 0 0 0;\n",
              "      width: 32px;\n",
              "    }\n",
              "\n",
              "    .colab-df-convert:hover {\n",
              "      background-color: #E2EBFA;\n",
              "      box-shadow: 0px 1px 2px rgba(60, 64, 67, 0.3), 0px 1px 3px 1px rgba(60, 64, 67, 0.15);\n",
              "      fill: #174EA6;\n",
              "    }\n",
              "\n",
              "    [theme=dark] .colab-df-convert {\n",
              "      background-color: #3B4455;\n",
              "      fill: #D2E3FC;\n",
              "    }\n",
              "\n",
              "    [theme=dark] .colab-df-convert:hover {\n",
              "      background-color: #434B5C;\n",
              "      box-shadow: 0px 1px 3px 1px rgba(0, 0, 0, 0.15);\n",
              "      filter: drop-shadow(0px 1px 2px rgba(0, 0, 0, 0.3));\n",
              "      fill: #FFFFFF;\n",
              "    }\n",
              "  </style>\n",
              "\n",
              "      <script>\n",
              "        const buttonEl =\n",
              "          document.querySelector('#df-6f2a05e6-a595-4b1d-ba1b-5e914d4cc122 button.colab-df-convert');\n",
              "        buttonEl.style.display =\n",
              "          google.colab.kernel.accessAllowed ? 'block' : 'none';\n",
              "\n",
              "        async function convertToInteractive(key) {\n",
              "          const element = document.querySelector('#df-6f2a05e6-a595-4b1d-ba1b-5e914d4cc122');\n",
              "          const dataTable =\n",
              "            await google.colab.kernel.invokeFunction('convertToInteractive',\n",
              "                                                     [key], {});\n",
              "          if (!dataTable) return;\n",
              "\n",
              "          const docLinkHtml = 'Like what you see? Visit the ' +\n",
              "            '<a target=\"_blank\" href=https://colab.research.google.com/notebooks/data_table.ipynb>data table notebook</a>'\n",
              "            + ' to learn more about interactive tables.';\n",
              "          element.innerHTML = '';\n",
              "          dataTable['output_type'] = 'display_data';\n",
              "          await google.colab.output.renderOutput(dataTable, element);\n",
              "          const docLink = document.createElement('div');\n",
              "          docLink.innerHTML = docLinkHtml;\n",
              "          element.appendChild(docLink);\n",
              "        }\n",
              "      </script>\n",
              "    </div>\n",
              "  </div>\n",
              "  "
            ]
          },
          "metadata": {},
          "execution_count": 39
        }
      ],
      "source": [
        "# Haremos un resúmen a grandes rasgos de la información de los conductores agresivos\n",
        "t_trainAggressive.describe()"
      ]
    },
    {
      "cell_type": "code",
      "execution_count": null,
      "metadata": {
        "colab": {
          "base_uri": "https://localhost:8080/",
          "height": 300
        },
        "id": "KdBUSyEV1AOh",
        "outputId": "30fe2cde-d77b-49e8-e17b-774fc5e6d542"
      },
      "outputs": [
        {
          "output_type": "execute_result",
          "data": {
            "text/plain": [
              "              AccX         AccY         AccZ        GyroX        GyroY  \\\n",
              "count  3084.000000  3084.000000  3084.000000  3084.000000  3084.000000   \n",
              "mean      0.106234    -0.131791     0.045011     0.003192     0.001452   \n",
              "std       0.968089     0.904398     0.997625     0.066636     0.120963   \n",
              "min      -4.854163    -7.621754    -6.106982    -0.514959    -1.309466   \n",
              "25%      -0.408916    -0.625868    -0.461438    -0.024435    -0.045739   \n",
              "50%       0.051892    -0.096929     0.054154     0.001222    -0.000993   \n",
              "75%       0.579148     0.393118     0.575119     0.028100     0.043601   \n",
              "max       5.864980     4.308813     5.564037     1.490511     1.707598   \n",
              "\n",
              "             GyroZ      Timestamp  \n",
              "count  3084.000000    3084.000000  \n",
              "mean      0.011472  819830.000324  \n",
              "std       0.113535     525.760733  \n",
              "min      -0.976315  818922.000000  \n",
              "25%      -0.027031  819338.000000  \n",
              "50%       0.002291  819832.500000  \n",
              "75%       0.035888  820292.250000  \n",
              "max       0.719447  820709.000000  "
            ],
            "text/html": [
              "\n",
              "  <div id=\"df-77f1e5c4-9029-423c-bdbb-144484b17552\">\n",
              "    <div class=\"colab-df-container\">\n",
              "      <div>\n",
              "<style scoped>\n",
              "    .dataframe tbody tr th:only-of-type {\n",
              "        vertical-align: middle;\n",
              "    }\n",
              "\n",
              "    .dataframe tbody tr th {\n",
              "        vertical-align: top;\n",
              "    }\n",
              "\n",
              "    .dataframe thead th {\n",
              "        text-align: right;\n",
              "    }\n",
              "</style>\n",
              "<table border=\"1\" class=\"dataframe\">\n",
              "  <thead>\n",
              "    <tr style=\"text-align: right;\">\n",
              "      <th></th>\n",
              "      <th>AccX</th>\n",
              "      <th>AccY</th>\n",
              "      <th>AccZ</th>\n",
              "      <th>GyroX</th>\n",
              "      <th>GyroY</th>\n",
              "      <th>GyroZ</th>\n",
              "      <th>Timestamp</th>\n",
              "    </tr>\n",
              "  </thead>\n",
              "  <tbody>\n",
              "    <tr>\n",
              "      <th>count</th>\n",
              "      <td>3084.000000</td>\n",
              "      <td>3084.000000</td>\n",
              "      <td>3084.000000</td>\n",
              "      <td>3084.000000</td>\n",
              "      <td>3084.000000</td>\n",
              "      <td>3084.000000</td>\n",
              "      <td>3084.000000</td>\n",
              "    </tr>\n",
              "    <tr>\n",
              "      <th>mean</th>\n",
              "      <td>0.106234</td>\n",
              "      <td>-0.131791</td>\n",
              "      <td>0.045011</td>\n",
              "      <td>0.003192</td>\n",
              "      <td>0.001452</td>\n",
              "      <td>0.011472</td>\n",
              "      <td>819830.000324</td>\n",
              "    </tr>\n",
              "    <tr>\n",
              "      <th>std</th>\n",
              "      <td>0.968089</td>\n",
              "      <td>0.904398</td>\n",
              "      <td>0.997625</td>\n",
              "      <td>0.066636</td>\n",
              "      <td>0.120963</td>\n",
              "      <td>0.113535</td>\n",
              "      <td>525.760733</td>\n",
              "    </tr>\n",
              "    <tr>\n",
              "      <th>min</th>\n",
              "      <td>-4.854163</td>\n",
              "      <td>-7.621754</td>\n",
              "      <td>-6.106982</td>\n",
              "      <td>-0.514959</td>\n",
              "      <td>-1.309466</td>\n",
              "      <td>-0.976315</td>\n",
              "      <td>818922.000000</td>\n",
              "    </tr>\n",
              "    <tr>\n",
              "      <th>25%</th>\n",
              "      <td>-0.408916</td>\n",
              "      <td>-0.625868</td>\n",
              "      <td>-0.461438</td>\n",
              "      <td>-0.024435</td>\n",
              "      <td>-0.045739</td>\n",
              "      <td>-0.027031</td>\n",
              "      <td>819338.000000</td>\n",
              "    </tr>\n",
              "    <tr>\n",
              "      <th>50%</th>\n",
              "      <td>0.051892</td>\n",
              "      <td>-0.096929</td>\n",
              "      <td>0.054154</td>\n",
              "      <td>0.001222</td>\n",
              "      <td>-0.000993</td>\n",
              "      <td>0.002291</td>\n",
              "      <td>819832.500000</td>\n",
              "    </tr>\n",
              "    <tr>\n",
              "      <th>75%</th>\n",
              "      <td>0.579148</td>\n",
              "      <td>0.393118</td>\n",
              "      <td>0.575119</td>\n",
              "      <td>0.028100</td>\n",
              "      <td>0.043601</td>\n",
              "      <td>0.035888</td>\n",
              "      <td>820292.250000</td>\n",
              "    </tr>\n",
              "    <tr>\n",
              "      <th>max</th>\n",
              "      <td>5.864980</td>\n",
              "      <td>4.308813</td>\n",
              "      <td>5.564037</td>\n",
              "      <td>1.490511</td>\n",
              "      <td>1.707598</td>\n",
              "      <td>0.719447</td>\n",
              "      <td>820709.000000</td>\n",
              "    </tr>\n",
              "  </tbody>\n",
              "</table>\n",
              "</div>\n",
              "      <button class=\"colab-df-convert\" onclick=\"convertToInteractive('df-77f1e5c4-9029-423c-bdbb-144484b17552')\"\n",
              "              title=\"Convert this dataframe to an interactive table.\"\n",
              "              style=\"display:none;\">\n",
              "        \n",
              "  <svg xmlns=\"http://www.w3.org/2000/svg\" height=\"24px\"viewBox=\"0 0 24 24\"\n",
              "       width=\"24px\">\n",
              "    <path d=\"M0 0h24v24H0V0z\" fill=\"none\"/>\n",
              "    <path d=\"M18.56 5.44l.94 2.06.94-2.06 2.06-.94-2.06-.94-.94-2.06-.94 2.06-2.06.94zm-11 1L8.5 8.5l.94-2.06 2.06-.94-2.06-.94L8.5 2.5l-.94 2.06-2.06.94zm10 10l.94 2.06.94-2.06 2.06-.94-2.06-.94-.94-2.06-.94 2.06-2.06.94z\"/><path d=\"M17.41 7.96l-1.37-1.37c-.4-.4-.92-.59-1.43-.59-.52 0-1.04.2-1.43.59L10.3 9.45l-7.72 7.72c-.78.78-.78 2.05 0 2.83L4 21.41c.39.39.9.59 1.41.59.51 0 1.02-.2 1.41-.59l7.78-7.78 2.81-2.81c.8-.78.8-2.07 0-2.86zM5.41 20L4 18.59l7.72-7.72 1.47 1.35L5.41 20z\"/>\n",
              "  </svg>\n",
              "      </button>\n",
              "      \n",
              "  <style>\n",
              "    .colab-df-container {\n",
              "      display:flex;\n",
              "      flex-wrap:wrap;\n",
              "      gap: 12px;\n",
              "    }\n",
              "\n",
              "    .colab-df-convert {\n",
              "      background-color: #E8F0FE;\n",
              "      border: none;\n",
              "      border-radius: 50%;\n",
              "      cursor: pointer;\n",
              "      display: none;\n",
              "      fill: #1967D2;\n",
              "      height: 32px;\n",
              "      padding: 0 0 0 0;\n",
              "      width: 32px;\n",
              "    }\n",
              "\n",
              "    .colab-df-convert:hover {\n",
              "      background-color: #E2EBFA;\n",
              "      box-shadow: 0px 1px 2px rgba(60, 64, 67, 0.3), 0px 1px 3px 1px rgba(60, 64, 67, 0.15);\n",
              "      fill: #174EA6;\n",
              "    }\n",
              "\n",
              "    [theme=dark] .colab-df-convert {\n",
              "      background-color: #3B4455;\n",
              "      fill: #D2E3FC;\n",
              "    }\n",
              "\n",
              "    [theme=dark] .colab-df-convert:hover {\n",
              "      background-color: #434B5C;\n",
              "      box-shadow: 0px 1px 3px 1px rgba(0, 0, 0, 0.15);\n",
              "      filter: drop-shadow(0px 1px 2px rgba(0, 0, 0, 0.3));\n",
              "      fill: #FFFFFF;\n",
              "    }\n",
              "  </style>\n",
              "\n",
              "      <script>\n",
              "        const buttonEl =\n",
              "          document.querySelector('#df-77f1e5c4-9029-423c-bdbb-144484b17552 button.colab-df-convert');\n",
              "        buttonEl.style.display =\n",
              "          google.colab.kernel.accessAllowed ? 'block' : 'none';\n",
              "\n",
              "        async function convertToInteractive(key) {\n",
              "          const element = document.querySelector('#df-77f1e5c4-9029-423c-bdbb-144484b17552');\n",
              "          const dataTable =\n",
              "            await google.colab.kernel.invokeFunction('convertToInteractive',\n",
              "                                                     [key], {});\n",
              "          if (!dataTable) return;\n",
              "\n",
              "          const docLinkHtml = 'Like what you see? Visit the ' +\n",
              "            '<a target=\"_blank\" href=https://colab.research.google.com/notebooks/data_table.ipynb>data table notebook</a>'\n",
              "            + ' to learn more about interactive tables.';\n",
              "          element.innerHTML = '';\n",
              "          dataTable['output_type'] = 'display_data';\n",
              "          await google.colab.output.renderOutput(dataTable, element);\n",
              "          const docLink = document.createElement('div');\n",
              "          docLink.innerHTML = docLinkHtml;\n",
              "          element.appendChild(docLink);\n",
              "        }\n",
              "      </script>\n",
              "    </div>\n",
              "  </div>\n",
              "  "
            ]
          },
          "metadata": {},
          "execution_count": 40
        }
      ],
      "source": [
        "# Haremos un resúmen a grandes rasgos de la información de los datos de prueba\n",
        "t_test.describe()"
      ]
    },
    {
      "cell_type": "code",
      "execution_count": null,
      "metadata": {
        "colab": {
          "base_uri": "https://localhost:8080/"
        },
        "id": "FF3Uttu9jre1",
        "outputId": "c66ec0cb-ecf1-4d30-c1c7-abfe43fd850c"
      },
      "outputs": [
        {
          "output_type": "execute_result",
          "data": {
            "text/plain": [
              "(31.373425736006322, 26.881887512773126, 31.622793865095534)"
            ]
          },
          "metadata": {},
          "execution_count": 41
        }
      ],
      "source": [
        "# Sumamos los cuadrado de todas las aceleraciones de los conductores lentos, y obtenermos sus raices\n",
        "np.sqrt(sum(t_trainSlow['AccX']**2)),np.sqrt(sum(t_trainSlow['AccY']**2)),np.sqrt(sum(t_trainSlow['AccZ']**2))"
      ]
    },
    {
      "cell_type": "code",
      "execution_count": null,
      "metadata": {
        "colab": {
          "base_uri": "https://localhost:8080/"
        },
        "id": "SDpjGF1XjrhB",
        "outputId": "291f2ccf-16c5-4d06-c1c4-4fa72d82ce2a"
      },
      "outputs": [
        {
          "output_type": "execute_result",
          "data": {
            "text/plain": [
              "(30.001634609595904, 28.215422816556586, 33.41848948677573)"
            ]
          },
          "metadata": {},
          "execution_count": 42
        }
      ],
      "source": [
        "# Sumamos los cuadrado de todas las aceleraciones de los conductores normales, y obtenermos sus raices\n",
        "np.sqrt(sum(t_trainNormal['AccX']**2)),np.sqrt(sum(t_trainNormal['AccY']**2)),np.sqrt(sum(t_trainNormal['AccZ']**2))"
      ]
    },
    {
      "cell_type": "code",
      "execution_count": null,
      "metadata": {
        "colab": {
          "base_uri": "https://localhost:8080/"
        },
        "id": "AEZRRF1YjrjU",
        "outputId": "d0c6b167-e519-492c-c874-bfdde2192555"
      },
      "outputs": [
        {
          "output_type": "execute_result",
          "data": {
            "text/plain": [
              "(40.75289487066118, 38.39421089636513, 37.6619078783764)"
            ]
          },
          "metadata": {},
          "execution_count": 43
        }
      ],
      "source": [
        "# Sumamos los cuadrado de todas las aceleraciones de los conductores agresivos, y obtenermos sus raices\n",
        "np.sqrt(sum(t_trainAggressive['AccX']**2)),np.sqrt(sum(t_trainAggressive['AccY']**2)),np.sqrt(sum(t_trainAggressive['AccZ']**2))"
      ]
    },
    {
      "cell_type": "code",
      "execution_count": null,
      "metadata": {
        "colab": {
          "base_uri": "https://localhost:8080/"
        },
        "id": "7hwv8BSPhCqo",
        "outputId": "086ef405-4ec2-439f-c69c-0f5f6b58837e"
      },
      "outputs": [
        {
          "output_type": "execute_result",
          "data": {
            "text/plain": [
              "(2.4868293562001225, 4.574047656407513, 3.757336369284352)"
            ]
          },
          "metadata": {},
          "execution_count": 44
        }
      ],
      "source": [
        "# Sumamos los cuadrado de todos los giros de los conductores lentos, y obtenermos sus raices\n",
        "np.sqrt(sum(t_trainSlow['GyroX']**2)),np.sqrt(sum(t_trainSlow['GyroY']**2)),np.sqrt(sum(t_trainSlow['GyroZ']**2))"
      ]
    },
    {
      "cell_type": "code",
      "execution_count": null,
      "metadata": {
        "colab": {
          "base_uri": "https://localhost:8080/"
        },
        "id": "jtPO2H97hEn-",
        "outputId": "93abde83-6bac-4ee1-bc0b-9e59b421bef3"
      },
      "outputs": [
        {
          "output_type": "execute_result",
          "data": {
            "text/plain": [
              "(2.1034120482627228, 4.070326278554628, 3.95353570554927)"
            ]
          },
          "metadata": {},
          "execution_count": 45
        }
      ],
      "source": [
        "# Sumamos los cuadrado de todos los giros de los conductores normales, y obtenermos sus raices\n",
        "np.sqrt(sum(t_trainNormal['GyroX']**2)),np.sqrt(sum(t_trainNormal['GyroY']**2)),np.sqrt(sum(t_trainNormal['GyroZ']**2))"
      ]
    },
    {
      "cell_type": "code",
      "execution_count": null,
      "metadata": {
        "colab": {
          "base_uri": "https://localhost:8080/"
        },
        "id": "u8G2iQa9hFQl",
        "outputId": "9f9a84d5-011c-45ed-db94-f88b993310a9"
      },
      "outputs": [
        {
          "output_type": "execute_result",
          "data": {
            "text/plain": [
              "(2.390371273849556, 4.532211747707562, 4.38611917528358)"
            ]
          },
          "metadata": {},
          "execution_count": 46
        }
      ],
      "source": [
        "# Sumamos los cuadrado de todos los giros de los conductores agresivos, y obtenermos sus raices\n",
        "np.sqrt(sum(t_trainAggressive['GyroX']**2)),np.sqrt(sum(t_trainAggressive['GyroY']**2)),np.sqrt(sum(t_trainAggressive['GyroZ']**2))"
      ]
    },
    {
      "cell_type": "code",
      "execution_count": null,
      "metadata": {
        "id": "V9VGcTZBhH-3"
      },
      "outputs": [],
      "source": [
        "# Eliminamos unos datos (hasta 49), nos quedamos con la cantidad maxima posible que sea multiplo de 50\n",
        "k=50\n",
        "t_trainSlow=t_trainSlow[:(len(t_trainSlow)//k)*k]\n",
        "t_trainNormal=t_trainNormal[:(len(t_trainNormal)//k)*k]\n",
        "t_trainAggressive=t_trainAggressive[:(len(t_trainAggressive)//k)*k]\n",
        "t_test=t_test[:(len(t_test)//k)*k]"
      ]
    },
    {
      "cell_type": "code",
      "execution_count": null,
      "metadata": {
        "id": "LM4kuqWMhJm0"
      },
      "outputs": [],
      "source": [
        "# De los conductores lentos, agrupamos los datos en grupos de 50 registros comsecutivos\n",
        "x=t_trainSlow\n",
        "auxAccX=[]\n",
        "auxAccY=[]\n",
        "auxAccZ=[]\n",
        "auxGyroX=[]\n",
        "auxGyroY=[]\n",
        "auxGyroZ=[]\n",
        "for i in range(len(x)//k):\n",
        "  auxAccX.append( np.sqrt(sum(x['AccX'][i*k:i*k+k]**2)) )\n",
        "  auxAccY.append( np.sqrt(sum(x['AccY'][i*k:i*k+k]**2)) )\n",
        "  auxAccZ.append( np.sqrt(sum(x['AccZ'][i*k:i*k+k]**2)) )\n",
        "  auxGyroX.append(  np.sqrt(sum(x['GyroX'][i*k:i*k+k]**2)) )\n",
        "  auxGyroY.append(  np.sqrt(sum(x['GyroY'][i*k:i*k+k]**2)) )\n",
        "  auxGyroZ.append(  np.sqrt(sum(x['GyroZ'][i*k:i*k+k]**2)) )\n",
        "aux={'AccX':auxAccX,'AccY':auxAccY,'AccZ':auxAccZ,'GyroX':auxGyroX,'GyroY':auxGyroY,'GyroZ':auxGyroZ,'Class':'SLOW'}"
      ]
    },
    {
      "cell_type": "code",
      "execution_count": null,
      "metadata": {
        "id": "o30UqXOGhLev"
      },
      "outputs": [],
      "source": [
        "# Creamos un DataFrame con lo antes generado\n",
        "df_train = pd.DataFrame(data = aux ,columns=['AccX','AccY','AccZ','GyroX','GyroY','GyroZ','Class'])"
      ]
    },
    {
      "cell_type": "code",
      "execution_count": null,
      "metadata": {
        "id": "W4rPlDA_hNsb"
      },
      "outputs": [],
      "source": [
        "# De los conductores normales, agrupamos los datos en grupos de 50 registros comsecutivos\n",
        "x=t_trainNormal\n",
        "auxAccX=[]\n",
        "auxAccY=[]\n",
        "auxAccZ=[]\n",
        "auxGyroX=[]\n",
        "auxGyroY=[]\n",
        "auxGyroZ=[]\n",
        "for i in range(len(x)//k):\n",
        "  auxAccX.append( np.sqrt(sum(x['AccX'][i*k:i*k+k]**2)) )\n",
        "  auxAccY.append( np.sqrt(sum(x['AccY'][i*k:i*k+k]**2)) )\n",
        "  auxAccZ.append( np.sqrt(sum(x['AccZ'][i*k:i*k+k]**2)) )\n",
        "  auxGyroX.append(  np.sqrt(sum(x['GyroX'][i*k:i*k+k]**2)) )\n",
        "  auxGyroY.append(  np.sqrt(sum(x['GyroY'][i*k:i*k+k]**2)) )\n",
        "  auxGyroZ.append(  np.sqrt(sum(x['GyroZ'][i*k:i*k+k]**2)) )\n",
        "aux={'AccX':auxAccX,'AccY':auxAccY,'AccZ':auxAccZ,'GyroX':auxGyroX,'GyroY':auxGyroY,'GyroZ':auxGyroZ,'Class':'NORMAL'}"
      ]
    },
    {
      "cell_type": "code",
      "execution_count": null,
      "metadata": {
        "id": "ruyNTfDFhPDy"
      },
      "outputs": [],
      "source": [
        "# Agregamos al DataFrame lo antes generado\n",
        "df_train=df_train.append(pd.DataFrame(data = aux ,columns=['AccX','AccY','AccZ','GyroX','GyroY','GyroZ','Class']),ignore_index=True)"
      ]
    },
    {
      "cell_type": "code",
      "execution_count": null,
      "metadata": {
        "id": "uNEtKjSrhQ_j"
      },
      "outputs": [],
      "source": [
        "# De los conductores agresivos, agrupamos los datos en grupos de 50 registros comsecutivos\n",
        "x=t_trainAggressive\n",
        "auxAccX=[]\n",
        "auxAccY=[]\n",
        "auxAccZ=[]\n",
        "auxGyroX=[]\n",
        "auxGyroY=[]\n",
        "auxGyroZ=[]\n",
        "for i in range(len(x)//k):\n",
        "  auxAccX.append( np.sqrt(sum(x['AccX'][i*k:i*k+k]**2)) )\n",
        "  auxAccY.append( np.sqrt(sum(x['AccY'][i*k:i*k+k]**2)) )\n",
        "  auxAccZ.append( np.sqrt(sum(x['AccZ'][i*k:i*k+k]**2)) )\n",
        "  auxGyroX.append(  np.sqrt(sum(x['GyroX'][i*k:i*k+k]**2)) )\n",
        "  auxGyroY.append(  np.sqrt(sum(x['GyroY'][i*k:i*k+k]**2)) )\n",
        "  auxGyroZ.append(  np.sqrt(sum(x['GyroZ'][i*k:i*k+k]**2)) )\n",
        "aux={'AccX':auxAccX,'AccY':auxAccY,'AccZ':auxAccZ,'GyroX':auxGyroX,'GyroY':auxGyroY,'GyroZ':auxGyroZ,'Class':'AGGRESSIVE'}"
      ]
    },
    {
      "cell_type": "code",
      "execution_count": null,
      "metadata": {
        "id": "0aOAyc4nhSeI"
      },
      "outputs": [],
      "source": [
        "# Agregamos al DataFrame lo antes generado\n",
        "df_train=df_train.append(pd.DataFrame(data = aux ,columns=['AccX','AccY','AccZ','GyroX','GyroY','GyroZ','Class']),ignore_index=True)"
      ]
    },
    {
      "cell_type": "code",
      "execution_count": null,
      "metadata": {
        "id": "ApwXKmoO1tIl"
      },
      "outputs": [],
      "source": [
        "# De los datos de prueba, agrupamos los datos en grupos de 50 registros comsecutivos\n",
        "x=t_test\n",
        "auxAccX=[]\n",
        "auxAccY=[]\n",
        "auxAccZ=[]\n",
        "auxGyroX=[]\n",
        "auxGyroY=[]\n",
        "auxGyroZ=[]\n",
        "auxClass=[]\n",
        "for i in range(len(x)//k):\n",
        "  auxAccX.append( np.sqrt(sum(x['AccX'][i*k:i*k+k]**2)) )\n",
        "  auxAccY.append( np.sqrt(sum(x['AccY'][i*k:i*k+k]**2)) )\n",
        "  auxAccZ.append( np.sqrt(sum(x['AccZ'][i*k:i*k+k]**2)) )\n",
        "  auxGyroX.append(  np.sqrt(sum(x['GyroX'][i*k:i*k+k]**2)) )\n",
        "  auxGyroY.append(  np.sqrt(sum(x['GyroY'][i*k:i*k+k]**2)) )\n",
        "  auxGyroZ.append(  np.sqrt(sum(x['GyroZ'][i*k:i*k+k]**2)) )\n",
        "  auxClass.append( x.Class[i*k:i*k+k].mode()[0] )\n",
        "aux={'AccX':auxAccX,'AccY':auxAccY,'AccZ':auxAccZ,'GyroX':auxGyroX,'GyroY':auxGyroY,'GyroZ':auxGyroZ,'Class':auxClass}"
      ]
    },
    {
      "cell_type": "code",
      "execution_count": null,
      "metadata": {
        "id": "xshDo9tM1vkz"
      },
      "outputs": [],
      "source": [
        "# Creamos un DataFrame con lo antes generado\n",
        "df_test = pd.DataFrame(data = aux ,columns=['AccX','AccY','AccZ','GyroX','GyroY','GyroZ','Class'])"
      ]
    },
    {
      "cell_type": "code",
      "execution_count": null,
      "metadata": {
        "colab": {
          "base_uri": "https://localhost:8080/",
          "height": 269
        },
        "id": "8jfi9FLV4IkV",
        "outputId": "ec603edb-6625-4a74-8e76-4aba5e30fdb6"
      },
      "outputs": [
        {
          "output_type": "execute_result",
          "data": {
            "text/plain": [
              "           AccX      AccY      AccZ     GyroX     GyroY     GyroZ     Class\n",
              "AccX   1.000000  0.597521  0.573540  0.409642  0.342465  0.335307  0.485729\n",
              "AccY   0.597521  1.000000  0.571213  0.317401  0.432063  0.321418  0.711588\n",
              "AccZ   0.573540  0.571213  1.000000  0.377149  0.332149  0.103004  0.474048\n",
              "GyroX  0.409642  0.317401  0.377149  1.000000  0.584394  0.528049  0.138335\n",
              "GyroY  0.342465  0.432063  0.332149  0.584394  1.000000  0.553886  0.278318\n",
              "GyroZ  0.335307  0.321418  0.103004  0.528049  0.553886  1.000000  0.228765\n",
              "Class  0.485729  0.711588  0.474048  0.138335  0.278318  0.228765  1.000000"
            ],
            "text/html": [
              "\n",
              "  <div id=\"df-9bf8789a-08f1-446d-82f7-ecdb0ea7ce5d\">\n",
              "    <div class=\"colab-df-container\">\n",
              "      <div>\n",
              "<style scoped>\n",
              "    .dataframe tbody tr th:only-of-type {\n",
              "        vertical-align: middle;\n",
              "    }\n",
              "\n",
              "    .dataframe tbody tr th {\n",
              "        vertical-align: top;\n",
              "    }\n",
              "\n",
              "    .dataframe thead th {\n",
              "        text-align: right;\n",
              "    }\n",
              "</style>\n",
              "<table border=\"1\" class=\"dataframe\">\n",
              "  <thead>\n",
              "    <tr style=\"text-align: right;\">\n",
              "      <th></th>\n",
              "      <th>AccX</th>\n",
              "      <th>AccY</th>\n",
              "      <th>AccZ</th>\n",
              "      <th>GyroX</th>\n",
              "      <th>GyroY</th>\n",
              "      <th>GyroZ</th>\n",
              "      <th>Class</th>\n",
              "    </tr>\n",
              "  </thead>\n",
              "  <tbody>\n",
              "    <tr>\n",
              "      <th>AccX</th>\n",
              "      <td>1.000000</td>\n",
              "      <td>0.597521</td>\n",
              "      <td>0.573540</td>\n",
              "      <td>0.409642</td>\n",
              "      <td>0.342465</td>\n",
              "      <td>0.335307</td>\n",
              "      <td>0.485729</td>\n",
              "    </tr>\n",
              "    <tr>\n",
              "      <th>AccY</th>\n",
              "      <td>0.597521</td>\n",
              "      <td>1.000000</td>\n",
              "      <td>0.571213</td>\n",
              "      <td>0.317401</td>\n",
              "      <td>0.432063</td>\n",
              "      <td>0.321418</td>\n",
              "      <td>0.711588</td>\n",
              "    </tr>\n",
              "    <tr>\n",
              "      <th>AccZ</th>\n",
              "      <td>0.573540</td>\n",
              "      <td>0.571213</td>\n",
              "      <td>1.000000</td>\n",
              "      <td>0.377149</td>\n",
              "      <td>0.332149</td>\n",
              "      <td>0.103004</td>\n",
              "      <td>0.474048</td>\n",
              "    </tr>\n",
              "    <tr>\n",
              "      <th>GyroX</th>\n",
              "      <td>0.409642</td>\n",
              "      <td>0.317401</td>\n",
              "      <td>0.377149</td>\n",
              "      <td>1.000000</td>\n",
              "      <td>0.584394</td>\n",
              "      <td>0.528049</td>\n",
              "      <td>0.138335</td>\n",
              "    </tr>\n",
              "    <tr>\n",
              "      <th>GyroY</th>\n",
              "      <td>0.342465</td>\n",
              "      <td>0.432063</td>\n",
              "      <td>0.332149</td>\n",
              "      <td>0.584394</td>\n",
              "      <td>1.000000</td>\n",
              "      <td>0.553886</td>\n",
              "      <td>0.278318</td>\n",
              "    </tr>\n",
              "    <tr>\n",
              "      <th>GyroZ</th>\n",
              "      <td>0.335307</td>\n",
              "      <td>0.321418</td>\n",
              "      <td>0.103004</td>\n",
              "      <td>0.528049</td>\n",
              "      <td>0.553886</td>\n",
              "      <td>1.000000</td>\n",
              "      <td>0.228765</td>\n",
              "    </tr>\n",
              "    <tr>\n",
              "      <th>Class</th>\n",
              "      <td>0.485729</td>\n",
              "      <td>0.711588</td>\n",
              "      <td>0.474048</td>\n",
              "      <td>0.138335</td>\n",
              "      <td>0.278318</td>\n",
              "      <td>0.228765</td>\n",
              "      <td>1.000000</td>\n",
              "    </tr>\n",
              "  </tbody>\n",
              "</table>\n",
              "</div>\n",
              "      <button class=\"colab-df-convert\" onclick=\"convertToInteractive('df-9bf8789a-08f1-446d-82f7-ecdb0ea7ce5d')\"\n",
              "              title=\"Convert this dataframe to an interactive table.\"\n",
              "              style=\"display:none;\">\n",
              "        \n",
              "  <svg xmlns=\"http://www.w3.org/2000/svg\" height=\"24px\"viewBox=\"0 0 24 24\"\n",
              "       width=\"24px\">\n",
              "    <path d=\"M0 0h24v24H0V0z\" fill=\"none\"/>\n",
              "    <path d=\"M18.56 5.44l.94 2.06.94-2.06 2.06-.94-2.06-.94-.94-2.06-.94 2.06-2.06.94zm-11 1L8.5 8.5l.94-2.06 2.06-.94-2.06-.94L8.5 2.5l-.94 2.06-2.06.94zm10 10l.94 2.06.94-2.06 2.06-.94-2.06-.94-.94-2.06-.94 2.06-2.06.94z\"/><path d=\"M17.41 7.96l-1.37-1.37c-.4-.4-.92-.59-1.43-.59-.52 0-1.04.2-1.43.59L10.3 9.45l-7.72 7.72c-.78.78-.78 2.05 0 2.83L4 21.41c.39.39.9.59 1.41.59.51 0 1.02-.2 1.41-.59l7.78-7.78 2.81-2.81c.8-.78.8-2.07 0-2.86zM5.41 20L4 18.59l7.72-7.72 1.47 1.35L5.41 20z\"/>\n",
              "  </svg>\n",
              "      </button>\n",
              "      \n",
              "  <style>\n",
              "    .colab-df-container {\n",
              "      display:flex;\n",
              "      flex-wrap:wrap;\n",
              "      gap: 12px;\n",
              "    }\n",
              "\n",
              "    .colab-df-convert {\n",
              "      background-color: #E8F0FE;\n",
              "      border: none;\n",
              "      border-radius: 50%;\n",
              "      cursor: pointer;\n",
              "      display: none;\n",
              "      fill: #1967D2;\n",
              "      height: 32px;\n",
              "      padding: 0 0 0 0;\n",
              "      width: 32px;\n",
              "    }\n",
              "\n",
              "    .colab-df-convert:hover {\n",
              "      background-color: #E2EBFA;\n",
              "      box-shadow: 0px 1px 2px rgba(60, 64, 67, 0.3), 0px 1px 3px 1px rgba(60, 64, 67, 0.15);\n",
              "      fill: #174EA6;\n",
              "    }\n",
              "\n",
              "    [theme=dark] .colab-df-convert {\n",
              "      background-color: #3B4455;\n",
              "      fill: #D2E3FC;\n",
              "    }\n",
              "\n",
              "    [theme=dark] .colab-df-convert:hover {\n",
              "      background-color: #434B5C;\n",
              "      box-shadow: 0px 1px 3px 1px rgba(0, 0, 0, 0.15);\n",
              "      filter: drop-shadow(0px 1px 2px rgba(0, 0, 0, 0.3));\n",
              "      fill: #FFFFFF;\n",
              "    }\n",
              "  </style>\n",
              "\n",
              "      <script>\n",
              "        const buttonEl =\n",
              "          document.querySelector('#df-9bf8789a-08f1-446d-82f7-ecdb0ea7ce5d button.colab-df-convert');\n",
              "        buttonEl.style.display =\n",
              "          google.colab.kernel.accessAllowed ? 'block' : 'none';\n",
              "\n",
              "        async function convertToInteractive(key) {\n",
              "          const element = document.querySelector('#df-9bf8789a-08f1-446d-82f7-ecdb0ea7ce5d');\n",
              "          const dataTable =\n",
              "            await google.colab.kernel.invokeFunction('convertToInteractive',\n",
              "                                                     [key], {});\n",
              "          if (!dataTable) return;\n",
              "\n",
              "          const docLinkHtml = 'Like what you see? Visit the ' +\n",
              "            '<a target=\"_blank\" href=https://colab.research.google.com/notebooks/data_table.ipynb>data table notebook</a>'\n",
              "            + ' to learn more about interactive tables.';\n",
              "          element.innerHTML = '';\n",
              "          dataTable['output_type'] = 'display_data';\n",
              "          await google.colab.output.renderOutput(dataTable, element);\n",
              "          const docLink = document.createElement('div');\n",
              "          docLink.innerHTML = docLinkHtml;\n",
              "          element.appendChild(docLink);\n",
              "        }\n",
              "      </script>\n",
              "    </div>\n",
              "  </div>\n",
              "  "
            ]
          },
          "metadata": {},
          "execution_count": 56
        }
      ],
      "source": [
        "# Cambiamos las clases por un valor numerico y buscamos la correlacion entre los datos\n",
        "df_train.replace({'AGGRESSIVE':2,'NORMAL':1,'SLOW':0},inplace=True)\n",
        "df_train.corr()"
      ]
    },
    {
      "cell_type": "code",
      "execution_count": null,
      "metadata": {
        "id": "fGulljuV4smh"
      },
      "outputs": [],
      "source": [
        "# Regresamos las clases a su estado original\n",
        "df_train.replace({2:'AGGRESSIVE',1:'NORMAL',0:'SLOW'},inplace=True)"
      ]
    },
    {
      "cell_type": "markdown",
      "source": [
        "Aqui haremos notar que `AccY` es la variable independiente que más correlacion tiene con la clase, por esto mismo, y dado que `AccX` y `AccZ` estan medianamente correlacionadas a `AccY` haremos nuestro modelo en base a solo `AccY`"
      ],
      "metadata": {
        "id": "x4v8mYguf5tt"
      }
    },
    {
      "cell_type": "markdown",
      "source": [
        "# Implementación de diferentes modelos"
      ],
      "metadata": {
        "id": "vs8MfH5K8jTZ"
      }
    },
    {
      "cell_type": "code",
      "execution_count": null,
      "metadata": {
        "id": "wjDoPbAv28SM"
      },
      "outputs": [],
      "source": [
        "# Creamos una funcion para determinara la presision de nuestro modelo\n",
        "def accuracy(y,ypred):\n",
        "  count=0\n",
        "  for i in range(len(y)):\n",
        "    if(y[i] == ypred[i]):\n",
        "      count+=1\n",
        "  return count/len(y)"
      ]
    },
    {
      "cell_type": "code",
      "source": [
        "# Importamos de Sci-Kit-Learn una matriz de confusión y un displayer\n",
        "from sklearn.metrics import confusion_matrix\n",
        "from sklearn.metrics import ConfusionMatrixDisplay"
      ],
      "metadata": {
        "id": "PoilXqXd4CC5"
      },
      "execution_count": null,
      "outputs": []
    },
    {
      "cell_type": "markdown",
      "source": [
        "### K-Nearest Neighbors\n",
        "En esta seccion estaremos trabajando con `KNN` para predecir"
      ],
      "metadata": {
        "id": "k3NjeubGiaPd"
      }
    },
    {
      "cell_type": "code",
      "execution_count": null,
      "metadata": {
        "id": "yz5SAMd-5N0e"
      },
      "outputs": [],
      "source": [
        "# Se hara un modelo predictorio utilizando KNN y se ajusta a los datos de entrenamiento en base a AccY y AccZ\n",
        "from sklearn.neighbors import KNeighborsClassifier\n",
        "X_train = df_train[['AccY','AccZ']]\n",
        "y_train = df_train['Class']\n",
        "\n",
        "X_test = df_test[['AccY','AccZ']]\n",
        "y_test = df_test['Class']\n",
        "\n",
        "clf = KNeighborsClassifier(n_neighbors=3)\n",
        "clf = clf.fit(X_train, y_train)"
      ]
    },
    {
      "cell_type": "code",
      "execution_count": null,
      "metadata": {
        "colab": {
          "base_uri": "https://localhost:8080/"
        },
        "id": "BOWeX23L5xlk",
        "outputId": "2cf8b1c4-fc23-486f-f8f9-2c17d52c7072"
      },
      "outputs": [
        {
          "output_type": "execute_result",
          "data": {
            "text/plain": [
              "array(['AGGRESSIVE', 'AGGRESSIVE', 'AGGRESSIVE', 'AGGRESSIVE',\n",
              "       'AGGRESSIVE', 'AGGRESSIVE', 'AGGRESSIVE', 'AGGRESSIVE', 'NORMAL',\n",
              "       'AGGRESSIVE', 'AGGRESSIVE', 'AGGRESSIVE', 'AGGRESSIVE',\n",
              "       'AGGRESSIVE', 'AGGRESSIVE', 'SLOW', 'AGGRESSIVE', 'NORMAL', 'SLOW',\n",
              "       'NORMAL', 'AGGRESSIVE', 'AGGRESSIVE', 'AGGRESSIVE', 'AGGRESSIVE',\n",
              "       'NORMAL', 'NORMAL', 'SLOW', 'SLOW', 'SLOW', 'SLOW', 'NORMAL',\n",
              "       'NORMAL', 'NORMAL', 'AGGRESSIVE', 'SLOW', 'NORMAL', 'AGGRESSIVE',\n",
              "       'NORMAL', 'SLOW', 'AGGRESSIVE', 'AGGRESSIVE', 'SLOW', 'NORMAL',\n",
              "       'NORMAL', 'AGGRESSIVE', 'SLOW', 'NORMAL', 'SLOW', 'SLOW', 'NORMAL',\n",
              "       'SLOW', 'SLOW', 'SLOW', 'SLOW', 'NORMAL', 'SLOW', 'NORMAL', 'SLOW',\n",
              "       'NORMAL', 'SLOW', 'SLOW'], dtype=object)"
            ]
          },
          "metadata": {},
          "execution_count": 61
        }
      ],
      "source": [
        "# Alimentamos los datos de entrenamiento (agrupados) al predictor\n",
        "ypred = clf.predict(X_test)\n",
        "ypred"
      ]
    },
    {
      "cell_type": "code",
      "execution_count": null,
      "metadata": {
        "colab": {
          "base_uri": "https://localhost:8080/"
        },
        "id": "8h2y6ScA5yAH",
        "outputId": "38f2f9e0-4c7b-4929-88ad-0a2f6e98818b"
      },
      "outputs": [
        {
          "output_type": "stream",
          "name": "stdout",
          "text": [
            "KNN\n",
            "Accuracy : 57.377049180327866\n"
          ]
        }
      ],
      "source": [
        "# Buscamos la presicion real utilizando los datos predecidos y los valores esperados\n",
        "print('KNN')\n",
        "print('Accuracy :', accuracy(y_test,ypred)*100)"
      ]
    },
    {
      "cell_type": "code",
      "source": [
        "# Encontramos la matriz de confucion del KNN\n",
        "CM = confusion_matrix(y_test,ypred, labels=['NORMAL', 'AGGRESSIVE', 'SLOW'])\n",
        "disp = ConfusionMatrixDisplay(CM, display_labels=['SLOW', 'NORMAL', 'AGGRESSIVE'])\n",
        "disp.plot()"
      ],
      "metadata": {
        "colab": {
          "base_uri": "https://localhost:8080/",
          "height": 301
        },
        "id": "He01ruwr4QK-",
        "outputId": "5dd8570a-8f41-4218-9d59-9053ba1f5d9d"
      },
      "execution_count": null,
      "outputs": [
        {
          "output_type": "execute_result",
          "data": {
            "text/plain": [
              "<sklearn.metrics._plot.confusion_matrix.ConfusionMatrixDisplay at 0x7f6ddda253d0>"
            ]
          },
          "metadata": {},
          "execution_count": 63
        },
        {
          "output_type": "display_data",
          "data": {
            "text/plain": [
              "<Figure size 432x288 with 2 Axes>"
            ],
            "image/png": "[encoded data removed]"
          },
          "metadata": {
            "needs_background": "light"
          }
        }
      ]
    },
    {
      "cell_type": "markdown",
      "source": [
        "### Decision Tree\n",
        "En esta seccion estaremos trabajando con `Decision Tree` para predecir"
      ],
      "metadata": {
        "id": "wVLoXn8ZjXwp"
      }
    },
    {
      "cell_type": "code",
      "source": [
        "# Se hara un modelo predictorio utilizando Arboles de desicion y se ajusta a los datos de entrenamiento en base a todas las variables\n",
        "from sklearn import tree\n",
        "\n",
        "X_train = df_train[['AccX','AccY','AccZ','GyroX','GyroY','GyroZ']]\n",
        "y_train = df_train['Class']\n",
        "\n",
        "X_test = df_test[['AccX','AccY','AccZ','GyroX','GyroY','GyroZ']]\n",
        "y_test = df_test['Class']\n",
        "\n",
        "\n",
        "clf = tree.DecisionTreeClassifier() \n",
        "clf = clf.fit(X_train, y_train)"
      ],
      "metadata": {
        "id": "Ej1WLmNKoUCv"
      },
      "execution_count": null,
      "outputs": []
    },
    {
      "cell_type": "code",
      "source": [
        "# Alimentamos los datos de entrenamiento (agrupados) al predictor\n",
        "ypred = clf.predict(X_test)\n",
        "ypred"
      ],
      "metadata": {
        "colab": {
          "base_uri": "https://localhost:8080/"
        },
        "id": "7-8p-cddoqZ6",
        "outputId": "e7be22b1-327d-4591-8294-a609f49eefde"
      },
      "execution_count": null,
      "outputs": [
        {
          "output_type": "execute_result",
          "data": {
            "text/plain": [
              "array(['SLOW', 'NORMAL', 'SLOW', 'NORMAL', 'AGGRESSIVE', 'AGGRESSIVE',\n",
              "       'AGGRESSIVE', 'AGGRESSIVE', 'SLOW', 'AGGRESSIVE', 'AGGRESSIVE',\n",
              "       'AGGRESSIVE', 'AGGRESSIVE', 'NORMAL', 'AGGRESSIVE', 'SLOW',\n",
              "       'NORMAL', 'SLOW', 'NORMAL', 'SLOW', 'AGGRESSIVE', 'AGGRESSIVE',\n",
              "       'AGGRESSIVE', 'SLOW', 'NORMAL', 'SLOW', 'SLOW', 'NORMAL', 'NORMAL',\n",
              "       'NORMAL', 'NORMAL', 'SLOW', 'AGGRESSIVE', 'SLOW', 'SLOW', 'SLOW',\n",
              "       'NORMAL', 'NORMAL', 'NORMAL', 'NORMAL', 'SLOW', 'NORMAL', 'SLOW',\n",
              "       'SLOW', 'NORMAL', 'NORMAL', 'SLOW', 'SLOW', 'SLOW', 'NORMAL',\n",
              "       'SLOW', 'SLOW', 'NORMAL', 'SLOW', 'SLOW', 'NORMAL', 'SLOW', 'SLOW',\n",
              "       'NORMAL', 'SLOW', 'SLOW'], dtype=object)"
            ]
          },
          "metadata": {},
          "execution_count": 65
        }
      ]
    },
    {
      "cell_type": "code",
      "source": [
        "# Buscamos la presicion real utilizando los datos predecidos y los valores esperados\n",
        "print('Decision Tree')\n",
        "print('Accuracy :', accuracy(y_test,ypred)*100)"
      ],
      "metadata": {
        "colab": {
          "base_uri": "https://localhost:8080/"
        },
        "id": "KacdDWyworgX",
        "outputId": "d3afbc6b-c8f3-4af2-d350-853703cd2f1a"
      },
      "execution_count": null,
      "outputs": [
        {
          "output_type": "stream",
          "name": "stdout",
          "text": [
            "Decision Tree\n",
            "Accuracy : 49.18032786885246\n"
          ]
        }
      ]
    },
    {
      "cell_type": "code",
      "source": [
        "# Encontramos la matriz de confucion del Decision Tree\n",
        "CM = confusion_matrix(y_test,ypred)\n",
        "CM = confusion_matrix(y_test,ypred, labels=['NORMAL', 'AGGRESSIVE', 'SLOW'])\n",
        "disp = ConfusionMatrixDisplay(CM, display_labels=['SLOW', 'NORMAL', 'AGGRESSIVE'])\n",
        "disp.plot()"
      ],
      "metadata": {
        "colab": {
          "base_uri": "https://localhost:8080/",
          "height": 301
        },
        "id": "mJb3Z7Ic4S-2",
        "outputId": "56d65e4f-6fbf-4053-bcb1-3ef4d0baf5c5"
      },
      "execution_count": null,
      "outputs": [
        {
          "output_type": "execute_result",
          "data": {
            "text/plain": [
              "<sklearn.metrics._plot.confusion_matrix.ConfusionMatrixDisplay at 0x7f6ddd63fe90>"
            ]
          },
          "metadata": {},
          "execution_count": 67
        },
        {
          "output_type": "display_data",
          "data": {
            "text/plain": [
              "<Figure size 432x288 with 2 Axes>"
            ],
            "image/png": "[encoded data removed]"
          },
          "metadata": {
            "needs_background": "light"
          }
        }
      ]
    },
    {
      "cell_type": "markdown",
      "source": [
        "### **Mejor Modelo** - Random Forest\n",
        "\n",
        "Comenzaremos probando con `Random Forest`"
      ],
      "metadata": {
        "id": "BVVDb7t4ilfN"
      }
    },
    {
      "cell_type": "markdown",
      "source": [
        "#### **Modelo más preciso para identificar Conductores Agresivos**\n",
        "\n",
        "Utilizaremos únicamente la variable \"AccY\" para el modelo"
      ],
      "metadata": {
        "id": "WpX9JyPE-515"
      }
    },
    {
      "cell_type": "code",
      "execution_count": null,
      "metadata": {
        "id": "iOKH4ZAtyh-C"
      },
      "outputs": [],
      "source": [
        "# Se hara un modelo predictorio utilizando Random Forest y se ajusta a los datos de entrenamiento en base a AccY\n",
        "from sklearn.ensemble import RandomForestClassifier\n",
        "\n",
        "X_train = df_train[['AccY']]\n",
        "y_train = df_train['Class']\n",
        "\n",
        "X_test = df_test[['AccY']]\n",
        "y_test = df_test['Class']\n",
        "\n",
        "clf = RandomForestClassifier(n_estimators=10,random_state=0)\n",
        "clf = clf.fit(X_train, y_train)"
      ]
    },
    {
      "cell_type": "code",
      "execution_count": null,
      "metadata": {
        "colab": {
          "base_uri": "https://localhost:8080/"
        },
        "id": "rmiYMacx0Giy",
        "outputId": "fb5c9913-6c9b-420d-d17a-1e344937ccc5"
      },
      "outputs": [
        {
          "output_type": "execute_result",
          "data": {
            "text/plain": [
              "array(['AGGRESSIVE', 'NORMAL', 'SLOW', 'AGGRESSIVE', 'AGGRESSIVE',\n",
              "       'AGGRESSIVE', 'AGGRESSIVE', 'AGGRESSIVE', 'AGGRESSIVE',\n",
              "       'AGGRESSIVE', 'AGGRESSIVE', 'AGGRESSIVE', 'AGGRESSIVE',\n",
              "       'AGGRESSIVE', 'AGGRESSIVE', 'NORMAL', 'AGGRESSIVE', 'AGGRESSIVE',\n",
              "       'AGGRESSIVE', 'NORMAL', 'AGGRESSIVE', 'AGGRESSIVE', 'AGGRESSIVE',\n",
              "       'SLOW', 'NORMAL', 'NORMAL', 'NORMAL', 'SLOW', 'NORMAL', 'SLOW',\n",
              "       'NORMAL', 'SLOW', 'AGGRESSIVE', 'SLOW', 'NORMAL', 'SLOW', 'NORMAL',\n",
              "       'SLOW', 'AGGRESSIVE', 'NORMAL', 'SLOW', 'SLOW', 'AGGRESSIVE',\n",
              "       'SLOW', 'SLOW', 'NORMAL', 'SLOW', 'NORMAL', 'SLOW', 'SLOW', 'SLOW',\n",
              "       'SLOW', 'SLOW', 'SLOW', 'SLOW', 'NORMAL', 'SLOW', 'NORMAL', 'SLOW',\n",
              "       'SLOW', 'SLOW'], dtype=object)"
            ]
          },
          "metadata": {},
          "execution_count": 69
        }
      ],
      "source": [
        "# Alimentamos los datos de entrenamiento (agrupados) al predictor\n",
        "ypred = clf.predict(X_test)\n",
        "ypred"
      ]
    },
    {
      "cell_type": "code",
      "execution_count": null,
      "metadata": {
        "colab": {
          "base_uri": "https://localhost:8080/"
        },
        "id": "UMEgSrpV3Gqt",
        "outputId": "d4fb420e-37a3-451d-c5be-6c82345f8811"
      },
      "outputs": [
        {
          "output_type": "stream",
          "name": "stdout",
          "text": [
            "Random Forest -> AccY, Null RandomState\n",
            "Accuracy : 60.65573770491803\n"
          ]
        }
      ],
      "source": [
        "# Buscamos la presicion real utilizando los datos predecidos y los valores esperados\n",
        "print('Random Forest -> AccY, Null RandomState')\n",
        "print('Accuracy :', accuracy(y_test,ypred)*100)"
      ]
    },
    {
      "cell_type": "code",
      "source": [
        "# Encontramos la matriz de confucion del Random Forest\n",
        "CM = confusion_matrix(y_test,ypred, labels=['NORMAL', 'AGGRESSIVE', 'SLOW'])\n",
        "disp = ConfusionMatrixDisplay(CM, display_labels=['SLOW', 'NORMAL', 'AGGRESSIVE'])\n",
        "disp.plot()"
      ],
      "metadata": {
        "colab": {
          "base_uri": "https://localhost:8080/",
          "height": 297
        },
        "id": "KJsmxwLH4GmB",
        "outputId": "f404af28-d6c7-4337-d957-c7a63c9b06df"
      },
      "execution_count": null,
      "outputs": [
        {
          "output_type": "execute_result",
          "data": {
            "text/plain": [
              "<sklearn.metrics._plot.confusion_matrix.ConfusionMatrixDisplay at 0x7f6ddd1d4e50>"
            ]
          },
          "metadata": {},
          "execution_count": 71
        },
        {
          "output_type": "display_data",
          "data": {
            "text/plain": [
              "<Figure size 432x288 with 2 Axes>"
            ],
            "image/png": "[encoded data removed]"
          },
          "metadata": {
            "needs_background": "light"
          }
        }
      ]
    },
    {
      "cell_type": "markdown",
      "source": [
        "#### **Modelo más preciso para identificar Clases**\n",
        "Ahora con esta base haremos más pruebas con distintas variables para determinar el mejor modelo utilizando `Random Forest`\n",
        "\n",
        "Ahora utilizaremos todo el dataset\n"
      ],
      "metadata": {
        "id": "oAWxjPy8g6JN"
      }
    },
    {
      "cell_type": "code",
      "execution_count": null,
      "metadata": {
        "id": "bh7np__k3aGD"
      },
      "outputs": [],
      "source": [
        "# Se hara un modelo predictorio utilizando Random Forest y se ajusta a los datos de entrenamiento utilizando todas las variables\n",
        "# Se utiliza un random_statte de 3\n",
        "X_train = df_train[['AccX','AccY','AccZ','GyroX','GyroY','GyroZ']]\n",
        "y_train = df_train['Class']\n",
        "\n",
        "X_test = df_test[['AccX','AccY','AccZ','GyroX','GyroY','GyroZ']]\n",
        "y_test = df_test['Class']\n",
        "\n",
        "clf = RandomForestClassifier(n_estimators=10,random_state=3)\n",
        "clf = clf.fit(X_train, y_train)"
      ]
    },
    {
      "cell_type": "code",
      "execution_count": null,
      "metadata": {
        "colab": {
          "base_uri": "https://localhost:8080/"
        },
        "id": "c5PfeQMs358I",
        "outputId": "3fbd9163-8f94-4024-f5b7-c95c6f9750ae"
      },
      "outputs": [
        {
          "output_type": "execute_result",
          "data": {
            "text/plain": [
              "array(['AGGRESSIVE', 'AGGRESSIVE', 'AGGRESSIVE', 'AGGRESSIVE',\n",
              "       'AGGRESSIVE', 'AGGRESSIVE', 'AGGRESSIVE', 'AGGRESSIVE',\n",
              "       'AGGRESSIVE', 'AGGRESSIVE', 'AGGRESSIVE', 'AGGRESSIVE',\n",
              "       'AGGRESSIVE', 'AGGRESSIVE', 'AGGRESSIVE', 'SLOW', 'NORMAL',\n",
              "       'NORMAL', 'NORMAL', 'NORMAL', 'AGGRESSIVE', 'AGGRESSIVE',\n",
              "       'AGGRESSIVE', 'NORMAL', 'SLOW', 'AGGRESSIVE', 'SLOW', 'NORMAL',\n",
              "       'NORMAL', 'NORMAL', 'SLOW', 'NORMAL', 'NORMAL', 'NORMAL', 'SLOW',\n",
              "       'NORMAL', 'SLOW', 'SLOW', 'NORMAL', 'NORMAL', 'NORMAL', 'NORMAL',\n",
              "       'AGGRESSIVE', 'NORMAL', 'AGGRESSIVE', 'SLOW', 'SLOW', 'SLOW',\n",
              "       'SLOW', 'SLOW', 'SLOW', 'SLOW', 'SLOW', 'SLOW', 'SLOW', 'SLOW',\n",
              "       'NORMAL', 'SLOW', 'SLOW', 'NORMAL', 'NORMAL'], dtype=object)"
            ]
          },
          "metadata": {},
          "execution_count": 73
        }
      ],
      "source": [
        "# Alimentamos los datos de entrenamiento (agrupados) al predictor\n",
        "ypred = clf.predict(X_test)\n",
        "ypred"
      ]
    },
    {
      "cell_type": "code",
      "execution_count": null,
      "metadata": {
        "colab": {
          "base_uri": "https://localhost:8080/"
        },
        "id": "xk6ebLtz38qS",
        "outputId": "a027a2d7-0789-4745-a8a8-b98c2553aae3"
      },
      "outputs": [
        {
          "output_type": "stream",
          "name": "stdout",
          "text": [
            "RAndom Forest -> Hole DataSet, RandomState 3\n",
            "Accuracy : 68.85245901639344\n"
          ]
        }
      ],
      "source": [
        "# Buscamos la presicion real utilizando los datos predecidos y los valores esperados\n",
        "print('RAndom Forest -> Hole DataSet, RandomState 3')\n",
        "print('Accuracy :', accuracy(y_test,ypred)*100)"
      ]
    },
    {
      "cell_type": "code",
      "source": [
        "# Encontramos la matriz de confucion del Random Forest\n",
        "CM = confusion_matrix(y_test,ypred, labels=['NORMAL', 'AGGRESSIVE', 'SLOW'])\n",
        "disp = ConfusionMatrixDisplay(CM, display_labels=['SLOW', 'NORMAL', 'AGGRESSIVE'])\n",
        "disp.plot()"
      ],
      "metadata": {
        "colab": {
          "base_uri": "https://localhost:8080/",
          "height": 297
        },
        "id": "NTbZXqp04Mce",
        "outputId": "3396dbcd-bc4a-4c14-f932-887508ae1005"
      },
      "execution_count": null,
      "outputs": [
        {
          "output_type": "execute_result",
          "data": {
            "text/plain": [
              "<sklearn.metrics._plot.confusion_matrix.ConfusionMatrixDisplay at 0x7f6ddd628dd0>"
            ]
          },
          "metadata": {},
          "execution_count": 75
        },
        {
          "output_type": "display_data",
          "data": {
            "text/plain": [
              "<Figure size 432x288 with 2 Axes>"
            ],
            "image/png": "[encoded data removed]"
          },
          "metadata": {
            "needs_background": "light"
          }
        }
      ]
    },
    {
      "cell_type": "code",
      "execution_count": null,
      "metadata": {
        "id": "sD8VKUrE3-y_"
      },
      "outputs": [],
      "source": [
        "# Se hara un modelo predictorio utilizando Random Forest y se ajusta a los datos de entrenamiento utilizando todas las variables\n",
        "# Se utiliza un random_statte nulo\n",
        "X_train = df_train[['AccX','AccY','AccZ','GyroX','GyroY','GyroZ']]\n",
        "y_train = df_train['Class']\n",
        "\n",
        "X_test = df_test[['AccX','AccY','AccZ','GyroX','GyroY','GyroZ']]\n",
        "y_test = df_test['Class']\n",
        "\n",
        "clf = RandomForestClassifier(n_estimators=10,random_state=0)\n",
        "clf = clf.fit(X_train, y_train)"
      ]
    },
    {
      "cell_type": "code",
      "execution_count": null,
      "metadata": {
        "colab": {
          "base_uri": "https://localhost:8080/"
        },
        "id": "7cCzPH3E4lfm",
        "outputId": "8b91985f-eace-4990-978f-6b2e37e2c93d"
      },
      "outputs": [
        {
          "output_type": "execute_result",
          "data": {
            "text/plain": [
              "array(['AGGRESSIVE', 'AGGRESSIVE', 'AGGRESSIVE', 'AGGRESSIVE',\n",
              "       'AGGRESSIVE', 'AGGRESSIVE', 'AGGRESSIVE', 'AGGRESSIVE', 'NORMAL',\n",
              "       'AGGRESSIVE', 'AGGRESSIVE', 'AGGRESSIVE', 'AGGRESSIVE',\n",
              "       'AGGRESSIVE', 'AGGRESSIVE', 'NORMAL', 'NORMAL', 'NORMAL', 'NORMAL',\n",
              "       'NORMAL', 'AGGRESSIVE', 'AGGRESSIVE', 'AGGRESSIVE', 'AGGRESSIVE',\n",
              "       'SLOW', 'NORMAL', 'SLOW', 'SLOW', 'NORMAL', 'AGGRESSIVE', 'SLOW',\n",
              "       'NORMAL', 'AGGRESSIVE', 'AGGRESSIVE', 'NORMAL', 'SLOW', 'NORMAL',\n",
              "       'SLOW', 'SLOW', 'NORMAL', 'SLOW', 'NORMAL', 'AGGRESSIVE',\n",
              "       'AGGRESSIVE', 'AGGRESSIVE', 'SLOW', 'NORMAL', 'SLOW', 'SLOW',\n",
              "       'SLOW', 'NORMAL', 'SLOW', 'NORMAL', 'SLOW', 'SLOW', 'SLOW',\n",
              "       'NORMAL', 'SLOW', 'SLOW', 'SLOW', 'SLOW'], dtype=object)"
            ]
          },
          "metadata": {},
          "execution_count": 77
        }
      ],
      "source": [
        "# Alimentamos los datos de entrenamiento (agrupados) al predictor\n",
        "ypred = clf.predict(X_test)\n",
        "ypred"
      ]
    },
    {
      "cell_type": "code",
      "execution_count": null,
      "metadata": {
        "colab": {
          "base_uri": "https://localhost:8080/"
        },
        "id": "qMz377Wd4nQ8",
        "outputId": "32edab6d-8674-4817-d114-f21cfb0b9ea2"
      },
      "outputs": [
        {
          "output_type": "stream",
          "name": "stdout",
          "text": [
            "RAndom Forest -> Hole DataSet, Null RandomState\n",
            "Accuracy : 60.65573770491803\n"
          ]
        }
      ],
      "source": [
        "# Buscamos la presicion real utilizando los datos predecidos y los valores esperados\n",
        "print('RAndom Forest -> Hole DataSet, Null RandomState')\n",
        "print('Accuracy :', accuracy(y_test,ypred)*100)"
      ]
    },
    {
      "cell_type": "code",
      "source": [
        "# Encontramos la matriz de confucion del Random Forest\n",
        "CM = confusion_matrix(y_test,ypred, labels=['NORMAL', 'AGGRESSIVE', 'SLOW'])\n",
        "disp = ConfusionMatrixDisplay(CM, display_labels=['SLOW', 'NORMAL', 'AGGRESSIVE'])\n",
        "disp.plot()"
      ],
      "metadata": {
        "colab": {
          "base_uri": "https://localhost:8080/",
          "height": 297
        },
        "id": "l0rZJfMm4Osg",
        "outputId": "d29c181a-e9c7-4a02-8438-592bdf46b331"
      },
      "execution_count": null,
      "outputs": [
        {
          "output_type": "execute_result",
          "data": {
            "text/plain": [
              "<sklearn.metrics._plot.confusion_matrix.ConfusionMatrixDisplay at 0x7f6ddcf6bc90>"
            ]
          },
          "metadata": {},
          "execution_count": 79
        },
        {
          "output_type": "display_data",
          "data": {
            "text/plain": [
              "<Figure size 432x288 with 2 Axes>"
            ],
            "image/png": "[encoded data removed]"
          },
          "metadata": {
            "needs_background": "light"
          }
        }
      ]
    },
    {
      "cell_type": "markdown",
      "source": [
        "# Conclusiones finales y Selección del modelo"
      ],
      "metadata": {
        "id": "zgu_XiSS8HNp"
      }
    },
    {
      "cell_type": "markdown",
      "source": [
        "\n",
        "\n",
        "Debido a que la clasificación de conductores es realizada al demostrar un comportamiento, llegamos a la conclusión que debiamos de agrupar los datos para asi poder llegar a una clasificación correcta. \n",
        "\n",
        "En nuestro modelo despues de realizar varias pruebas llegamos a la conclusión de que lo mejor seria agrupar los datos en grupos de 50 para no perder grandes cantidades de datos. Al probar varios modelos de clasificación obtuvimos un modelo con una precisión de 69% para **identificar clases** que determinamos como el mejor al no tener que maquillar mucho los datos. Sin embargo, al probar el mismo tipo de modelo, pero pasandole solo la variable \"Acc Y\" encontramos uno que no tiene un porcentaje tan alto de precisión, pero es más efectivo detectando conductores agresivos. En la matriz de confusión de ese modelo podemos ver que la mejor predicción la tiene con la clase agresivo, esto le da mayor poder para este proyecto porque es la función que estamos buscando. \n",
        "\n",
        "El objetivo de este codigo, aparte de la limpieza, análisis, transformación, desarrollo y prueba de un modelo; es el poder predecir el peligro que genera un coductor agresivo. Y, visto lo anterior, logramos encontrar un buen modelo que se enfoca precisamente en eso, encontrar la mayor cantidad de conductores agresivos con base en sus datos de conducción.\n"
      ],
      "metadata": {
        "id": "t7uzTNmT-BCJ"
      }
    }
  ],
  "metadata": {
    "colab": {
      "collapsed_sections": [],
      "provenance": []
    },
    "kernelspec": {
      "display_name": "Python 3",
      "name": "python3"
    },
    "language_info": {
      "name": "python"
    }
  },
  "nbformat": 4,
  "nbformat_minor": 0
}