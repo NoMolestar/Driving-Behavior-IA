{
  "nbformat": 4,
  "nbformat_minor": 0,
  "metadata": {
    "colab": {
      "name": "Driving-Behavior.ipynb",
      "provenance": [],
      "collapsed_sections": []
    },
    "kernelspec": {
      "name": "python3",
      "display_name": "Python 3"
    },
    "language_info": {
      "name": "python"
    }
  },
  "cells": [
    {
      "cell_type": "markdown",
      "source": [
        "# Driving Behavior\n",
        "### Carlos Javier Leal Beltran A01741355\n",
        "### Carlos Moises Chavez Jimenez A01637322\n",
        "### Ernesto Adrian Alvarez Salazar A00227490\n",
        "### Luis Armando Salazar Lopez A0114901\n"
      ],
      "metadata": {
        "id": "Y7L6SMmV3zVo"
      }
    },
    {
      "cell_type": "code",
      "execution_count": 32,
      "metadata": {
        "id": "ZXWq20V-ofqi"
      },
      "outputs": [],
      "source": [
        "# Importando las librerías\n",
        "import pandas as pd\n",
        "from sklearn import svm\n",
        "import matplotlib.pyplot as plt\n",
        "import numpy as np"
      ]
    },
    {
      "cell_type": "code",
      "source": [
        "# Importando los datos\n",
        "t_test=pd.read_csv('/content/drive/Shareddrives/Concentracion - IA para Ciencia de Datos/Reto/Dataset Driving/test_motion_data.csv')\n",
        "t_train=pd.read_csv('/content/drive/Shareddrives/Concentracion - IA para Ciencia de Datos/Reto/Dataset Driving/train_motion_data.csv')"
      ],
      "metadata": {
        "id": "tbApTZa9omzj"
      },
      "execution_count": 33,
      "outputs": []
    },
    {
      "cell_type": "markdown",
      "source": [
        "# Tratamiento y Muestreo Inicial de los Datos"
      ],
      "metadata": {
        "id": "2S1Y77YmEOnU"
      }
    },
    {
      "cell_type": "code",
      "source": [
        "# Imprimimos los datos obtenidos del csv de prueba\n",
        "t_test"
      ],
      "metadata": {
        "colab": {
          "base_uri": "https://localhost:8080/",
          "height": 424
        },
        "id": "oPX88IYio5wE",
        "outputId": "93ae18aa-0ce0-41b7-c95f-0db89c81da7d"
      },
      "execution_count": 34,
      "outputs": [
        {
          "output_type": "execute_result",
          "data": {
            "text/plain": [
              "          AccX      AccY      AccZ     GyroX     GyroY     GyroZ       Class  \\\n",
              "0     0.758194 -0.217791  0.457263  0.000000  0.000000  0.000000  AGGRESSIVE   \n",
              "1     0.667560 -0.038610  0.231416 -0.054367 -0.007712  0.225257  AGGRESSIVE   \n",
              "2     2.724449 -7.584121  2.390926  0.023824  0.013668 -0.038026  AGGRESSIVE   \n",
              "3     2.330950 -7.621754  2.529024  0.056810 -0.180587 -0.052076  AGGRESSIVE   \n",
              "4     2.847215 -6.755621  2.224640 -0.031765 -0.035201  0.035277  AGGRESSIVE   \n",
              "...        ...       ...       ...       ...       ...       ...         ...   \n",
              "3079 -0.713858 -0.652975 -0.164015 -0.147829 -1.309466  0.517250        SLOW   \n",
              "3080  1.514261  0.330070  1.020714  1.321302  1.707598 -0.674548        SLOW   \n",
              "3081  1.280216 -1.735172 -2.332695  0.583376  0.690507 -0.468075        SLOW   \n",
              "3082  0.912313  0.583314 -0.965622  0.235794  0.512745  0.406073        SLOW   \n",
              "3083  1.462172  0.190287  0.019377 -0.254731 -0.279547  0.076205        SLOW   \n",
              "\n",
              "      Timestamp  \n",
              "0        818922  \n",
              "1        818923  \n",
              "2        818923  \n",
              "3        818924  \n",
              "4        818924  \n",
              "...         ...  \n",
              "3079     820706  \n",
              "3080     820707  \n",
              "3081     820707  \n",
              "3082     820708  \n",
              "3083     820709  \n",
              "\n",
              "[3084 rows x 8 columns]"
            ],
            "text/html": [
              "\n",
              "  <div id=\"df-6f486304-7025-48ae-899e-6e2dfed1aa90\">\n",
              "    <div class=\"colab-df-container\">\n",
              "      <div>\n",
              "<style scoped>\n",
              "    .dataframe tbody tr th:only-of-type {\n",
              "        vertical-align: middle;\n",
              "    }\n",
              "\n",
              "    .dataframe tbody tr th {\n",
              "        vertical-align: top;\n",
              "    }\n",
              "\n",
              "    .dataframe thead th {\n",
              "        text-align: right;\n",
              "    }\n",
              "</style>\n",
              "<table border=\"1\" class=\"dataframe\">\n",
              "  <thead>\n",
              "    <tr style=\"text-align: right;\">\n",
              "      <th></th>\n",
              "      <th>AccX</th>\n",
              "      <th>AccY</th>\n",
              "      <th>AccZ</th>\n",
              "      <th>GyroX</th>\n",
              "      <th>GyroY</th>\n",
              "      <th>GyroZ</th>\n",
              "      <th>Class</th>\n",
              "      <th>Timestamp</th>\n",
              "    </tr>\n",
              "  </thead>\n",
              "  <tbody>\n",
              "    <tr>\n",
              "      <th>0</th>\n",
              "      <td>0.758194</td>\n",
              "      <td>-0.217791</td>\n",
              "      <td>0.457263</td>\n",
              "      <td>0.000000</td>\n",
              "      <td>0.000000</td>\n",
              "      <td>0.000000</td>\n",
              "      <td>AGGRESSIVE</td>\n",
              "      <td>818922</td>\n",
              "    </tr>\n",
              "    <tr>\n",
              "      <th>1</th>\n",
              "      <td>0.667560</td>\n",
              "      <td>-0.038610</td>\n",
              "      <td>0.231416</td>\n",
              "      <td>-0.054367</td>\n",
              "      <td>-0.007712</td>\n",
              "      <td>0.225257</td>\n",
              "      <td>AGGRESSIVE</td>\n",
              "      <td>818923</td>\n",
              "    </tr>\n",
              "    <tr>\n",
              "      <th>2</th>\n",
              "      <td>2.724449</td>\n",
              "      <td>-7.584121</td>\n",
              "      <td>2.390926</td>\n",
              "      <td>0.023824</td>\n",
              "      <td>0.013668</td>\n",
              "      <td>-0.038026</td>\n",
              "      <td>AGGRESSIVE</td>\n",
              "      <td>818923</td>\n",
              "    </tr>\n",
              "    <tr>\n",
              "      <th>3</th>\n",
              "      <td>2.330950</td>\n",
              "      <td>-7.621754</td>\n",
              "      <td>2.529024</td>\n",
              "      <td>0.056810</td>\n",
              "      <td>-0.180587</td>\n",
              "      <td>-0.052076</td>\n",
              "      <td>AGGRESSIVE</td>\n",
              "      <td>818924</td>\n",
              "    </tr>\n",
              "    <tr>\n",
              "      <th>4</th>\n",
              "      <td>2.847215</td>\n",
              "      <td>-6.755621</td>\n",
              "      <td>2.224640</td>\n",
              "      <td>-0.031765</td>\n",
              "      <td>-0.035201</td>\n",
              "      <td>0.035277</td>\n",
              "      <td>AGGRESSIVE</td>\n",
              "      <td>818924</td>\n",
              "    </tr>\n",
              "    <tr>\n",
              "      <th>...</th>\n",
              "      <td>...</td>\n",
              "      <td>...</td>\n",
              "      <td>...</td>\n",
              "      <td>...</td>\n",
              "      <td>...</td>\n",
              "      <td>...</td>\n",
              "      <td>...</td>\n",
              "      <td>...</td>\n",
              "    </tr>\n",
              "    <tr>\n",
              "      <th>3079</th>\n",
              "      <td>-0.713858</td>\n",
              "      <td>-0.652975</td>\n",
              "      <td>-0.164015</td>\n",
              "      <td>-0.147829</td>\n",
              "      <td>-1.309466</td>\n",
              "      <td>0.517250</td>\n",
              "      <td>SLOW</td>\n",
              "      <td>820706</td>\n",
              "    </tr>\n",
              "    <tr>\n",
              "      <th>3080</th>\n",
              "      <td>1.514261</td>\n",
              "      <td>0.330070</td>\n",
              "      <td>1.020714</td>\n",
              "      <td>1.321302</td>\n",
              "      <td>1.707598</td>\n",
              "      <td>-0.674548</td>\n",
              "      <td>SLOW</td>\n",
              "      <td>820707</td>\n",
              "    </tr>\n",
              "    <tr>\n",
              "      <th>3081</th>\n",
              "      <td>1.280216</td>\n",
              "      <td>-1.735172</td>\n",
              "      <td>-2.332695</td>\n",
              "      <td>0.583376</td>\n",
              "      <td>0.690507</td>\n",
              "      <td>-0.468075</td>\n",
              "      <td>SLOW</td>\n",
              "      <td>820707</td>\n",
              "    </tr>\n",
              "    <tr>\n",
              "      <th>3082</th>\n",
              "      <td>0.912313</td>\n",
              "      <td>0.583314</td>\n",
              "      <td>-0.965622</td>\n",
              "      <td>0.235794</td>\n",
              "      <td>0.512745</td>\n",
              "      <td>0.406073</td>\n",
              "      <td>SLOW</td>\n",
              "      <td>820708</td>\n",
              "    </tr>\n",
              "    <tr>\n",
              "      <th>3083</th>\n",
              "      <td>1.462172</td>\n",
              "      <td>0.190287</td>\n",
              "      <td>0.019377</td>\n",
              "      <td>-0.254731</td>\n",
              "      <td>-0.279547</td>\n",
              "      <td>0.076205</td>\n",
              "      <td>SLOW</td>\n",
              "      <td>820709</td>\n",
              "    </tr>\n",
              "  </tbody>\n",
              "</table>\n",
              "<p>3084 rows × 8 columns</p>\n",
              "</div>\n",
              "      <button class=\"colab-df-convert\" onclick=\"convertToInteractive('df-6f486304-7025-48ae-899e-6e2dfed1aa90')\"\n",
              "              title=\"Convert this dataframe to an interactive table.\"\n",
              "              style=\"display:none;\">\n",
              "        \n",
              "  <svg xmlns=\"http://www.w3.org/2000/svg\" height=\"24px\"viewBox=\"0 0 24 24\"\n",
              "       width=\"24px\">\n",
              "    <path d=\"M0 0h24v24H0V0z\" fill=\"none\"/>\n",
              "    <path d=\"M18.56 5.44l.94 2.06.94-2.06 2.06-.94-2.06-.94-.94-2.06-.94 2.06-2.06.94zm-11 1L8.5 8.5l.94-2.06 2.06-.94-2.06-.94L8.5 2.5l-.94 2.06-2.06.94zm10 10l.94 2.06.94-2.06 2.06-.94-2.06-.94-.94-2.06-.94 2.06-2.06.94z\"/><path d=\"M17.41 7.96l-1.37-1.37c-.4-.4-.92-.59-1.43-.59-.52 0-1.04.2-1.43.59L10.3 9.45l-7.72 7.72c-.78.78-.78 2.05 0 2.83L4 21.41c.39.39.9.59 1.41.59.51 0 1.02-.2 1.41-.59l7.78-7.78 2.81-2.81c.8-.78.8-2.07 0-2.86zM5.41 20L4 18.59l7.72-7.72 1.47 1.35L5.41 20z\"/>\n",
              "  </svg>\n",
              "      </button>\n",
              "      \n",
              "  <style>\n",
              "    .colab-df-container {\n",
              "      display:flex;\n",
              "      flex-wrap:wrap;\n",
              "      gap: 12px;\n",
              "    }\n",
              "\n",
              "    .colab-df-convert {\n",
              "      background-color: #E8F0FE;\n",
              "      border: none;\n",
              "      border-radius: 50%;\n",
              "      cursor: pointer;\n",
              "      display: none;\n",
              "      fill: #1967D2;\n",
              "      height: 32px;\n",
              "      padding: 0 0 0 0;\n",
              "      width: 32px;\n",
              "    }\n",
              "\n",
              "    .colab-df-convert:hover {\n",
              "      background-color: #E2EBFA;\n",
              "      box-shadow: 0px 1px 2px rgba(60, 64, 67, 0.3), 0px 1px 3px 1px rgba(60, 64, 67, 0.15);\n",
              "      fill: #174EA6;\n",
              "    }\n",
              "\n",
              "    [theme=dark] .colab-df-convert {\n",
              "      background-color: #3B4455;\n",
              "      fill: #D2E3FC;\n",
              "    }\n",
              "\n",
              "    [theme=dark] .colab-df-convert:hover {\n",
              "      background-color: #434B5C;\n",
              "      box-shadow: 0px 1px 3px 1px rgba(0, 0, 0, 0.15);\n",
              "      filter: drop-shadow(0px 1px 2px rgba(0, 0, 0, 0.3));\n",
              "      fill: #FFFFFF;\n",
              "    }\n",
              "  </style>\n",
              "\n",
              "      <script>\n",
              "        const buttonEl =\n",
              "          document.querySelector('#df-6f486304-7025-48ae-899e-6e2dfed1aa90 button.colab-df-convert');\n",
              "        buttonEl.style.display =\n",
              "          google.colab.kernel.accessAllowed ? 'block' : 'none';\n",
              "\n",
              "        async function convertToInteractive(key) {\n",
              "          const element = document.querySelector('#df-6f486304-7025-48ae-899e-6e2dfed1aa90');\n",
              "          const dataTable =\n",
              "            await google.colab.kernel.invokeFunction('convertToInteractive',\n",
              "                                                     [key], {});\n",
              "          if (!dataTable) return;\n",
              "\n",
              "          const docLinkHtml = 'Like what you see? Visit the ' +\n",
              "            '<a target=\"_blank\" href=https://colab.research.google.com/notebooks/data_table.ipynb>data table notebook</a>'\n",
              "            + ' to learn more about interactive tables.';\n",
              "          element.innerHTML = '';\n",
              "          dataTable['output_type'] = 'display_data';\n",
              "          await google.colab.output.renderOutput(dataTable, element);\n",
              "          const docLink = document.createElement('div');\n",
              "          docLink.innerHTML = docLinkHtml;\n",
              "          element.appendChild(docLink);\n",
              "        }\n",
              "      </script>\n",
              "    </div>\n",
              "  </div>\n",
              "  "
            ]
          },
          "metadata": {},
          "execution_count": 34
        }
      ]
    },
    {
      "cell_type": "code",
      "source": [
        "# Imprimimos los datos obtenidos del csv de entrenamiento\n",
        "t_train"
      ],
      "metadata": {
        "colab": {
          "base_uri": "https://localhost:8080/",
          "height": 424
        },
        "id": "ibo1Ba7Po69x",
        "outputId": "0c095c5b-b942-4ae8-9daf-2844921d7643"
      },
      "execution_count": 35,
      "outputs": [
        {
          "output_type": "execute_result",
          "data": {
            "text/plain": [
              "          AccX      AccY      AccZ     GyroX     GyroY     GyroZ   Class  \\\n",
              "0     0.000000  0.000000  0.000000  0.059407 -0.174707  0.101938  NORMAL   \n",
              "1    -1.624864 -1.082492 -0.204183 -0.028558  0.051313  0.135536  NORMAL   \n",
              "2    -0.594660 -0.122410  0.220502 -0.019395 -0.029322  0.087888  NORMAL   \n",
              "3     0.738478 -0.228456  0.667732  0.069791 -0.029932  0.054902  NORMAL   \n",
              "4     0.101741  0.777568 -0.066730  0.030696 -0.003665  0.054902  NORMAL   \n",
              "...        ...       ...       ...       ...       ...       ...     ...   \n",
              "3639  0.915688 -2.017489  1.687505  0.450360  0.384845 -1.236468    SLOW   \n",
              "3640 -1.934203  0.914925 -0.096013  0.321468  0.649350 -0.477162    SLOW   \n",
              "3641 -0.222845  0.747304 -0.887430  0.361174 -0.406836  0.054291    SLOW   \n",
              "3642 -0.349423  0.067261  0.394368 -0.132405  0.020159 -0.004963    SLOW   \n",
              "3643 -0.402428  0.406218 -0.423009 -0.053603 -0.006720  0.001145    SLOW   \n",
              "\n",
              "      Timestamp  \n",
              "0       3581629  \n",
              "1       3581630  \n",
              "2       3581630  \n",
              "3       3581631  \n",
              "4       3581631  \n",
              "...         ...  \n",
              "3639    3583789  \n",
              "3640    3583790  \n",
              "3641    3583790  \n",
              "3642    3583791  \n",
              "3643    3583791  \n",
              "\n",
              "[3644 rows x 8 columns]"
            ],
            "text/html": [
              "\n",
              "  <div id=\"df-bb5252df-aa4a-432c-b210-5d469cacefa1\">\n",
              "    <div class=\"colab-df-container\">\n",
              "      <div>\n",
              "<style scoped>\n",
              "    .dataframe tbody tr th:only-of-type {\n",
              "        vertical-align: middle;\n",
              "    }\n",
              "\n",
              "    .dataframe tbody tr th {\n",
              "        vertical-align: top;\n",
              "    }\n",
              "\n",
              "    .dataframe thead th {\n",
              "        text-align: right;\n",
              "    }\n",
              "</style>\n",
              "<table border=\"1\" class=\"dataframe\">\n",
              "  <thead>\n",
              "    <tr style=\"text-align: right;\">\n",
              "      <th></th>\n",
              "      <th>AccX</th>\n",
              "      <th>AccY</th>\n",
              "      <th>AccZ</th>\n",
              "      <th>GyroX</th>\n",
              "      <th>GyroY</th>\n",
              "      <th>GyroZ</th>\n",
              "      <th>Class</th>\n",
              "      <th>Timestamp</th>\n",
              "    </tr>\n",
              "  </thead>\n",
              "  <tbody>\n",
              "    <tr>\n",
              "      <th>0</th>\n",
              "      <td>0.000000</td>\n",
              "      <td>0.000000</td>\n",
              "      <td>0.000000</td>\n",
              "      <td>0.059407</td>\n",
              "      <td>-0.174707</td>\n",
              "      <td>0.101938</td>\n",
              "      <td>NORMAL</td>\n",
              "      <td>3581629</td>\n",
              "    </tr>\n",
              "    <tr>\n",
              "      <th>1</th>\n",
              "      <td>-1.624864</td>\n",
              "      <td>-1.082492</td>\n",
              "      <td>-0.204183</td>\n",
              "      <td>-0.028558</td>\n",
              "      <td>0.051313</td>\n",
              "      <td>0.135536</td>\n",
              "      <td>NORMAL</td>\n",
              "      <td>3581630</td>\n",
              "    </tr>\n",
              "    <tr>\n",
              "      <th>2</th>\n",
              "      <td>-0.594660</td>\n",
              "      <td>-0.122410</td>\n",
              "      <td>0.220502</td>\n",
              "      <td>-0.019395</td>\n",
              "      <td>-0.029322</td>\n",
              "      <td>0.087888</td>\n",
              "      <td>NORMAL</td>\n",
              "      <td>3581630</td>\n",
              "    </tr>\n",
              "    <tr>\n",
              "      <th>3</th>\n",
              "      <td>0.738478</td>\n",
              "      <td>-0.228456</td>\n",
              "      <td>0.667732</td>\n",
              "      <td>0.069791</td>\n",
              "      <td>-0.029932</td>\n",
              "      <td>0.054902</td>\n",
              "      <td>NORMAL</td>\n",
              "      <td>3581631</td>\n",
              "    </tr>\n",
              "    <tr>\n",
              "      <th>4</th>\n",
              "      <td>0.101741</td>\n",
              "      <td>0.777568</td>\n",
              "      <td>-0.066730</td>\n",
              "      <td>0.030696</td>\n",
              "      <td>-0.003665</td>\n",
              "      <td>0.054902</td>\n",
              "      <td>NORMAL</td>\n",
              "      <td>3581631</td>\n",
              "    </tr>\n",
              "    <tr>\n",
              "      <th>...</th>\n",
              "      <td>...</td>\n",
              "      <td>...</td>\n",
              "      <td>...</td>\n",
              "      <td>...</td>\n",
              "      <td>...</td>\n",
              "      <td>...</td>\n",
              "      <td>...</td>\n",
              "      <td>...</td>\n",
              "    </tr>\n",
              "    <tr>\n",
              "      <th>3639</th>\n",
              "      <td>0.915688</td>\n",
              "      <td>-2.017489</td>\n",
              "      <td>1.687505</td>\n",
              "      <td>0.450360</td>\n",
              "      <td>0.384845</td>\n",
              "      <td>-1.236468</td>\n",
              "      <td>SLOW</td>\n",
              "      <td>3583789</td>\n",
              "    </tr>\n",
              "    <tr>\n",
              "      <th>3640</th>\n",
              "      <td>-1.934203</td>\n",
              "      <td>0.914925</td>\n",
              "      <td>-0.096013</td>\n",
              "      <td>0.321468</td>\n",
              "      <td>0.649350</td>\n",
              "      <td>-0.477162</td>\n",
              "      <td>SLOW</td>\n",
              "      <td>3583790</td>\n",
              "    </tr>\n",
              "    <tr>\n",
              "      <th>3641</th>\n",
              "      <td>-0.222845</td>\n",
              "      <td>0.747304</td>\n",
              "      <td>-0.887430</td>\n",
              "      <td>0.361174</td>\n",
              "      <td>-0.406836</td>\n",
              "      <td>0.054291</td>\n",
              "      <td>SLOW</td>\n",
              "      <td>3583790</td>\n",
              "    </tr>\n",
              "    <tr>\n",
              "      <th>3642</th>\n",
              "      <td>-0.349423</td>\n",
              "      <td>0.067261</td>\n",
              "      <td>0.394368</td>\n",
              "      <td>-0.132405</td>\n",
              "      <td>0.020159</td>\n",
              "      <td>-0.004963</td>\n",
              "      <td>SLOW</td>\n",
              "      <td>3583791</td>\n",
              "    </tr>\n",
              "    <tr>\n",
              "      <th>3643</th>\n",
              "      <td>-0.402428</td>\n",
              "      <td>0.406218</td>\n",
              "      <td>-0.423009</td>\n",
              "      <td>-0.053603</td>\n",
              "      <td>-0.006720</td>\n",
              "      <td>0.001145</td>\n",
              "      <td>SLOW</td>\n",
              "      <td>3583791</td>\n",
              "    </tr>\n",
              "  </tbody>\n",
              "</table>\n",
              "<p>3644 rows × 8 columns</p>\n",
              "</div>\n",
              "      <button class=\"colab-df-convert\" onclick=\"convertToInteractive('df-bb5252df-aa4a-432c-b210-5d469cacefa1')\"\n",
              "              title=\"Convert this dataframe to an interactive table.\"\n",
              "              style=\"display:none;\">\n",
              "        \n",
              "  <svg xmlns=\"http://www.w3.org/2000/svg\" height=\"24px\"viewBox=\"0 0 24 24\"\n",
              "       width=\"24px\">\n",
              "    <path d=\"M0 0h24v24H0V0z\" fill=\"none\"/>\n",
              "    <path d=\"M18.56 5.44l.94 2.06.94-2.06 2.06-.94-2.06-.94-.94-2.06-.94 2.06-2.06.94zm-11 1L8.5 8.5l.94-2.06 2.06-.94-2.06-.94L8.5 2.5l-.94 2.06-2.06.94zm10 10l.94 2.06.94-2.06 2.06-.94-2.06-.94-.94-2.06-.94 2.06-2.06.94z\"/><path d=\"M17.41 7.96l-1.37-1.37c-.4-.4-.92-.59-1.43-.59-.52 0-1.04.2-1.43.59L10.3 9.45l-7.72 7.72c-.78.78-.78 2.05 0 2.83L4 21.41c.39.39.9.59 1.41.59.51 0 1.02-.2 1.41-.59l7.78-7.78 2.81-2.81c.8-.78.8-2.07 0-2.86zM5.41 20L4 18.59l7.72-7.72 1.47 1.35L5.41 20z\"/>\n",
              "  </svg>\n",
              "      </button>\n",
              "      \n",
              "  <style>\n",
              "    .colab-df-container {\n",
              "      display:flex;\n",
              "      flex-wrap:wrap;\n",
              "      gap: 12px;\n",
              "    }\n",
              "\n",
              "    .colab-df-convert {\n",
              "      background-color: #E8F0FE;\n",
              "      border: none;\n",
              "      border-radius: 50%;\n",
              "      cursor: pointer;\n",
              "      display: none;\n",
              "      fill: #1967D2;\n",
              "      height: 32px;\n",
              "      padding: 0 0 0 0;\n",
              "      width: 32px;\n",
              "    }\n",
              "\n",
              "    .colab-df-convert:hover {\n",
              "      background-color: #E2EBFA;\n",
              "      box-shadow: 0px 1px 2px rgba(60, 64, 67, 0.3), 0px 1px 3px 1px rgba(60, 64, 67, 0.15);\n",
              "      fill: #174EA6;\n",
              "    }\n",
              "\n",
              "    [theme=dark] .colab-df-convert {\n",
              "      background-color: #3B4455;\n",
              "      fill: #D2E3FC;\n",
              "    }\n",
              "\n",
              "    [theme=dark] .colab-df-convert:hover {\n",
              "      background-color: #434B5C;\n",
              "      box-shadow: 0px 1px 3px 1px rgba(0, 0, 0, 0.15);\n",
              "      filter: drop-shadow(0px 1px 2px rgba(0, 0, 0, 0.3));\n",
              "      fill: #FFFFFF;\n",
              "    }\n",
              "  </style>\n",
              "\n",
              "      <script>\n",
              "        const buttonEl =\n",
              "          document.querySelector('#df-bb5252df-aa4a-432c-b210-5d469cacefa1 button.colab-df-convert');\n",
              "        buttonEl.style.display =\n",
              "          google.colab.kernel.accessAllowed ? 'block' : 'none';\n",
              "\n",
              "        async function convertToInteractive(key) {\n",
              "          const element = document.querySelector('#df-bb5252df-aa4a-432c-b210-5d469cacefa1');\n",
              "          const dataTable =\n",
              "            await google.colab.kernel.invokeFunction('convertToInteractive',\n",
              "                                                     [key], {});\n",
              "          if (!dataTable) return;\n",
              "\n",
              "          const docLinkHtml = 'Like what you see? Visit the ' +\n",
              "            '<a target=\"_blank\" href=https://colab.research.google.com/notebooks/data_table.ipynb>data table notebook</a>'\n",
              "            + ' to learn more about interactive tables.';\n",
              "          element.innerHTML = '';\n",
              "          dataTable['output_type'] = 'display_data';\n",
              "          await google.colab.output.renderOutput(dataTable, element);\n",
              "          const docLink = document.createElement('div');\n",
              "          docLink.innerHTML = docLinkHtml;\n",
              "          element.appendChild(docLink);\n",
              "        }\n",
              "      </script>\n",
              "    </div>\n",
              "  </div>\n",
              "  "
            ]
          },
          "metadata": {},
          "execution_count": 35
        }
      ]
    },
    {
      "cell_type": "code",
      "source": [
        "# Veremos también la cantidad de registros y variables que tenemos disponibles\n",
        "Nrows = t_train.shape[0]\n",
        "Ncols = t_train.shape[1]\n",
        "\n",
        "print(\"Number of persons (rows)  = {0:0d}\".format(Nrows))\n",
        "print(\"Number of variables(columns)   = {0:0d}\".format(Ncols))"
      ],
      "metadata": {
        "colab": {
          "base_uri": "https://localhost:8080/"
        },
        "id": "PQjobzM8AHWb",
        "outputId": "35d0051b-5a99-4438-f206-706c7ec77cb8"
      },
      "execution_count": 36,
      "outputs": [
        {
          "output_type": "stream",
          "name": "stdout",
          "text": [
            "Number of persons (rows)  = 3644\n",
            "Number of variables(columns)   = 8\n"
          ]
        }
      ]
    },
    {
      "cell_type": "code",
      "source": [
        "# Haremos un resúmen a grandes rasgos de la información disponible\n",
        "t_train.describe()"
      ],
      "metadata": {
        "colab": {
          "base_uri": "https://localhost:8080/",
          "height": 300
        },
        "id": "9lh41-k-AQcD",
        "outputId": "67a0be7e-40c3-4762-efb6-92d2c9c46b26"
      },
      "execution_count": 37,
      "outputs": [
        {
          "output_type": "execute_result",
          "data": {
            "text/plain": [
              "              AccX         AccY         AccZ        GyroX        GyroY  \\\n",
              "count  3644.000000  3644.000000  3644.000000  3644.000000  3644.000000   \n",
              "mean      0.040467    -0.073418     0.008271     0.001593    -0.001273   \n",
              "std       0.985653     0.903408     0.985061     0.066918     0.126205   \n",
              "min      -4.636523    -4.699795    -7.143998    -0.751822    -1.587028   \n",
              "25%      -0.550695    -0.592540    -0.558464    -0.028558    -0.053756   \n",
              "50%       0.003931    -0.080833     0.002262     0.001985    -0.001833   \n",
              "75%       0.595987     0.452401     0.556157     0.031918     0.051313   \n",
              "max       4.985548     4.245151     5.171739     0.849255     1.679879   \n",
              "\n",
              "             GyroZ     Timestamp  \n",
              "count  3644.000000  3.644000e+03  \n",
              "mean      0.007949  3.582707e+06  \n",
              "std       0.115687  6.421479e+02  \n",
              "min      -1.236468  3.581629e+06  \n",
              "25%      -0.029398  3.582121e+06  \n",
              "50%       0.002978  3.582702e+06  \n",
              "75%       0.040852  3.583270e+06  \n",
              "max       1.190500  3.583791e+06  "
            ],
            "text/html": [
              "\n",
              "  <div id=\"df-735313da-9ff7-4367-bfa5-82602f55fa6e\">\n",
              "    <div class=\"colab-df-container\">\n",
              "      <div>\n",
              "<style scoped>\n",
              "    .dataframe tbody tr th:only-of-type {\n",
              "        vertical-align: middle;\n",
              "    }\n",
              "\n",
              "    .dataframe tbody tr th {\n",
              "        vertical-align: top;\n",
              "    }\n",
              "\n",
              "    .dataframe thead th {\n",
              "        text-align: right;\n",
              "    }\n",
              "</style>\n",
              "<table border=\"1\" class=\"dataframe\">\n",
              "  <thead>\n",
              "    <tr style=\"text-align: right;\">\n",
              "      <th></th>\n",
              "      <th>AccX</th>\n",
              "      <th>AccY</th>\n",
              "      <th>AccZ</th>\n",
              "      <th>GyroX</th>\n",
              "      <th>GyroY</th>\n",
              "      <th>GyroZ</th>\n",
              "      <th>Timestamp</th>\n",
              "    </tr>\n",
              "  </thead>\n",
              "  <tbody>\n",
              "    <tr>\n",
              "      <th>count</th>\n",
              "      <td>3644.000000</td>\n",
              "      <td>3644.000000</td>\n",
              "      <td>3644.000000</td>\n",
              "      <td>3644.000000</td>\n",
              "      <td>3644.000000</td>\n",
              "      <td>3644.000000</td>\n",
              "      <td>3.644000e+03</td>\n",
              "    </tr>\n",
              "    <tr>\n",
              "      <th>mean</th>\n",
              "      <td>0.040467</td>\n",
              "      <td>-0.073418</td>\n",
              "      <td>0.008271</td>\n",
              "      <td>0.001593</td>\n",
              "      <td>-0.001273</td>\n",
              "      <td>0.007949</td>\n",
              "      <td>3.582707e+06</td>\n",
              "    </tr>\n",
              "    <tr>\n",
              "      <th>std</th>\n",
              "      <td>0.985653</td>\n",
              "      <td>0.903408</td>\n",
              "      <td>0.985061</td>\n",
              "      <td>0.066918</td>\n",
              "      <td>0.126205</td>\n",
              "      <td>0.115687</td>\n",
              "      <td>6.421479e+02</td>\n",
              "    </tr>\n",
              "    <tr>\n",
              "      <th>min</th>\n",
              "      <td>-4.636523</td>\n",
              "      <td>-4.699795</td>\n",
              "      <td>-7.143998</td>\n",
              "      <td>-0.751822</td>\n",
              "      <td>-1.587028</td>\n",
              "      <td>-1.236468</td>\n",
              "      <td>3.581629e+06</td>\n",
              "    </tr>\n",
              "    <tr>\n",
              "      <th>25%</th>\n",
              "      <td>-0.550695</td>\n",
              "      <td>-0.592540</td>\n",
              "      <td>-0.558464</td>\n",
              "      <td>-0.028558</td>\n",
              "      <td>-0.053756</td>\n",
              "      <td>-0.029398</td>\n",
              "      <td>3.582121e+06</td>\n",
              "    </tr>\n",
              "    <tr>\n",
              "      <th>50%</th>\n",
              "      <td>0.003931</td>\n",
              "      <td>-0.080833</td>\n",
              "      <td>0.002262</td>\n",
              "      <td>0.001985</td>\n",
              "      <td>-0.001833</td>\n",
              "      <td>0.002978</td>\n",
              "      <td>3.582702e+06</td>\n",
              "    </tr>\n",
              "    <tr>\n",
              "      <th>75%</th>\n",
              "      <td>0.595987</td>\n",
              "      <td>0.452401</td>\n",
              "      <td>0.556157</td>\n",
              "      <td>0.031918</td>\n",
              "      <td>0.051313</td>\n",
              "      <td>0.040852</td>\n",
              "      <td>3.583270e+06</td>\n",
              "    </tr>\n",
              "    <tr>\n",
              "      <th>max</th>\n",
              "      <td>4.985548</td>\n",
              "      <td>4.245151</td>\n",
              "      <td>5.171739</td>\n",
              "      <td>0.849255</td>\n",
              "      <td>1.679879</td>\n",
              "      <td>1.190500</td>\n",
              "      <td>3.583791e+06</td>\n",
              "    </tr>\n",
              "  </tbody>\n",
              "</table>\n",
              "</div>\n",
              "      <button class=\"colab-df-convert\" onclick=\"convertToInteractive('df-735313da-9ff7-4367-bfa5-82602f55fa6e')\"\n",
              "              title=\"Convert this dataframe to an interactive table.\"\n",
              "              style=\"display:none;\">\n",
              "        \n",
              "  <svg xmlns=\"http://www.w3.org/2000/svg\" height=\"24px\"viewBox=\"0 0 24 24\"\n",
              "       width=\"24px\">\n",
              "    <path d=\"M0 0h24v24H0V0z\" fill=\"none\"/>\n",
              "    <path d=\"M18.56 5.44l.94 2.06.94-2.06 2.06-.94-2.06-.94-.94-2.06-.94 2.06-2.06.94zm-11 1L8.5 8.5l.94-2.06 2.06-.94-2.06-.94L8.5 2.5l-.94 2.06-2.06.94zm10 10l.94 2.06.94-2.06 2.06-.94-2.06-.94-.94-2.06-.94 2.06-2.06.94z\"/><path d=\"M17.41 7.96l-1.37-1.37c-.4-.4-.92-.59-1.43-.59-.52 0-1.04.2-1.43.59L10.3 9.45l-7.72 7.72c-.78.78-.78 2.05 0 2.83L4 21.41c.39.39.9.59 1.41.59.51 0 1.02-.2 1.41-.59l7.78-7.78 2.81-2.81c.8-.78.8-2.07 0-2.86zM5.41 20L4 18.59l7.72-7.72 1.47 1.35L5.41 20z\"/>\n",
              "  </svg>\n",
              "      </button>\n",
              "      \n",
              "  <style>\n",
              "    .colab-df-container {\n",
              "      display:flex;\n",
              "      flex-wrap:wrap;\n",
              "      gap: 12px;\n",
              "    }\n",
              "\n",
              "    .colab-df-convert {\n",
              "      background-color: #E8F0FE;\n",
              "      border: none;\n",
              "      border-radius: 50%;\n",
              "      cursor: pointer;\n",
              "      display: none;\n",
              "      fill: #1967D2;\n",
              "      height: 32px;\n",
              "      padding: 0 0 0 0;\n",
              "      width: 32px;\n",
              "    }\n",
              "\n",
              "    .colab-df-convert:hover {\n",
              "      background-color: #E2EBFA;\n",
              "      box-shadow: 0px 1px 2px rgba(60, 64, 67, 0.3), 0px 1px 3px 1px rgba(60, 64, 67, 0.15);\n",
              "      fill: #174EA6;\n",
              "    }\n",
              "\n",
              "    [theme=dark] .colab-df-convert {\n",
              "      background-color: #3B4455;\n",
              "      fill: #D2E3FC;\n",
              "    }\n",
              "\n",
              "    [theme=dark] .colab-df-convert:hover {\n",
              "      background-color: #434B5C;\n",
              "      box-shadow: 0px 1px 3px 1px rgba(0, 0, 0, 0.15);\n",
              "      filter: drop-shadow(0px 1px 2px rgba(0, 0, 0, 0.3));\n",
              "      fill: #FFFFFF;\n",
              "    }\n",
              "  </style>\n",
              "\n",
              "      <script>\n",
              "        const buttonEl =\n",
              "          document.querySelector('#df-735313da-9ff7-4367-bfa5-82602f55fa6e button.colab-df-convert');\n",
              "        buttonEl.style.display =\n",
              "          google.colab.kernel.accessAllowed ? 'block' : 'none';\n",
              "\n",
              "        async function convertToInteractive(key) {\n",
              "          const element = document.querySelector('#df-735313da-9ff7-4367-bfa5-82602f55fa6e');\n",
              "          const dataTable =\n",
              "            await google.colab.kernel.invokeFunction('convertToInteractive',\n",
              "                                                     [key], {});\n",
              "          if (!dataTable) return;\n",
              "\n",
              "          const docLinkHtml = 'Like what you see? Visit the ' +\n",
              "            '<a target=\"_blank\" href=https://colab.research.google.com/notebooks/data_table.ipynb>data table notebook</a>'\n",
              "            + ' to learn more about interactive tables.';\n",
              "          element.innerHTML = '';\n",
              "          dataTable['output_type'] = 'display_data';\n",
              "          await google.colab.output.renderOutput(dataTable, element);\n",
              "          const docLink = document.createElement('div');\n",
              "          docLink.innerHTML = docLinkHtml;\n",
              "          element.appendChild(docLink);\n",
              "        }\n",
              "      </script>\n",
              "    </div>\n",
              "  </div>\n",
              "  "
            ]
          },
          "metadata": {},
          "execution_count": 37
        }
      ]
    },
    {
      "cell_type": "code",
      "source": [
        "# Mostraremos el tipo de dato de cada variable de la bd\n",
        "t_train.dtypes"
      ],
      "metadata": {
        "colab": {
          "base_uri": "https://localhost:8080/"
        },
        "id": "t2OVp890AYKp",
        "outputId": "d9573b9f-2f81-4671-e20c-93d509160a2c"
      },
      "execution_count": 38,
      "outputs": [
        {
          "output_type": "execute_result",
          "data": {
            "text/plain": [
              "AccX         float64\n",
              "AccY         float64\n",
              "AccZ         float64\n",
              "GyroX        float64\n",
              "GyroY        float64\n",
              "GyroZ        float64\n",
              "Class         object\n",
              "Timestamp      int64\n",
              "dtype: object"
            ]
          },
          "metadata": {},
          "execution_count": 38
        }
      ]
    },
    {
      "cell_type": "code",
      "source": [
        "# Función para revisar que el dataset de training no tenga datos faltantes\n",
        "pd.isna(t_train).sum()"
      ],
      "metadata": {
        "colab": {
          "base_uri": "https://localhost:8080/"
        },
        "id": "_14S3A4Co71y",
        "outputId": "964173cb-8745-4643-8ee5-6ddee7fa47b6"
      },
      "execution_count": 39,
      "outputs": [
        {
          "output_type": "execute_result",
          "data": {
            "text/plain": [
              "AccX         0\n",
              "AccY         0\n",
              "AccZ         0\n",
              "GyroX        0\n",
              "GyroY        0\n",
              "GyroZ        0\n",
              "Class        0\n",
              "Timestamp    0\n",
              "dtype: int64"
            ]
          },
          "metadata": {},
          "execution_count": 39
        }
      ]
    },
    {
      "cell_type": "code",
      "source": [
        "# Función para revisar que el dataset de testing no tenga datos faltantes\n",
        "pd.isna(t_test).sum()"
      ],
      "metadata": {
        "colab": {
          "base_uri": "https://localhost:8080/"
        },
        "id": "PT6i3vPKpAph",
        "outputId": "6de88c1c-073d-4807-8739-bbd47f5f07b6"
      },
      "execution_count": 40,
      "outputs": [
        {
          "output_type": "execute_result",
          "data": {
            "text/plain": [
              "AccX         0\n",
              "AccY         0\n",
              "AccZ         0\n",
              "GyroX        0\n",
              "GyroY        0\n",
              "GyroZ        0\n",
              "Class        0\n",
              "Timestamp    0\n",
              "dtype: int64"
            ]
          },
          "metadata": {},
          "execution_count": 40
        }
      ]
    },
    {
      "cell_type": "code",
      "source": [
        "# Conteo de tipos de conductores\n",
        "plt.hist(t_train['Class'])\n",
        "plt.show()"
      ],
      "metadata": {
        "colab": {
          "base_uri": "https://localhost:8080/",
          "height": 265
        },
        "id": "YorGWD7Eva-n",
        "outputId": "e498631c-e58a-4f3a-e09e-240314dd0869"
      },
      "execution_count": 41,
      "outputs": [
        {
          "output_type": "display_data",
          "data": {
            "text/plain": [
              "<Figure size 432x288 with 1 Axes>"
            ],
            "image/png": "[encoded data removed]"
          },
          "metadata": {
            "needs_background": "light"
          }
        }
      ]
    },
    {
      "cell_type": "code",
      "source": [
        "import seaborn as sns\n",
        "sns.countplot('Class',data = t_train)\n",
        "plt.show()"
      ],
      "metadata": {
        "colab": {
          "base_uri": "https://localhost:8080/",
          "height": 334
        },
        "id": "QOPMM4E7xDIp",
        "outputId": "da571644-b831-4408-d2d2-aa8f9a434efb"
      },
      "execution_count": 42,
      "outputs": [
        {
          "output_type": "stream",
          "name": "stderr",
          "text": [
            "/usr/local/lib/python3.7/dist-packages/seaborn/_decorators.py:43: FutureWarning: Pass the following variable as a keyword arg: x. From version 0.12, the only valid positional argument will be `data`, and passing other arguments without an explicit keyword will result in an error or misinterpretation.\n",
            "  FutureWarning\n"
          ]
        },
        {
          "output_type": "display_data",
          "data": {
            "text/plain": [
              "<Figure size 432x288 with 1 Axes>"
            ],
            "image/png": "[encoded data removed]"
          },
          "metadata": {
            "needs_background": "light"
          }
        }
      ]
    },
    {
      "cell_type": "code",
      "source": [
        "# Calcularemos la correlación entre las variables\n",
        "ax = sns.heatmap(t_train.corr(), annot=True).set(title='Pearson Correlations');"
      ],
      "metadata": {
        "colab": {
          "base_uri": "https://localhost:8080/",
          "height": 327
        },
        "id": "xpW_aFaPBApk",
        "outputId": "17d3fb90-5c07-4090-a039-54340715f7dc"
      },
      "execution_count": 43,
      "outputs": [
        {
          "output_type": "display_data",
          "data": {
            "text/plain": [
              "<Figure size 432x288 with 2 Axes>"
            ],
            "image/png": "[encoded data removed]"
          },
          "metadata": {
            "needs_background": "light"
          }
        }
      ]
    },
    {
      "cell_type": "code",
      "source": [
        "# Clasificaremos nuestras variables conforme al tipo de conductor\n",
        "t_trainSlow = t_train[t_train['Class']=='SLOW']\n",
        "t_trainNormal = t_train[t_train['Class']=='NORMAL']\n",
        "t_trainAggressive = t_train[t_train['Class']=='AGGRESSIVE']"
      ],
      "metadata": {
        "id": "y-yyq3xP3VsS"
      },
      "execution_count": 44,
      "outputs": []
    },
    {
      "cell_type": "code",
      "source": [
        "# Relizaremos diagramas de cajas y bigotes para conocer los valores atipicos\n",
        "sns.boxplot(t_train['AccX'],y=t_train['Class'])"
      ],
      "metadata": {
        "colab": {
          "base_uri": "https://localhost:8080/",
          "height": 351
        },
        "id": "V6PESHoqpDq9",
        "outputId": "2ae2e972-778e-499e-9a49-9b73d7006cdf"
      },
      "execution_count": 45,
      "outputs": [
        {
          "output_type": "stream",
          "name": "stderr",
          "text": [
            "/usr/local/lib/python3.7/dist-packages/seaborn/_decorators.py:43: FutureWarning: Pass the following variable as a keyword arg: x. From version 0.12, the only valid positional argument will be `data`, and passing other arguments without an explicit keyword will result in an error or misinterpretation.\n",
            "  FutureWarning\n"
          ]
        },
        {
          "output_type": "execute_result",
          "data": {
            "text/plain": [
              "<matplotlib.axes._subplots.AxesSubplot at 0x7f6dd9bca190>"
            ]
          },
          "metadata": {},
          "execution_count": 45
        },
        {
          "output_type": "display_data",
          "data": {
            "text/plain": [
              "<Figure size 432x288 with 1 Axes>"
            ],
            "image/png": "[encoded data removed]"
          },
          "metadata": {
            "needs_background": "light"
          }
        }
      ]
    },
    {
      "cell_type": "code",
      "source": [
        "sns.boxplot(t_train['AccY'],y=t_train['Class'])"
      ],
      "metadata": {
        "colab": {
          "base_uri": "https://localhost:8080/",
          "height": 351
        },
        "id": "9XjPlDso41uj",
        "outputId": "8d3e0599-b677-4432-af99-88d2e5d666f9"
      },
      "execution_count": 46,
      "outputs": [
        {
          "output_type": "stream",
          "name": "stderr",
          "text": [
            "/usr/local/lib/python3.7/dist-packages/seaborn/_decorators.py:43: FutureWarning: Pass the following variable as a keyword arg: x. From version 0.12, the only valid positional argument will be `data`, and passing other arguments without an explicit keyword will result in an error or misinterpretation.\n",
            "  FutureWarning\n"
          ]
        },
        {
          "output_type": "execute_result",
          "data": {
            "text/plain": [
              "<matplotlib.axes._subplots.AxesSubplot at 0x7f6dd6b3a390>"
            ]
          },
          "metadata": {},
          "execution_count": 46
        },
        {
          "output_type": "display_data",
          "data": {
            "text/plain": [
              "<Figure size 432x288 with 1 Axes>"
            ],
            "image/png": "[encoded data removed]"
          },
          "metadata": {
            "needs_background": "light"
          }
        }
      ]
    },
    {
      "cell_type": "code",
      "source": [
        "sns.boxplot(t_train['AccZ'],y=t_train['Class'])"
      ],
      "metadata": {
        "colab": {
          "base_uri": "https://localhost:8080/",
          "height": 351
        },
        "id": "XCC3mtEeqCO7",
        "outputId": "f38f8a0e-4bfd-4743-f605-9b41e616a992"
      },
      "execution_count": 47,
      "outputs": [
        {
          "output_type": "stream",
          "name": "stderr",
          "text": [
            "/usr/local/lib/python3.7/dist-packages/seaborn/_decorators.py:43: FutureWarning: Pass the following variable as a keyword arg: x. From version 0.12, the only valid positional argument will be `data`, and passing other arguments without an explicit keyword will result in an error or misinterpretation.\n",
            "  FutureWarning\n"
          ]
        },
        {
          "output_type": "execute_result",
          "data": {
            "text/plain": [
              "<matplotlib.axes._subplots.AxesSubplot at 0x7f6dd6a4dc10>"
            ]
          },
          "metadata": {},
          "execution_count": 47
        },
        {
          "output_type": "display_data",
          "data": {
            "text/plain": [
              "<Figure size 432x288 with 1 Axes>"
            ],
            "image/png": "[encoded data removed]"
          },
          "metadata": {
            "needs_background": "light"
          }
        }
      ]
    },
    {
      "cell_type": "code",
      "source": [
        "sns.boxplot(t_train['GyroX'],y=t_train['Class'])"
      ],
      "metadata": {
        "colab": {
          "base_uri": "https://localhost:8080/",
          "height": 351
        },
        "id": "DgbVbxH3qDNE",
        "outputId": "d12e6588-c7f1-4552-84f8-5a760b80728f"
      },
      "execution_count": 48,
      "outputs": [
        {
          "output_type": "stream",
          "name": "stderr",
          "text": [
            "/usr/local/lib/python3.7/dist-packages/seaborn/_decorators.py:43: FutureWarning: Pass the following variable as a keyword arg: x. From version 0.12, the only valid positional argument will be `data`, and passing other arguments without an explicit keyword will result in an error or misinterpretation.\n",
            "  FutureWarning\n"
          ]
        },
        {
          "output_type": "execute_result",
          "data": {
            "text/plain": [
              "<matplotlib.axes._subplots.AxesSubplot at 0x7f6dd69eca50>"
            ]
          },
          "metadata": {},
          "execution_count": 48
        },
        {
          "output_type": "display_data",
          "data": {
            "text/plain": [
              "<Figure size 432x288 with 1 Axes>"
            ],
            "image/png": "[encoded data removed]"
          },
          "metadata": {
            "needs_background": "light"
          }
        }
      ]
    },
    {
      "cell_type": "code",
      "source": [
        "sns.boxplot(t_train['GyroY'],y=t_train['Class'])"
      ],
      "metadata": {
        "colab": {
          "base_uri": "https://localhost:8080/",
          "height": 351
        },
        "id": "zN4tWo76pmuD",
        "outputId": "307618a3-5131-40b2-9521-22c98082119d"
      },
      "execution_count": 49,
      "outputs": [
        {
          "output_type": "stream",
          "name": "stderr",
          "text": [
            "/usr/local/lib/python3.7/dist-packages/seaborn/_decorators.py:43: FutureWarning: Pass the following variable as a keyword arg: x. From version 0.12, the only valid positional argument will be `data`, and passing other arguments without an explicit keyword will result in an error or misinterpretation.\n",
            "  FutureWarning\n"
          ]
        },
        {
          "output_type": "execute_result",
          "data": {
            "text/plain": [
              "<matplotlib.axes._subplots.AxesSubplot at 0x7f6dd6919610>"
            ]
          },
          "metadata": {},
          "execution_count": 49
        },
        {
          "output_type": "display_data",
          "data": {
            "text/plain": [
              "<Figure size 432x288 with 1 Axes>"
            ],
            "image/png": "[encoded data removed]"
          },
          "metadata": {
            "needs_background": "light"
          }
        }
      ]
    },
    {
      "cell_type": "code",
      "source": [
        "sns.boxplot(t_train['GyroZ'],y=t_train['Class'])"
      ],
      "metadata": {
        "colab": {
          "base_uri": "https://localhost:8080/",
          "height": 351
        },
        "id": "qEXxJUQSOiO3",
        "outputId": "ecb2e0cf-bc90-427c-d0f6-0d0ff0cfe855"
      },
      "execution_count": 50,
      "outputs": [
        {
          "output_type": "stream",
          "name": "stderr",
          "text": [
            "/usr/local/lib/python3.7/dist-packages/seaborn/_decorators.py:43: FutureWarning: Pass the following variable as a keyword arg: x. From version 0.12, the only valid positional argument will be `data`, and passing other arguments without an explicit keyword will result in an error or misinterpretation.\n",
            "  FutureWarning\n"
          ]
        },
        {
          "output_type": "execute_result",
          "data": {
            "text/plain": [
              "<matplotlib.axes._subplots.AxesSubplot at 0x7f6dd68c0250>"
            ]
          },
          "metadata": {},
          "execution_count": 50
        },
        {
          "output_type": "display_data",
          "data": {
            "text/plain": [
              "<Figure size 432x288 with 1 Axes>"
            ],
            "image/png": "[encoded data removed]"
          },
          "metadata": {
            "needs_background": "light"
          }
        }
      ]
    },
    {
      "cell_type": "markdown",
      "source": [
        "En el caso de nuestra base de datos para training, no tenemos datos nulos ni que parezcan ser erroneos. Tenemos varios datos que se consideran outliers al revisar los boxplots por clases, estos datos no se eliminaran debido a la naturaleza del problema."
      ],
      "metadata": {
        "id": "9vSF4GaQRYRX"
      }
    }
  ]
}